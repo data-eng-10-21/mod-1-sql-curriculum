{
 "cells": [
  {
   "cell_type": "markdown",
   "metadata": {},
   "source": [
    "# Creating Tables Lab"
   ]
  },
  {
   "cell_type": "markdown",
   "metadata": {},
   "source": [
    "### Introduction"
   ]
  },
  {
   "cell_type": "markdown",
   "metadata": {},
   "source": [
    "Mean green is a burgeoning salad shop that has been growing in popularity since opening this past year.  It wants to use SQL to keep track of the ingredients it needs to order, and what is involved in each salad.  Let's help them get started by creating a couple of tables in their database."
   ]
  },
  {
   "cell_type": "markdown",
   "metadata": {},
   "source": [
    "#### Data Types\n",
    "\n",
    "* moved datatypes section to here\n",
    "* officially introduce new datatypes like `datetime`\n",
    "\n",
    "\n",
    "So far we have only worked with two of the most common datatypes: Integer and Text.  You can view a list of other common data types [here](https://www.w3schools.com/sql/sql_datatypes.asp). When determining what data type to use for a column, we need to think not just about what the data represents (i.e. a number), but also how we may want to manipulate and organize that data. Our name column really only has one data type that would work, TEXT. But it isn't always this simple. For example, our column phone_number is being stored as TEXT, but it could also be stored as an integer. Storing data as an integer could be helpful if we wanted to compare the size of integers, or if we wanted to perform certain mathematical calculations on the data (i.e. the mean). Since we don't compare phone numbers in that way (we probably aren't interested in the average phone number or the sum of phone numbers), in this case, it makes more sense to store it as text."
   ]
  },
  {
   "cell_type": "markdown",
   "metadata": {},
   "source": [
    "### Creating an Ingredients Table"
   ]
  },
  {
   "cell_type": "markdown",
   "metadata": {},
   "source": [
    "* Ingredient Name\n",
    "* Cost per ounce\n",
    "* Calories per ounce"
   ]
  },
  {
   "cell_type": "markdown",
   "metadata": {},
   "source": [
    "Look at `.tables` to ensure that created correctly"
   ]
  },
  {
   "cell_type": "markdown",
   "metadata": {},
   "source": [
    "### Creating an employees table"
   ]
  },
  {
   "cell_type": "markdown",
   "metadata": {},
   "source": [
    "* Use as (zip code, phone number) opportunity to talk about datatypes in a database and that datatypes can be chosen by the operation we want to perform."
   ]
  },
  {
   "cell_type": "markdown",
   "metadata": {},
   "source": [
    "* Employee name\n",
    "* Employee position\n",
    "* Employee start date\n",
    "* Employee home zip code\n",
    "* Employee phone number"
   ]
  },
  {
   "cell_type": "markdown",
   "metadata": {},
   "source": [
    "### Conclusion"
   ]
  },
  {
   "cell_type": "code",
   "execution_count": null,
   "metadata": {},
   "outputs": [],
   "source": []
  }
 ],
 "metadata": {
  "kernelspec": {
   "display_name": "Python 3",
   "language": "python",
   "name": "python3"
  },
  "language_info": {
   "codemirror_mode": {
    "name": "ipython",
    "version": 3
   },
   "file_extension": ".py",
   "mimetype": "text/x-python",
   "name": "python",
   "nbconvert_exporter": "python",
   "pygments_lexer": "ipython3",
   "version": "3.7.3"
  }
 },
 "nbformat": 4,
 "nbformat_minor": 2
}
