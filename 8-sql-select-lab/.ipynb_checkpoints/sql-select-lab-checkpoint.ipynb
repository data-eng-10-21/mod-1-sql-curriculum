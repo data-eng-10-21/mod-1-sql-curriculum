{
 "cells": [
  {
   "cell_type": "markdown",
   "metadata": {},
   "source": [
    "# Select SQL Lab"
   ]
  },
  {
   "cell_type": "markdown",
   "metadata": {},
   "source": [
    "### Introduction\n",
    "We've learned all the basics about setting up our SQL database, creating tables, and inserting data. In this lab we will practice querying the data from our salad shop database using `SELECT` statements."
   ]
  },
  {
   "cell_type": "markdown",
   "metadata": {},
   "source": [
    "### Setup"
   ]
  },
  {
   "cell_type": "markdown",
   "metadata": {},
   "source": [
    "To begin, we will set up our database and populate the tables as we have done in previous labs. In your terminal, run `sqlite3 saladshop.db` to connect with the database and enter the sqlite shell. Then, run the following commands within the sqlite shell to get our database ready to go.\n",
    "\n",
    "`.read create_employees.sql`\n",
    "\n",
    "`.read create_ingredients.sql`\n",
    "\n",
    "`.read insert_employees.sql`\n",
    "\n",
    "`.read insert_ingredients.sql`\n",
    "\n",
    "\n",
    "To make sure it has been set up correctly, you can view all the data in the tables by running:\n",
    "\n",
    "`SELECT * FROM employees;` which should return all the data in the employees table, or `SELECT * FROM ingredients;` which should return all the data in the ingredients table."
   ]
  },
  {
   "cell_type": "markdown",
   "metadata": {},
   "source": [
    "### Selecting data"
   ]
  },
  {
   "cell_type": "markdown",
   "metadata": {},
   "source": [
    "1. Selecting all from tables "
   ]
  },
  {
   "cell_type": "markdown",
   "metadata": {},
   "source": [
    "    * Select all employees\n",
    "    * Select all ingredients "
   ]
  },
  {
   "cell_type": "markdown",
   "metadata": {},
   "source": [
    "2. Selecting specific columns from tables"
   ]
  },
  {
   "cell_type": "markdown",
   "metadata": {},
   "source": [
    "    * Eg. just select name from ingredients\n",
    "    * Select name, startdate from employees"
   ]
  },
  {
   "cell_type": "markdown",
   "metadata": {},
   "source": [
    "### Scoping data "
   ]
  },
  {
   "cell_type": "markdown",
   "metadata": {},
   "source": [
    "*  SELECT FROM employees WHERE name = ?"
   ]
  },
  {
   "cell_type": "code",
   "execution_count": null,
   "metadata": {},
   "outputs": [],
   "source": [
    "* "
   ]
  },
  {
   "cell_type": "markdown",
   "metadata": {},
   "source": [
    "* Select from employees where start_date > "
   ]
  },
  {
   "cell_type": "markdown",
   "metadata": {},
   "source": [
    "* Select from ingredients where cost < 4 AND calories < 50  \n",
    "    * Point is to use an AND clause"
   ]
  },
  {
   "cell_type": "markdown",
   "metadata": {},
   "source": [
    "*  SELECT FROM employees WHERE zipcode = ? or zipcode = ?"
   ]
  }
 ],
 "metadata": {
  "kernelspec": {
   "display_name": "Python 3",
   "language": "python",
   "name": "python3"
  },
  "language_info": {
   "codemirror_mode": {
    "name": "ipython",
    "version": 3
   },
   "file_extension": ".py",
   "mimetype": "text/x-python",
   "name": "python",
   "nbconvert_exporter": "python",
   "pygments_lexer": "ipython3",
   "version": "3.7.1"
  }
 },
 "nbformat": 4,
 "nbformat_minor": 2
}
