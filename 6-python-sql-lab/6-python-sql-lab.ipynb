{
 "cells": [
  {
   "cell_type": "markdown",
   "metadata": {},
   "source": [
    "# Python SQL Lab"
   ]
  },
  {
   "cell_type": "markdown",
   "metadata": {},
   "source": [
    "### Introduction\n",
    "In this lab we will practice using the *Python library* called `sqlite3` to execute our SQL calls. This library makes it easy for us to connect to and analyze data in a SQL database within a Python environment."
   ]
  },
  {
   "cell_type": "markdown",
   "metadata": {},
   "source": [
    "### Setup"
   ]
  },
  {
   "cell_type": "markdown",
   "metadata": {},
   "source": [
    "Before getting started with the `sqlite3` library, let's get recreate the salad shop database from previous labs. For this part, lets continue using the terminal and sqlite shell to run the sql scripts that have been provided for you.\n",
    "Begin by running the command `sqlite3 saladshop.db` and then run the following within the sqlite shell:\n",
    "\n",
    "`.read create_employees.sql`\n",
    "\n",
    "`.read create_ingredients.sql`\n",
    "\n",
    "`.read insert_employees.sql`\n",
    "\n",
    "`.read insert_ingredients.sql`\n",
    "\n",
    "\n",
    "To make sure it has been set up correctly, you can view all the data in the tables by running:\n",
    "\n",
    "`SELECT * FROM employees;` or `SELECT * FROM ingredients;`"
   ]
  },
  {
   "cell_type": "markdown",
   "metadata": {},
   "source": [
    "### Getting our library ready"
   ]
  },
  {
   "cell_type": "markdown",
   "metadata": {},
   "source": [
    "* First import the necessary pip library"
   ]
  },
  {
   "cell_type": "code",
   "execution_count": 2,
   "metadata": {},
   "outputs": [],
   "source": [
    "# import sqlite3"
   ]
  },
  {
   "cell_type": "markdown",
   "metadata": {},
   "source": [
    "* Then use the sqlite3 library to connect to the created database "
   ]
  },
  {
   "cell_type": "code",
   "execution_count": null,
   "metadata": {},
   "outputs": [],
   "source": [
    "# conn = sqlite3.connect('example.db')"
   ]
  },
  {
   "cell_type": "markdown",
   "metadata": {},
   "source": [
    "Finally, create a cursor so that we are ready to call different sql commands on our database."
   ]
  },
  {
   "cell_type": "code",
   "execution_count": null,
   "metadata": {},
   "outputs": [],
   "source": [
    "# cursor = conn.cursor()"
   ]
  },
  {
   "cell_type": "markdown",
   "metadata": {},
   "source": [
    "### Executing sql"
   ]
  },
  {
   "cell_type": "markdown",
   "metadata": {},
   "source": [
    "Use the sqlite3 python library to select all of the employees in the database."
   ]
  },
  {
   "cell_type": "code",
   "execution_count": null,
   "metadata": {},
   "outputs": [],
   "source": [
    "statement = 'select * from employees;'"
   ]
  }
 ],
 "metadata": {
  "kernelspec": {
   "display_name": "Python 3",
   "language": "python",
   "name": "python3"
  },
  "language_info": {
   "codemirror_mode": {
    "name": "ipython",
    "version": 3
   },
   "file_extension": ".py",
   "mimetype": "text/x-python",
   "name": "python",
   "nbconvert_exporter": "python",
   "pygments_lexer": "ipython3",
   "version": "3.7.1"
  }
 },
 "nbformat": 4,
 "nbformat_minor": 2
}
