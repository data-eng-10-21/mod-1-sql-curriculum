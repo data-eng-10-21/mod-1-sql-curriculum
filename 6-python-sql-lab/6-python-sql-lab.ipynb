{
 "cells": [
  {
   "cell_type": "markdown",
   "metadata": {},
   "source": [
    "# Python SQL Lab"
   ]
  },
  {
   "cell_type": "markdown",
   "metadata": {},
   "source": [
    "### Introduction\n",
    "In this lab we will practice using the *Python library* called `sqlite3` to execute our SQL calls. This library makes it easy for us to connect to and analyze data in a SQL database within a Python environment. We'll start out by setting up the database in the terminal as we have previously, then we will use the `sqlite3` library set up a connection with the library, create a cursor to call different sql commands, and then execute some sql statements using the cursor."
   ]
  },
  {
   "cell_type": "markdown",
   "metadata": {},
   "source": [
    "### Setup"
   ]
  },
  {
   "cell_type": "markdown",
   "metadata": {},
   "source": [
    "Before getting started with the `sqlite3` library, let's recreate the salad shop database from previous labs. For this part, lets continue using the terminal and sqlite shell to run the sql scripts that have been provided for you.\n",
    "Begin by running the command `sqlite3 saladshop.db` in the terminal and then run the following within the sqlite shell:\n",
    "\n",
    "`.read create_employees.sql`\n",
    "\n",
    "`.read create_ingredients.sql`\n",
    "\n",
    "`.read insert_employees.sql`\n",
    "\n",
    "`.read insert_ingredients.sql`\n",
    "\n",
    "\n",
    "To make sure it has been set up correctly, you can view all the data in the tables by running:\n",
    "\n",
    "`SELECT * FROM employees;` which should return all the data in the employees table, or `SELECT * FROM ingredients;` which should return all the data in the ingredients table."
   ]
  },
  {
   "cell_type": "markdown",
   "metadata": {},
   "source": [
    "### Getting our library ready"
   ]
  },
  {
   "cell_type": "markdown",
   "metadata": {},
   "source": [
    "* First import the necessary pip library"
   ]
  },
  {
   "cell_type": "code",
   "execution_count": 2,
   "metadata": {},
   "outputs": [],
   "source": [
    "# import sqlite3"
   ]
  },
  {
   "cell_type": "markdown",
   "metadata": {},
   "source": [
    "* Then use the sqlite3 library to connect to the created database "
   ]
  },
  {
   "cell_type": "code",
   "execution_count": null,
   "metadata": {},
   "outputs": [],
   "source": [
    "# conn = sqlite3.connect('example.db')"
   ]
  },
  {
   "cell_type": "markdown",
   "metadata": {},
   "source": [
    "Finally, create a cursor so that we are ready to call different sql commands on our database."
   ]
  },
  {
   "cell_type": "code",
   "execution_count": null,
   "metadata": {},
   "outputs": [],
   "source": [
    "# cursor = conn.cursor()"
   ]
  },
  {
   "cell_type": "markdown",
   "metadata": {},
   "source": [
    "### Executing sql"
   ]
  },
  {
   "cell_type": "markdown",
   "metadata": {},
   "source": [
    "Use the sqlite3 python library to select all of the employees in the database."
   ]
  },
  {
   "cell_type": "code",
   "execution_count": null,
   "metadata": {},
   "outputs": [],
   "source": [
    "statement = 'SELECT * FROM employees;'"
   ]
  },
  {
   "cell_type": "markdown",
   "metadata": {},
   "source": [
    "Run the command in the cell below. It should return the employees table. Hint: This requires two commands, one using `cursor.execute()` followed by `cursor.fetchall()`"
   ]
  },
  {
   "cell_type": "code",
   "execution_count": null,
   "metadata": {},
   "outputs": [],
   "source": []
  },
  {
   "cell_type": "markdown",
   "metadata": {},
   "source": [
    "Use the sqlite3 python library to select all of the ingredients in the database."
   ]
  },
  {
   "cell_type": "code",
   "execution_count": null,
   "metadata": {},
   "outputs": [],
   "source": [
    "statement = 'SELECT * FROM ingredients'"
   ]
  },
  {
   "cell_type": "markdown",
   "metadata": {},
   "source": [
    "Run the command in the cell below. It should return the ingredients table."
   ]
  },
  {
   "cell_type": "code",
   "execution_count": null,
   "metadata": {},
   "outputs": [],
   "source": []
  }
 ],
 "metadata": {
  "kernelspec": {
   "display_name": "Python 3",
   "language": "python",
   "name": "python3"
  },
  "language_info": {
   "codemirror_mode": {
    "name": "ipython",
    "version": 3
   },
   "file_extension": ".py",
   "mimetype": "text/x-python",
   "name": "python",
   "nbconvert_exporter": "python",
   "pygments_lexer": "ipython3",
   "version": "3.7.1"
  }
 },
 "nbformat": 4,
 "nbformat_minor": 2
}
