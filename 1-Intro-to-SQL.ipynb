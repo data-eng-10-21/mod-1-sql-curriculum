{
 "cells": [
  {
   "cell_type": "markdown",
   "metadata": {},
   "source": [
    "# Intro to Relational Databases"
   ]
  },
  {
   "cell_type": "markdown",
   "metadata": {},
   "source": [
    "### Why SQL"
   ]
  },
  {
   "cell_type": "markdown",
   "metadata": {},
   "source": [
    "* Storing\n",
    "* Exceptionally popular"
   ]
  },
  {
   "cell_type": "markdown",
   "metadata": {},
   "source": [
    "### SQL vs Excel"
   ]
  },
  {
   "cell_type": "markdown",
   "metadata": {},
   "source": [
    "Now one way to learn about SQL is to compare it to some software that we have already used in our non-coding science life: namely excel.  If your not familiar with excel, that's ok we'll explore the concepts we need to know here.  "
   ]
  },
  {
   "cell_type": "markdown",
   "metadata": {},
   "source": [
    "Like SQL, excel is good for organizing, storing, and asking questions about our data.  Let's get started by using a google spreadsheet to organize some information.  Imagine that we run a barber shop, and we want to use to help us keep track of our customers and employees."
   ]
  },
  {
   "cell_type": "markdown",
   "metadata": {},
   "source": [
    "1. Model in excel\n",
    "\n",
    "    * Start with employees spreadsheet, and perhaps just a list of names, phone numbers, email\n",
    "    * And have `employees` on top of spreadsheet\n",
    "    * Have `customers` on different spreadsheet"
   ]
  },
  {
   "cell_type": "markdown",
   "metadata": {},
   "source": [
    "1. Correspond to sql\n",
    "    * Spreadsheet name -> table name \n",
    "    * Excel column name to spreadsheet column name\n",
    "    * Rows of data"
   ]
  },
  {
   "cell_type": "markdown",
   "metadata": {},
   "source": [
    "### Get started with SQL"
   ]
  },
  {
   "cell_type": "markdown",
   "metadata": {},
   "source": [
    "Lots of different relational database software that we can use, postgres, sql, sqlite.  They all work very similarly.  So we'll get started with SQLite3 as it's lightweight and easy to set up."
   ]
  },
  {
   "cell_type": "markdown",
   "metadata": {},
   "source": [
    "1. Show that nothing originally in folder \n",
    "\n",
    "2. Make new database\n",
    "`sqlite3`\n",
    "* database is the container for the rest of the tables, similar to how a sql doc holds different spreadsheets"
   ]
  },
  {
   "cell_type": "markdown",
   "metadata": {},
   "source": [
    "* `SQLite3 > database.db`\n",
    "\n",
    "* id doesn't mean anything, except that it's an identifier, so easy to change\n",
    "* two main datatypes, integer and text (also boolean, 0 or 1)\n",
    "\n",
    "```sql\n",
    "CREATE TABLE employees (id INTEGER PRIMARY KEY AUTOINCREMENT, name TEXT, phone number, );\n",
    "```\n",
    "\n",
    "    "
   ]
  },
  {
   "cell_type": "markdown",
   "metadata": {},
   "source": [
    "About the columns \n",
    "    * We choose integer vs text based on what operations we want to perform on the data\n",
    "    * "
   ]
  },
  {
   "cell_type": "markdown",
   "metadata": {},
   "source": [
    "`CREATE TABLE table_name (name type, name type);`"
   ]
  },
  {
   "cell_type": "markdown",
   "metadata": {},
   "source": [
    "* show that once create a table it's stored in the folder \n",
    "    * open folder, and see that .db file"
   ]
  },
  {
   "cell_type": "markdown",
   "metadata": {},
   "source": [
    "### Conventions"
   ]
  },
  {
   "cell_type": "markdown",
   "metadata": {},
   "source": [
    "* Table name is plural\n",
    "* "
   ]
  }
 ],
 "metadata": {
  "kernelspec": {
   "display_name": "Python 3",
   "language": "python",
   "name": "python3"
  },
  "language_info": {
   "codemirror_mode": {
    "name": "ipython",
    "version": 3
   },
   "file_extension": ".py",
   "mimetype": "text/x-python",
   "name": "python",
   "nbconvert_exporter": "python",
   "pygments_lexer": "ipython3",
   "version": "3.7.3"
  }
 },
 "nbformat": 4,
 "nbformat_minor": 2
}
