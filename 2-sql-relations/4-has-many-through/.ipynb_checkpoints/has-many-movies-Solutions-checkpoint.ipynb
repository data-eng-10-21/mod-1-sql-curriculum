{
 "cells": [
  {
   "cell_type": "markdown",
   "metadata": {},
   "source": [
    "# Has Many Movie Lab"
   ]
  },
  {
   "cell_type": "markdown",
   "metadata": {},
   "source": [
    "### Introduction\n",
    "In this lab we will continue to look at the \"Has-Many\" relationships in our data. The database we will be using during this lab contains information about a selection of movies and related entities such as actors, directors and writers. A movie entity will have relationships with actor, director, and writer entities. The actors, directors and writers will also have relationships with themselves (i.e. a director will have worked with many actors). In problems below, we will use our knowledge of these relationships to build SQL queries."
   ]
  },
  {
   "cell_type": "markdown",
   "metadata": {},
   "source": [
    "Let's begin by connecting to the database and reviewing the schema of the tables."
   ]
  },
  {
   "cell_type": "code",
   "execution_count": 2,
   "metadata": {},
   "outputs": [],
   "source": [
    "import sqlite3\n",
    "conn = sqlite3.connect('films.db')\n",
    "cursor = conn.cursor()"
   ]
  },
  {
   "cell_type": "code",
   "execution_count": 3,
   "metadata": {},
   "outputs": [
    {
     "data": {
      "text/plain": [
       "[('actors',),\n",
       " ('directors',),\n",
       " ('writers',),\n",
       " ('movies',),\n",
       " ('movie_actors',),\n",
       " ('movie_directors',),\n",
       " ('movie_writers',)]"
      ]
     },
     "execution_count": 3,
     "metadata": {},
     "output_type": "execute_result"
    }
   ],
   "source": [
    "cursor.execute('SELECT name from sqlite_master where type= \"table\"')\n",
    "cursor.fetchall()"
   ]
  },
  {
   "cell_type": "code",
   "execution_count": 4,
   "metadata": {},
   "outputs": [
    {
     "data": {
      "text/plain": [
       "[(0, 'id', 'INT', 0, None, 0),\n",
       " (1, 'title', 'TEXT', 0, None, 0),\n",
       " (2, 'studio', 'TEXT', 0, None, 0),\n",
       " (3, 'runtime', 'REAL', 0, None, 0),\n",
       " (4, 'description', 'TEXT', 0, None, 0),\n",
       " (5, 'release_date', 'NUM', 0, None, 0),\n",
       " (6, 'year', 'INT', 0, None, 0)]"
      ]
     },
     "execution_count": 4,
     "metadata": {},
     "output_type": "execute_result"
    }
   ],
   "source": [
    "cursor.execute('PRAGMA table_info(movies)')\n",
    "cursor.fetchall()"
   ]
  },
  {
   "cell_type": "code",
   "execution_count": 5,
   "metadata": {},
   "outputs": [
    {
     "data": {
      "text/plain": [
       "[(0, 'id', 'INTEGER', 0, None, 0), (1, 'name', 'TEXT', 0, None, 0)]"
      ]
     },
     "execution_count": 5,
     "metadata": {},
     "output_type": "execute_result"
    }
   ],
   "source": [
    "cursor.execute('PRAGMA table_info(actors)')\n",
    "cursor.fetchall()"
   ]
  },
  {
   "cell_type": "code",
   "execution_count": 6,
   "metadata": {},
   "outputs": [
    {
     "data": {
      "text/plain": [
       "[(0, 'id', 'INTEGER', 0, None, 0), (1, 'name', 'TEXT', 0, None, 0)]"
      ]
     },
     "execution_count": 6,
     "metadata": {},
     "output_type": "execute_result"
    }
   ],
   "source": [
    "cursor.execute('PRAGMA table_info(directors)')\n",
    "cursor.fetchall()"
   ]
  },
  {
   "cell_type": "code",
   "execution_count": 7,
   "metadata": {},
   "outputs": [
    {
     "data": {
      "text/plain": [
       "[(0, 'id', 'INTEGER', 0, None, 0), (1, 'name', 'TEXT', 0, None, 0)]"
      ]
     },
     "execution_count": 7,
     "metadata": {},
     "output_type": "execute_result"
    }
   ],
   "source": [
    "cursor.execute('PRAGMA table_info(writers)')\n",
    "cursor.fetchall()"
   ]
  },
  {
   "cell_type": "code",
   "execution_count": 8,
   "metadata": {},
   "outputs": [
    {
     "data": {
      "text/plain": [
       "[(0, 'id', 'INT', 0, None, 0),\n",
       " (1, 'movie_id', 'TEXT', 0, None, 0),\n",
       " (2, 'actor_id', 'TEXT', 0, None, 0)]"
      ]
     },
     "execution_count": 8,
     "metadata": {},
     "output_type": "execute_result"
    }
   ],
   "source": [
    "cursor.execute('PRAGMA table_info(movie_actors)')\n",
    "cursor.fetchall()"
   ]
  },
  {
   "cell_type": "code",
   "execution_count": 9,
   "metadata": {},
   "outputs": [
    {
     "data": {
      "text/plain": [
       "[(0, 'id', 'INT', 0, None, 0),\n",
       " (1, 'movie_id', 'INT', 0, None, 0),\n",
       " (2, 'director_id', 'INT', 0, None, 0)]"
      ]
     },
     "execution_count": 9,
     "metadata": {},
     "output_type": "execute_result"
    }
   ],
   "source": [
    "cursor.execute('PRAGMA table_info(movie_directors)')\n",
    "cursor.fetchall()"
   ]
  },
  {
   "cell_type": "code",
   "execution_count": 10,
   "metadata": {},
   "outputs": [
    {
     "data": {
      "text/plain": [
       "[(0, 'id', 'INT', 0, None, 0),\n",
       " (1, 'movie_id', 'INT', 0, None, 0),\n",
       " (2, 'writer_id', 'INT', 0, None, 0)]"
      ]
     },
     "execution_count": 10,
     "metadata": {},
     "output_type": "execute_result"
    }
   ],
   "source": [
    "cursor.execute('PRAGMA table_info(movie_writers)')\n",
    "cursor.fetchall()"
   ]
  },
  {
   "cell_type": "markdown",
   "metadata": {},
   "source": [
    "### Questions"
   ]
  },
  {
   "cell_type": "markdown",
   "metadata": {},
   "source": [
    "Let's start off with some basic one table queries:"
   ]
  },
  {
   "cell_type": "markdown",
   "metadata": {},
   "source": [
    "* What is the title, runtime, and id of the movie with the longest runtime?"
   ]
  },
  {
   "cell_type": "code",
   "execution_count": 11,
   "metadata": {},
   "outputs": [
    {
     "data": {
      "text/plain": [
       "[('Never Sleep Again: The Elm Street Legacy', 480.0, 11415)]"
      ]
     },
     "execution_count": 11,
     "metadata": {},
     "output_type": "execute_result"
    }
   ],
   "source": [
    "cursor.execute(\"\"\"\n",
    "SELECT title,\n",
    "       runtime,\n",
    "       id\n",
    "  FROM movies\n",
    " ORDER BY runtime DESC\n",
    " LIMIT 1;\n",
    "\"\"\")\n",
    "cursor.fetchall()"
   ]
  },
  {
   "cell_type": "markdown",
   "metadata": {},
   "source": [
    "* Using your answer from the previous question, how many actors were credited for the movie with the longest runtime? Hint: Use the COUNT function with the movie ID"
   ]
  },
  {
   "cell_type": "code",
   "execution_count": 12,
   "metadata": {},
   "outputs": [
    {
     "data": {
      "text/plain": [
       "[(6,)]"
      ]
     },
     "execution_count": 12,
     "metadata": {},
     "output_type": "execute_result"
    }
   ],
   "source": [
    "cursor.execute(\"\"\"\n",
    "SELECT COUNT( * ) \n",
    "  FROM movie_actors\n",
    " WHERE movie_id = 480;\n",
    "\n",
    "\"\"\")\n",
    "cursor.fetchall()"
   ]
  },
  {
   "cell_type": "markdown",
   "metadata": {},
   "source": [
    "* What was the shortest movie released in 2006?"
   ]
  },
  {
   "cell_type": "code",
   "execution_count": 13,
   "metadata": {},
   "outputs": [
    {
     "data": {
      "text/plain": [
       "[('The Guardian',)]"
      ]
     },
     "execution_count": 13,
     "metadata": {},
     "output_type": "execute_result"
    }
   ],
   "source": [
    "cursor.execute(\"\"\"\n",
    "SELECT title\n",
    "  FROM movies\n",
    " WHERE year = 2006\n",
    " ORDER BY runtime\n",
    " LIMIT 1;\n",
    "\"\"\")\n",
    "cursor.fetchall()"
   ]
  },
  {
   "cell_type": "markdown",
   "metadata": {},
   "source": [
    "### Has Many"
   ]
  },
  {
   "cell_type": "markdown",
   "metadata": {},
   "source": [
    "* What are the names of the actors in Toy Story? (movie ID is 3648)"
   ]
  },
  {
   "cell_type": "code",
   "execution_count": 16,
   "metadata": {},
   "outputs": [
    {
     "data": {
      "text/plain": [
       "[('Tom Hanks',),\n",
       " ('Jim Varney',),\n",
       " ('Wallace Shawn',),\n",
       " ('Don Rickles',),\n",
       " ('John Ratzenberger',),\n",
       " ('Tim Allen',)]"
      ]
     },
     "execution_count": 16,
     "metadata": {},
     "output_type": "execute_result"
    }
   ],
   "source": [
    "cursor.execute(\"\"\"\n",
    "SELECT a.name\n",
    "  FROM movie_actors AS ma\n",
    "       JOIN\n",
    "       actors AS a ON ma.actor_id = a.id\n",
    " WHERE ma.movie_id = 3648;\n",
    "\"\"\")\n",
    "cursor.fetchall()"
   ]
  },
  {
   "cell_type": "markdown",
   "metadata": {},
   "source": [
    "* What is the name of the director of Toy Story?"
   ]
  },
  {
   "cell_type": "code",
   "execution_count": 19,
   "metadata": {},
   "outputs": [
    {
     "data": {
      "text/plain": [
       "[('John Lasseter',)]"
      ]
     },
     "execution_count": 19,
     "metadata": {},
     "output_type": "execute_result"
    }
   ],
   "source": [
    "cursor.execute(\"\"\"\n",
    "SELECT d.name\n",
    "  FROM movie_directors AS md\n",
    "       JOIN\n",
    "       directors AS d ON md.director_id = d.id\n",
    " WHERE md.movie_id = 3648;\n",
    "\"\"\")\n",
    "cursor.fetchall()"
   ]
  },
  {
   "cell_type": "markdown",
   "metadata": {},
   "source": [
    "* What are the names of the writers of Toy Story?"
   ]
  },
  {
   "cell_type": "code",
   "execution_count": 21,
   "metadata": {},
   "outputs": [
    {
     "data": {
      "text/plain": [
       "[('Joss Whedon',), ('Joel Cohen',), ('Andrew Stanton',), ('Alec Sokolow',)]"
      ]
     },
     "execution_count": 21,
     "metadata": {},
     "output_type": "execute_result"
    }
   ],
   "source": [
    "cursor.execute(\"\"\"\n",
    "SELECT w.name\n",
    "  FROM movie_writers AS mw\n",
    "       JOIN\n",
    "       writers AS w ON mw.writer_id = w.id\n",
    " WHERE mw.movie_id = 3648;\n",
    "\"\"\")\n",
    "cursor.fetchall()"
   ]
  },
  {
   "cell_type": "markdown",
   "metadata": {},
   "source": [
    "* What is the name and actor id of the actor with the most credits in the database?"
   ]
  },
  {
   "cell_type": "code",
   "execution_count": 22,
   "metadata": {},
   "outputs": [
    {
     "data": {
      "text/plain": [
       "[('Robert De Niro', 429, 78)]"
      ]
     },
     "execution_count": 22,
     "metadata": {},
     "output_type": "execute_result"
    }
   ],
   "source": [
    "cursor.execute(\"\"\"\n",
    "SELECT a.name,\n",
    "       a.id,\n",
    "       COUNT( * ) \n",
    "  FROM movie_actors AS ma\n",
    "       JOIN\n",
    "       actors a ON ma.actor_id = a.id\n",
    " GROUP BY ma.actor_id\n",
    " ORDER BY COUNT( * ) DESC\n",
    " LIMIT 1;\n",
    "\"\"\")\n",
    "cursor.fetchall()"
   ]
  },
  {
   "cell_type": "markdown",
   "metadata": {},
   "source": [
    "* What are the titles of the movies the actor from the previous question has been in, after the year 2005?"
   ]
  },
  {
   "cell_type": "code",
   "execution_count": 23,
   "metadata": {},
   "outputs": [
    {
     "data": {
      "text/plain": [
       "[(\"New Year's Eve\",),\n",
       " ('Mr. Warmth: The Don Rickles Project',),\n",
       " ('Hands of Stone',),\n",
       " ('Last Vegas',),\n",
       " ('I Knew It Was You: Rediscovering John Cazale',),\n",
       " ('Stardust',),\n",
       " ('Killer Elite',),\n",
       " (\"Everybody's Fine\",),\n",
       " ('Stone',),\n",
       " ('Machete',),\n",
       " ('Red Lights',),\n",
       " ('Righteous Kill',),\n",
       " ('The Good Shepherd',),\n",
       " ('The Bag Man',),\n",
       " ('Being Flynn',),\n",
       " ('Joy',),\n",
       " ('The Wizard of Lies',),\n",
       " ('Limitless',),\n",
       " ('Killing Season',),\n",
       " ('The Family',),\n",
       " ('Heist',),\n",
       " ('Great Expectations',),\n",
       " ('Little Fockers',),\n",
       " ('What Just Happened?',),\n",
       " ('The Comedian',),\n",
       " ('The Big Wedding',),\n",
       " ('Dirty Grandpa',),\n",
       " ('Grudge Match',)]"
      ]
     },
     "execution_count": 23,
     "metadata": {},
     "output_type": "execute_result"
    }
   ],
   "source": [
    "cursor.execute(\"\"\"\n",
    "SELECT m.title\n",
    "  FROM movie_actors AS ma\n",
    "       JOIN\n",
    "       movies AS m ON ma.movie_id = m.id\n",
    " WHERE ma.actor_id = 429 AND \n",
    "       m.year > 2005;\n",
    "\"\"\")\n",
    "cursor.fetchall()"
   ]
  },
  {
   "cell_type": "markdown",
   "metadata": {},
   "source": [
    "* What are the titles of movies with more than two directors?"
   ]
  },
  {
   "cell_type": "code",
   "execution_count": 25,
   "metadata": {},
   "outputs": [
    {
     "data": {
      "text/plain": [
       "[('The Land Before Time III: The Time of Great Giving',),\n",
       " ('101 Dalmatians',),\n",
       " ('The Trip',),\n",
       " (\"Planet Terror (Grindhouse Presents: Robert Rodriguez's Planet Terror)\",),\n",
       " ('The Mummy',),\n",
       " ('The Snowman',),\n",
       " ('Zootopia',),\n",
       " ('All Dogs Go To Heaven',),\n",
       " ('The Longest Day',),\n",
       " (\"Madagascar 3: Europe's Most Wanted\",),\n",
       " ('Aftermath',),\n",
       " ('The Outsider',),\n",
       " ('Fun & Fancy Free',),\n",
       " ('The Animatrix',),\n",
       " ('Tarzan',),\n",
       " ('The Rescuers',),\n",
       " ('Teenage Mutant Ninja Turtles III',),\n",
       " ('The Legend of Drunken Master (Jui kuen II) (Drunken Fist II)',),\n",
       " ('Heavy Metal ',),\n",
       " ('The Prisoner of Zenda',),\n",
       " ('The Time Machine',),\n",
       " ('Superman: Doomsday',),\n",
       " ('The Road to El Dorado',),\n",
       " ('Under Siege',),\n",
       " ('Robin Hood',),\n",
       " ('True Grit',),\n",
       " ('The Matrix',),\n",
       " ('Casino Royale',),\n",
       " ('Toy Soldiers',),\n",
       " ('The LEGO Movie',),\n",
       " ('Batman Gotham Knight',),\n",
       " ('Blinky Bill The Movie',),\n",
       " ('The Return of Jafar',),\n",
       " ('The Trumpet of the Swan',),\n",
       " ('Open Season',),\n",
       " ('Sin City',),\n",
       " ('Red',),\n",
       " ('Home',),\n",
       " ('Jimmy and Judy',),\n",
       " ('The Lost World',),\n",
       " ('Alpha and Omega',),\n",
       " ('Gloria',),\n",
       " ('Dolphins',),\n",
       " ('Monsters vs. Aliens',),\n",
       " ('Moana',),\n",
       " ('Alice in Wonderland',),\n",
       " ('Hercules',),\n",
       " ('Aliens vs. Predator: Requiem (AVP 2)',),\n",
       " ('Black Water',),\n",
       " ('Everest',),\n",
       " ('Tora! Tora! Tora!',),\n",
       " ('Shark Tale',),\n",
       " ('Superfly',),\n",
       " ('The Three Musketeers',),\n",
       " ('The Boxtrolls',),\n",
       " ('Triangle (Tie saam gok)',),\n",
       " ('The Great Mouse Detective',),\n",
       " ('King Kong',),\n",
       " ('How the West Was Won',),\n",
       " (\"Troma's War\",),\n",
       " ('The Transporter',),\n",
       " ('Bad Company',),\n",
       " ('Ong Bak 2',),\n",
       " ('Leviathan',),\n",
       " ('Miami Connection',),\n",
       " ('The Mask of Fu Manchu',),\n",
       " ('The Matador',),\n",
       " ('My Way',),\n",
       " ('Operation Condor (Fei ying gai wak) (Armour of God II)',),\n",
       " ('Treasure Island',),\n",
       " ('Hell Comes to Frogtown',),\n",
       " ('Flesh Gordon',),\n",
       " ('Chillerama',),\n",
       " ('Killers',),\n",
       " ('Jianyu (Reign of Assassins)',),\n",
       " ('Rock-a-Doodle',),\n",
       " ('The Enforcer',),\n",
       " (\"Everyone's Hero\",),\n",
       " ('The Wild',),\n",
       " ('Little Fugitive',),\n",
       " ('Rise of the Guardians',),\n",
       " ('The Secret of the Sword',),\n",
       " ('Thunder and the House of Magic',),\n",
       " ('Betrayed',),\n",
       " ('Reptilicus',),\n",
       " ('Dumbo',),\n",
       " ('Rainbow Brite and the Star Stealer',),\n",
       " ('Final Fantasy: The Spirits Within',),\n",
       " ('The Trouble with Terkel',),\n",
       " (\"Kahlil Gibran's The Prophet\",),\n",
       " ('Jack Frost',),\n",
       " ('Snow White and the Seven Dwarfs',),\n",
       " ('Fantasia',),\n",
       " ('Doogal',),\n",
       " ('Peter Pan',),\n",
       " ('The Hunchback of Notre Dame',),\n",
       " ('Pinocchio',),\n",
       " ('The Little Mermaid 2: Return to the Sea',),\n",
       " ('Leroy & Stitch',),\n",
       " ('Chico & Rita',),\n",
       " ('Beavis and Butt-head Do America',),\n",
       " ('Happy Feet',),\n",
       " ('The Prince of Egypt',),\n",
       " ('Cloudy With a Chance of Meatballs',),\n",
       " ('The Fox and the Hound',),\n",
       " ('Saludos Amigos',),\n",
       " ('The Adventures of Ichabod and Mr. Toad',),\n",
       " ('Fantasia 2000',),\n",
       " (\"Legends of Oz: Dorothy's Return\",),\n",
       " (\"A Liar's Autobiography - The Untrue Story of Monty Python's Graham Chapman\",),\n",
       " ('The Three Caballeros',),\n",
       " ('Lilo & Stitch 2: Stitch Has a Glitch',),\n",
       " ('Monsters, Inc.',),\n",
       " ('Howl',),\n",
       " ('Yarn',),\n",
       " ('Penguins Of Madagascar',),\n",
       " ('Bee Movie',),\n",
       " ('Lady and the Tramp',),\n",
       " ('Despicable Me 3',),\n",
       " ('Sleeping Beauty',),\n",
       " ('Frozen',),\n",
       " ('Cinderella',),\n",
       " ('Tarzan & Jane',),\n",
       " ('Hoodwinked',),\n",
       " ('Inside Out',),\n",
       " ('Bambi',),\n",
       " ('Shrek 2',),\n",
       " (\"We're Back! A Dinosaur's Story\",),\n",
       " ('Ernest & Clestine',),\n",
       " ('Pokmon 4Ever',),\n",
       " ('La fe (The Fairy)',),\n",
       " ('Aria',),\n",
       " ('Aleksandr Nevskiy (Alexander Nevsky)',),\n",
       " ('Golden Door (Nuovomondo)',),\n",
       " ('Sebastiane',),\n",
       " ('Mad Love',),\n",
       " ('Man Bites Dog',),\n",
       " ('City of Joy',),\n",
       " ('Tully',),\n",
       " ('Three...Extremes (Saam gaang yi)',),\n",
       " ('Ten Nights of Dreams (Yume j-ya)',),\n",
       " ('Waste Land',),\n",
       " ('The Iron Ladies',),\n",
       " ('Godzilla, King of the Monsters!',),\n",
       " ('Lisa And The Devil (Lisa e il diavolo) (The Devil in the House of Exorcism)',),\n",
       " ('Terror Train',),\n",
       " ('Eros',),\n",
       " ('The Dark',),\n",
       " ('The Turning',),\n",
       " ('Mondo Cane',),\n",
       " ('The Chronicle of Anna Magdalena Bach',),\n",
       " ('The Ladykillers',),\n",
       " (\"Boccaccio '70\",),\n",
       " ('H',),\n",
       " ('Screwed',),\n",
       " (\"L'Iceberg\",),\n",
       " ('Westfront 1918',),\n",
       " ('Cargo',),\n",
       " ('Dracula',),\n",
       " ('Shutter',),\n",
       " (\"Paris Je T'aime\",),\n",
       " ('Jaffa',),\n",
       " ('Tales from the Golden Age',),\n",
       " ('Nomad',),\n",
       " ('The Lords of Flatbush',),\n",
       " ('Orgy of the Dead',),\n",
       " ('Ziegfeld Follies',),\n",
       " ('Hamlet',),\n",
       " ('A Farewell To Arms',),\n",
       " ('The Beguiled',),\n",
       " ('It',),\n",
       " ('Gone With the Wind',),\n",
       " ('Macao',),\n",
       " ('Phantom Of The Opera',),\n",
       " ('The Blob',),\n",
       " ('Our Hospitality',),\n",
       " ('Movie 43',),\n",
       " ('Four Rooms',),\n",
       " ('Slow Learners',),\n",
       " ('The Odd Couple II',),\n",
       " ('Sparkle',),\n",
       " ('Ruthless People',),\n",
       " ('Hall Pass',),\n",
       " ('Why Stop Now?',),\n",
       " ('Dumb and Dumber To',),\n",
       " ('The Last Word',),\n",
       " ('The Yes Men',),\n",
       " ('Osmosis Jones',),\n",
       " (\"Class of Nuke 'Em High\",),\n",
       " ('A Serious Man',),\n",
       " ('Top Secret!',),\n",
       " ('Terror Tract',),\n",
       " ('Woo',),\n",
       " ('New York, I Love You',),\n",
       " ('Pumpkin',),\n",
       " ('New York Stories',),\n",
       " ('The Interview',),\n",
       " ('Airplane!',),\n",
       " ('The Toxic Avenger',),\n",
       " ('The Big Gay Musical',),\n",
       " ('Closing Escrow',),\n",
       " ('My Date With Drew',),\n",
       " ('Microcosmos',),\n",
       " ('The Anthropologist',),\n",
       " ('Freakonomics',),\n",
       " ('Gimme Shelter',),\n",
       " ('Earth: One Amazing Day',),\n",
       " ('Visions of 8 - The Olympics of Motion Picture Achievement',),\n",
       " ('The Galapagos Affair: Satan Came To Eden',),\n",
       " ('Super Duper Alice Cooper',),\n",
       " ('The Farm: Life Inside Angola Prison',),\n",
       " ('The Singing Revolution',),\n",
       " ('Nanking',),\n",
       " ('American Swing',),\n",
       " ('Independent Lens',),\n",
       " ('11/8/2016',),\n",
       " ('vocateur: The Morton Downey Jr. Movie',),\n",
       " ('Dreams Rewired',),\n",
       " (\"Hearts of Darkness: A Filmmaker's Apocalypse\",),\n",
       " ('Dominick Dunne: After the Party',),\n",
       " ('The Gates',),\n",
       " ('Lightning Over Water',),\n",
       " ('Diana Vreeland: The Eye Has To Travel',),\n",
       " ('Walking With Dinosaurs',),\n",
       " ('Keep the River on Your Right',),\n",
       " ('Obscene',),\n",
       " ('The War Room',),\n",
       " ('The Seasons in Quincy: Four Portraits of John Berger',),\n",
       " ('Requiem For The American Dream',),\n",
       " ('A Will For The Woods',),\n",
       " ('The Celluloid Closet',),\n",
       " ('The Black Power Mixtape 1967-1975',),\n",
       " ('The Trials of Darryl Hunt',),\n",
       " (\"Brother's Keeper\",),\n",
       " ('The Dhamma Brothers',),\n",
       " ('Girl Rising',),\n",
       " ('The Big Fix',),\n",
       " ('The Devil Came on Horseback',),\n",
       " ('Skid Row',),\n",
       " ('Waiting for Armageddon',),\n",
       " ('Pandas: The Journey Home',),\n",
       " ('The Yes Men Are Revolting',),\n",
       " ('Steve Jobs: The Lost Interview',),\n",
       " ('King Corn',),\n",
       " ('The Rape of Europa',),\n",
       " ('McConkey',),\n",
       " ('Winged Migration',),\n",
       " ('Historias que so existem quando lembradas (Found Memories)',),\n",
       " ('Ballplayer: Pelotero',),\n",
       " ('The Corporation',),\n",
       " (\"It's Better to Jump\",),\n",
       " ('Mine',),\n",
       " ('Salesman',),\n",
       " ('Before Stonewall',),\n",
       " ('A Crude Awakening: The Oil Crash',),\n",
       " ('What the Bleep Do We Know!?',),\n",
       " ('FrackNation',),\n",
       " ('Harold And Lillian: A Hollywood Love Story',),\n",
       " ('The Atomic Cafe',),\n",
       " ('Blood in the Face',),\n",
       " ('Last Days Here',),\n",
       " ('Cropsey',),\n",
       " ('Grey Gardens',),\n",
       " ('Get Me Roger Stone',),\n",
       " ('Uncertainty',),\n",
       " ('Locker 13',),\n",
       " ('Tanner Hall',),\n",
       " ('Winnie Mandela',),\n",
       " ('Lovelace',),\n",
       " ('[Rec] 2',),\n",
       " ('The Color of Time',),\n",
       " ('The Uninvited',),\n",
       " ('About Last Night',),\n",
       " ('Bound',),\n",
       " ('By Hook or by Crook',),\n",
       " ('The Visitor',),\n",
       " ('Hush',),\n",
       " ('Son Of God',),\n",
       " ('The Curse of the Cat People',),\n",
       " ('Arranged',),\n",
       " ('The Road',),\n",
       " ('Cloud Atlas',),\n",
       " ('Let Us Prey',),\n",
       " ('ABCs of Death 2',),\n",
       " ('V/H/S',),\n",
       " ('The Horror Show',),\n",
       " ('Twice Told Tales',),\n",
       " ('The ABCs of Death',),\n",
       " ('XX',),\n",
       " (\"The Mummy's Ghost\",),\n",
       " ('The Horror of H.P. Lovecraft (LovecraCked! The Movie)',),\n",
       " ('Slaughter High',),\n",
       " ('Body Bags',),\n",
       " ('The Signal',),\n",
       " ('Trapped Ashes',),\n",
       " ('V/H/S: Viral',),\n",
       " ('Sometimes They Come Back...for More',),\n",
       " ('V/H/S/2',),\n",
       " ('The Theatre Bizarre',),\n",
       " ('Twilight Zone: The Movie',),\n",
       " ('The Breed',),\n",
       " ('Southbound',),\n",
       " (\"Father's Day\",),\n",
       " ('Supernova',),\n",
       " ('Teen Beach Movie',),\n",
       " ('Disneynature Bears',),\n",
       " ('Ernest Rides Again',),\n",
       " ('The Matrix Reloaded',),\n",
       " ('The Matrix Revolutions',)]"
      ]
     },
     "execution_count": 25,
     "metadata": {},
     "output_type": "execute_result"
    }
   ],
   "source": [
    "cursor.execute(\"\"\"\n",
    "SELECT m.title\n",
    "  FROM movie_directors AS md\n",
    "       JOIN\n",
    "       movies AS m ON md.movie_id = m.id\n",
    " GROUP BY m.id\n",
    "HAVING COUNT( * ) > 2;\n",
    "\"\"\")\n",
    "cursor.fetchall()"
   ]
  },
  {
   "cell_type": "markdown",
   "metadata": {},
   "source": [
    "### Has Many Through"
   ]
  },
  {
   "cell_type": "markdown",
   "metadata": {},
   "source": [
    "* What is the name of the writer in the database that has been credited the most times during the year 2018?"
   ]
  },
  {
   "cell_type": "code",
   "execution_count": 28,
   "metadata": {},
   "outputs": [
    {
     "data": {
      "text/plain": [
       "[('Ryan Engle', 3)]"
      ]
     },
     "execution_count": 28,
     "metadata": {},
     "output_type": "execute_result"
    }
   ],
   "source": [
    "cursor.execute(\"\"\"\n",
    "SELECT w.name,\n",
    "       count( * ) \n",
    "  FROM movie_writers AS mw\n",
    "       JOIN\n",
    "       writers AS w ON mw.writer_id = w.id\n",
    "       JOIN\n",
    "       movies AS m ON mw.movie_id = m.id\n",
    " WHERE m.year = 2018\n",
    " GROUP BY w.id\n",
    " ORDER BY count( * ) DESC LIMIT 1;\n",
    "\"\"\")\n",
    "cursor.fetchall()"
   ]
  },
  {
   "cell_type": "markdown",
   "metadata": {},
   "source": [
    "* What is the name of the actor or actress in the database that has been credited the most between 2010 and 2015 (inclusive)?"
   ]
  },
  {
   "cell_type": "code",
   "execution_count": 30,
   "metadata": {},
   "outputs": [
    {
     "data": {
      "text/plain": [
       "[('Liam Neeson', 22)]"
      ]
     },
     "execution_count": 30,
     "metadata": {},
     "output_type": "execute_result"
    }
   ],
   "source": [
    "cursor.execute(\"\"\"\n",
    "SELECT a.name,\n",
    "       count( * ) \n",
    "  FROM movie_actors AS ma\n",
    "       JOIN\n",
    "       actors AS a ON ma.actor_id = a.id\n",
    "       JOIN\n",
    "       movies AS m ON ma.movie_id = m.id\n",
    " WHERE m.year >= 2010 AND m.year <= 2015\n",
    " GROUP BY a.id\n",
    " ORDER BY count( * ) DESC LIMIT 1;\n",
    "\"\"\")\n",
    "cursor.fetchall()"
   ]
  },
  {
   "cell_type": "markdown",
   "metadata": {},
   "source": [
    "* What are the names of all actors who performed in more than 3 movies in 2010?"
   ]
  },
  {
   "cell_type": "code",
   "execution_count": 31,
   "metadata": {},
   "outputs": [
    {
     "data": {
      "text/plain": [
       "[('Aaron Taylor-Johnson',),\n",
       " ('Adam Scott',),\n",
       " ('Barry Pepper',),\n",
       " ('Ben Stiller',),\n",
       " ('Danny Huston',),\n",
       " ('Gemma Arterton',),\n",
       " ('Helen Mirren',),\n",
       " ('Jay Baruchel',),\n",
       " ('Jessica Alba',),\n",
       " ('Jonah Hill',),\n",
       " ('Josh Brolin',),\n",
       " ('Josh Duhamel',),\n",
       " ('Keith David',),\n",
       " ('Liam Neeson',),\n",
       " ('Matt Damon',),\n",
       " ('Melissa Leo',),\n",
       " ('Patricia Clarkson',),\n",
       " ('Pierce Brosnan',),\n",
       " ('Ralph Fiennes',),\n",
       " ('Susan Sarandon',),\n",
       " ('Zach Galifianakis',)]"
      ]
     },
     "execution_count": 31,
     "metadata": {},
     "output_type": "execute_result"
    }
   ],
   "source": [
    "cursor.execute(\"\"\"\n",
    "SELECT a.name\n",
    "  FROM movie_actors AS ma\n",
    "       JOIN\n",
    "       movies AS m ON ma.movie_id = m.id\n",
    "       JOIN\n",
    "       actors AS a ON ma.actor_id = a.id\n",
    "   WHERE m.year = 2010\n",
    "   GROUP BY a.name\n",
    "   HAVING COUNT(*) > 3;\n",
    "\"\"\")\n",
    "cursor.fetchall()"
   ]
  },
  {
   "cell_type": "markdown",
   "metadata": {},
   "source": [
    "* What studio has Steven Spielberg worked with the most?"
   ]
  },
  {
   "cell_type": "code",
   "execution_count": 32,
   "metadata": {},
   "outputs": [
    {
     "data": {
      "text/plain": [
       "[('Universal Pictures', 7)]"
      ]
     },
     "execution_count": 32,
     "metadata": {},
     "output_type": "execute_result"
    }
   ],
   "source": [
    "cursor.execute(\"\"\"\n",
    "SELECT m.studio,\n",
    "       COUNT( * ) \n",
    "  FROM movie_directors AS md\n",
    "       JOIN\n",
    "       movies AS m ON md.movie_id = m.id\n",
    "       JOIN\n",
    "       directors AS d ON md.director_id = d.id\n",
    " WHERE d.name = \"Steven Spielberg\"\n",
    " GROUP BY m.studio\n",
    " ORDER BY COUNT( * ) DESC\n",
    " LIMIT 1;\n",
    "\"\"\")\n",
    "cursor.fetchall()"
   ]
  },
  {
   "cell_type": "markdown",
   "metadata": {},
   "source": [
    "* What years did Steven Spielberg direct 2 movies?"
   ]
  },
  {
   "cell_type": "code",
   "execution_count": 34,
   "metadata": {},
   "outputs": [
    {
     "data": {
      "text/plain": [
       "[(1989, 2), (1993, 2), (1997, 2), (2002, 2), (2005, 2), (2011, 2), (2018, 2)]"
      ]
     },
     "execution_count": 34,
     "metadata": {},
     "output_type": "execute_result"
    }
   ],
   "source": [
    "cursor.execute(\"\"\"\n",
    "SELECT m.year,\n",
    "       COUNT( * ) \n",
    "  FROM movie_directors AS md\n",
    "       JOIN\n",
    "       movies AS m ON md.movie_id = m.id\n",
    "       JOIN\n",
    "       directors AS d ON md.director_id = d.id\n",
    " WHERE d.name = \"Steven Spielberg\"\n",
    " GROUP BY m.year\n",
    " HAVING COUNT(*) = 2;\n",
    "\"\"\")\n",
    "cursor.fetchall()"
   ]
  },
  {
   "cell_type": "markdown",
   "metadata": {},
   "source": [
    "* How many movies has each of the actors from Toy Story been in? (movie ID is 3648)"
   ]
  },
  {
   "cell_type": "code",
   "execution_count": 35,
   "metadata": {},
   "outputs": [
    {
     "data": {
      "text/plain": [
       "[('Tom Hanks', 46),\n",
       " ('Jim Varney', 8),\n",
       " ('Wallace Shawn', 27),\n",
       " ('Don Rickles', 10),\n",
       " ('John Ratzenberger', 7),\n",
       " ('Tim Allen', 20)]"
      ]
     },
     "execution_count": 35,
     "metadata": {},
     "output_type": "execute_result"
    }
   ],
   "source": [
    "cursor.execute(\"\"\"\n",
    "SELECT c.name,\n",
    "       COUNT( * ) \n",
    "  FROM (\n",
    "           SELECT actor_id\n",
    "             FROM movie_actors\n",
    "            WHERE movie_id = 3648\n",
    "       )\n",
    "       AS a\n",
    "       JOIN\n",
    "       movie_actors AS b ON a.actor_id = b.actor_id\n",
    "       JOIN\n",
    "       actors c ON a.actor_id = c.id\n",
    " GROUP BY a.actor_id;\n",
    "\"\"\")\n",
    "cursor.fetchall()"
   ]
  },
  {
   "cell_type": "markdown",
   "metadata": {},
   "source": [
    "* What are the names of other movies the director of Toy Story directed? (movie ID is 3648)"
   ]
  },
  {
   "cell_type": "code",
   "execution_count": 37,
   "metadata": {},
   "outputs": [
    {
     "data": {
      "text/plain": [
       "[('Cars 2',), ('Cars',), (\"A Bug's Life\",), ('Toy Story 2',), ('Toy Story',)]"
      ]
     },
     "execution_count": 37,
     "metadata": {},
     "output_type": "execute_result"
    }
   ],
   "source": [
    "cursor.execute(\"\"\"\n",
    "SELECT title \n",
    "  FROM (\n",
    "           SELECT director_id\n",
    "             FROM movie_directors\n",
    "            WHERE movie_id = 3648\n",
    "       )\n",
    "       AS a\n",
    "       JOIN\n",
    "       movie_directors AS b ON a.director_id = b.director_id\n",
    "       JOIN\n",
    "       movies c ON b.movie_id = c.id;\n",
    "\"\"\")\n",
    "cursor.fetchall()"
   ]
  },
  {
   "cell_type": "markdown",
   "metadata": {},
   "source": [
    "* What are the names of all the directors Tom Hanks has worked with? (actor id 189)"
   ]
  },
  {
   "cell_type": "code",
   "execution_count": 40,
   "metadata": {},
   "outputs": [
    {
     "data": {
      "text/plain": [
       "[('Robert Zemeckis',),\n",
       " ('Tom Hanks',),\n",
       " ('Penny Marshall',),\n",
       " ('Chris Paine',),\n",
       " ('Doug Nichol',),\n",
       " ('Steven Spielberg',),\n",
       " ('Tom Tykwer',),\n",
       " ('Sam Mendes',),\n",
       " ('Steve Purcell (II)',),\n",
       " ('Nora Ephron',),\n",
       " ('Paul Greengrass',),\n",
       " ('Ron Howard',),\n",
       " ('Stephen Daldry',),\n",
       " ('James Ponsoldt',),\n",
       " ('Frank Darabont',),\n",
       " ('David Seltzer',),\n",
       " ('Meg Ryan',),\n",
       " ('Lana Wachowski',),\n",
       " ('Lilly Wachowski',),\n",
       " ('Dario Argento',),\n",
       " ('Angus MacLane',),\n",
       " ('Clint Eastwood',),\n",
       " ('Lee Unkrich',),\n",
       " ('John Lasseter',),\n",
       " ('Joel Coen',),\n",
       " ('Alexander Mackendrick',),\n",
       " ('Ethan Coen',),\n",
       " ('Tom Mankiewicz',),\n",
       " ('Stan Dragoti',),\n",
       " ('Mike Nichols',),\n",
       " ('Kevin Pollak',),\n",
       " ('Roger Spottiswoode',),\n",
       " ('Joe Dante',),\n",
       " ('John Patrick Shanley',),\n",
       " ('Garry Marshall',),\n",
       " ('John Lee Hancock',),\n",
       " ('Brian DePalma',)]"
      ]
     },
     "execution_count": 40,
     "metadata": {},
     "output_type": "execute_result"
    }
   ],
   "source": [
    "cursor.execute(\"\"\"\n",
    "SELECT DISTINCT c.name \n",
    "  FROM (\n",
    "           SELECT movie_id\n",
    "             FROM movie_actors\n",
    "            WHERE actor_id = 189\n",
    "       )\n",
    "       AS a\n",
    "       JOIN\n",
    "       movie_directors AS b ON a.movie_id = b.movie_id\n",
    "       JOIN\n",
    "       directors c ON b.director_id = c.id;\n",
    "\"\"\")\n",
    "cursor.fetchall()"
   ]
  },
  {
   "cell_type": "markdown",
   "metadata": {},
   "source": [
    "* What is the name of the director Tom Hanks has worked with the most?"
   ]
  },
  {
   "cell_type": "code",
   "execution_count": 45,
   "metadata": {},
   "outputs": [
    {
     "data": {
      "text/plain": [
       "[('Ron Howard', 5)]"
      ]
     },
     "execution_count": 45,
     "metadata": {},
     "output_type": "execute_result"
    }
   ],
   "source": [
    "cursor.execute(\"\"\"\n",
    "SELECT c.name, COUNT(*) \n",
    "  FROM (\n",
    "           SELECT movie_id\n",
    "             FROM movie_actors\n",
    "            WHERE actor_id = 189\n",
    "       )\n",
    "       AS a\n",
    "       JOIN\n",
    "       movie_directors AS b ON a.movie_id = b.movie_id\n",
    "       JOIN\n",
    "       directors c ON b.director_id = c.id\n",
    "    GROUP BY c.name\n",
    "    ORDER BY COUNT(*) DESC LIMIT 1;\n",
    "\"\"\")\n",
    "cursor.fetchall()"
   ]
  },
  {
   "cell_type": "markdown",
   "metadata": {},
   "source": [
    "* What are the names of all the writers Tom Hanks has worked with?"
   ]
  },
  {
   "cell_type": "code",
   "execution_count": 46,
   "metadata": {},
   "outputs": [
    {
     "data": {
      "text/plain": [
       "[('Eric Roth',),\n",
       " ('Nia Vardalos',),\n",
       " ('Tom Hanks',),\n",
       " ('Gary Ross',),\n",
       " ('Anne Spielberg',),\n",
       " ('Chris Paine',),\n",
       " ('Scott Frank',),\n",
       " ('Robert Rodat',),\n",
       " ('Frank Darabont',),\n",
       " ('Tom Tykwer',),\n",
       " ('Max Allan Collins',),\n",
       " ('David Self',),\n",
       " ('Richard Piers Rayner',),\n",
       " ('Steve Purcell (II)',),\n",
       " ('Jeff Nathanson',),\n",
       " ('Sacha Gervasi',),\n",
       " ('Nora Ephron',),\n",
       " ('Delia Ephron',),\n",
       " ('Mikls Lszl',),\n",
       " ('Billy Ray',),\n",
       " ('David Koepp',),\n",
       " ('Akiva Goldsman',),\n",
       " ('Dave Eggers',),\n",
       " ('James Ponsoldt',),\n",
       " ('Joel Coen',),\n",
       " ('Ethan Coen',),\n",
       " ('Matt Charman',),\n",
       " ('Matthew Charman',),\n",
       " ('David Seltzer',),\n",
       " ('Erik Jendresen',),\n",
       " ('Josh Singer',),\n",
       " ('Liz Hannah',),\n",
       " ('Lilly Wachowski',),\n",
       " ('Lana Wachowski',),\n",
       " ('Lowell Ganz',),\n",
       " ('Bruce Jay Friedman',),\n",
       " ('Babaloo Mandel',),\n",
       " ('Brian Grazer',),\n",
       " ('William Broyles',),\n",
       " ('Dario Argento',),\n",
       " ('Andrew Stanton',),\n",
       " ('Todd Komarnicki',),\n",
       " ('John Lasseter',),\n",
       " ('Lee Unkrich',),\n",
       " ('Michael Arndt',),\n",
       " ('Robert Zemeckis',),\n",
       " ('Joss Whedon',),\n",
       " ('Joel Cohen',),\n",
       " ('Alec Sokolow',),\n",
       " ('William Rose',),\n",
       " ('Al Reinert',),\n",
       " ('Tom Mankiewicz',),\n",
       " ('Dan Aykroyd',),\n",
       " ('Alan Zweibel',),\n",
       " ('Robert Klane',),\n",
       " ('Norman Steinberg',),\n",
       " ('Aaron Sorkin',),\n",
       " ('Kim Wilson',),\n",
       " ('Kevin Pollak',),\n",
       " ('John Varhous',),\n",
       " ('John Vorhaus',),\n",
       " ('Michael Blodgett',),\n",
       " ('Dennis Shryack',),\n",
       " ('Daniel Petrie Jr.',),\n",
       " ('Timothy Harris',),\n",
       " ('Dana Olsen',),\n",
       " ('Robert Collector',),\n",
       " ('Mitch Markowitz',),\n",
       " ('David S. Ward',),\n",
       " ('Jeff Arch',),\n",
       " ('Larry Atlas',),\n",
       " ('John Patrick Shanley',),\n",
       " ('Michael Preminger',),\n",
       " ('Larry Grusin',),\n",
       " ('Rick Podell',),\n",
       " ('Kelly Marcel',),\n",
       " ('Sue Smith',),\n",
       " ('Michael Cristofer',)]"
      ]
     },
     "execution_count": 46,
     "metadata": {},
     "output_type": "execute_result"
    }
   ],
   "source": [
    "cursor.execute(\"\"\"\n",
    "SELECT DISTINCT c.name \n",
    "  FROM (\n",
    "           SELECT movie_id\n",
    "             FROM movie_actors\n",
    "            WHERE actor_id = 189\n",
    "       )\n",
    "       AS a\n",
    "       JOIN\n",
    "       movie_writers AS b ON a.movie_id = b.movie_id\n",
    "       JOIN\n",
    "       writers c ON b.writer_id = c.id;\n",
    "\"\"\")\n",
    "cursor.fetchall()"
   ]
  }
 ],
 "metadata": {
  "kernelspec": {
   "display_name": "Python 3",
   "language": "python",
   "name": "python3"
  },
  "language_info": {
   "codemirror_mode": {
    "name": "ipython",
    "version": 3
   },
   "file_extension": ".py",
   "mimetype": "text/x-python",
   "name": "python",
   "nbconvert_exporter": "python",
   "pygments_lexer": "ipython3",
   "version": "3.7.1"
  }
 },
 "nbformat": 4,
 "nbformat_minor": 2
}
