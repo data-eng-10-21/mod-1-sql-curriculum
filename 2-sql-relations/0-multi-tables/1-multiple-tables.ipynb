{
 "cells": [
  {
   "cell_type": "markdown",
   "metadata": {},
   "source": [
    "# Multiple Tables"
   ]
  },
  {
   "cell_type": "code",
   "execution_count": 17,
   "metadata": {},
   "outputs": [],
   "source": [
    "import sqlite3\n",
    "conn = sqlite3.connect('./billboard-200.db')\n",
    "cursor = conn.cursor()"
   ]
  },
  {
   "cell_type": "code",
   "execution_count": 18,
   "metadata": {},
   "outputs": [
    {
     "data": {
      "text/plain": [
       "[('albums',), ('acoustic_features',)]"
      ]
     },
     "execution_count": 18,
     "metadata": {},
     "output_type": "execute_result"
    }
   ],
   "source": [
    "cursor.execute('SELECT name from sqlite_master where type= \"table\"')\n",
    "cursor.fetchall()"
   ]
  },
  {
   "cell_type": "markdown",
   "metadata": {},
   "source": [
    "Let's focus in on the albums table."
   ]
  },
  {
   "cell_type": "code",
   "execution_count": 16,
   "metadata": {},
   "outputs": [
    {
     "data": {
      "text/plain": [
       "[(0, 'id', 'integer', 0, None, 1),\n",
       " (1, 'date', 'text', 0, None, 0),\n",
       " (2, 'artist', 'text', 0, None, 0),\n",
       " (3, 'album', 'text', 0, None, 0),\n",
       " (4, 'rank', 'text', 0, None, 0),\n",
       " (5, 'length', 'integer', 0, None, 0),\n",
       " (6, 'track_length', 'real', 0, None, 0)]"
      ]
     },
     "execution_count": 16,
     "metadata": {},
     "output_type": "execute_result"
    }
   ],
   "source": [
    "cursor.execute('PRAGMA table_info(albums);')\n",
    "cursor.fetchall()"
   ]
  },
  {
   "cell_type": "markdown",
   "metadata": {},
   "source": [
    "Now the columns in the albums table look innocent enough, but trouble could be looming.  "
   ]
  },
  {
   "cell_type": "code",
   "execution_count": 20,
   "metadata": {},
   "outputs": [
    {
     "data": {
      "text/plain": [
       "[(1, None, None, None, None, None, None),\n",
       " (2, '2019-01-19', 'A Boogie Wit da Hoodie', 'Hoodie SZN', '1', 20, 185233.8),\n",
       " (3, '2019-01-19', '21 Savage', 'I Am > I Was', '2', 15, 211050.73333333334)]"
      ]
     },
     "execution_count": 20,
     "metadata": {},
     "output_type": "execute_result"
    }
   ],
   "source": [
    "cursor.execute('SELECT * from Albums LIMIT 3;')\n",
    "cursor.fetchall()"
   ]
  },
  {
   "cell_type": "markdown",
   "metadata": {},
   "source": [
    "For example, we have the artist name listed in the albums table.  But notice that each time we store an album by the same artist, we have to repeat that artist's name.  This is violating our Don't Repeat Yourself rule.  Here, it means that if we ever wanted to change the Artist's name, we would have to change this information in multiple places."
   ]
  },
  {
   "cell_type": "markdown",
   "metadata": {},
   "source": [
    "It's best to keep the table reserved for attributes directly about the album.  Notice that all of the other information do fit the bill - they are about the album itself.  Of course, we *do* want to connect the artist to our album.  So how do we do that? "
   ]
  },
  {
   "cell_type": "markdown",
   "metadata": {},
   "source": [
    "### Solving our Problem"
   ]
  },
  {
   "cell_type": "markdown",
   "metadata": {},
   "source": [
    "The best way is to create a separate artists table like so."
   ]
  },
  {
   "cell_type": "markdown",
   "metadata": {},
   "source": [
    "`artists`\n",
    "\n",
    "| id        | name           | \n",
    "| ------------- |:-------------:| \n",
    "| 1               |Prince | \n",
    "| 2      | Paul Simon      | "
   ]
  },
  {
   "cell_type": "markdown",
   "metadata": {},
   "source": [
    "Then to connect our `artists` table with our `albums` table, we set up our albums table like so. "
   ]
  },
  {
   "cell_type": "markdown",
   "metadata": {},
   "source": [
    "| id| date    | rank| length| track_length | artist_id | album\n",
    "| --|:-------:| ----|-------| --------------| -------| ------|\n",
    "144 | '2019-01-19'|'143' | 17 | 256500 | 1| The Very Best Of Prince\n",
    "17155| '2017-06-03'| '154'| 40| 233901| 1|  '4Ever' \n",
    "6269 | '2016-07-16' | '68'| 11 | 202174.0 | 2| 'Stranger To Stranger'  "
   ]
  },
  {
   "cell_type": "markdown",
   "metadata": {},
   "source": [
    "The important column is the `artist_id` column.  This is referred to as a foreign key, or foreign id, because it refers to a number that is foreign to the current table of albums.  The table it refers to is the `artist` table."
   ]
  },
  {
   "cell_type": "markdown",
   "metadata": {},
   "source": [
    "We can describe the relationship as an artist `has many` albums, and an album `has one` artist (at least in this case).  In a `has one` to `has many` relationship, the foreign key always goes on the table that `has one`.  So a album has one artist, and the albums table gets the foreign key.  \n",
    "\n",
    "This makes sense as if we placed the foreign key on the has many table, here artists, we have to add multiple albums foreign key albums for artist that have multiple albums. "
   ]
  },
  {
   "cell_type": "markdown",
   "metadata": {},
   "source": [
    "### Querying our tables"
   ]
  },
  {
   "cell_type": "markdown",
   "metadata": {},
   "source": [
    "Once we have an idea of how our tables fit together, it's not so tricky to determine how to query our tables.  There are really only two questions we can ask:\n",
    "\n",
    "1. Given an album, what is the artist\n",
    "2. Given an artist, what are all of the listed albums"
   ]
  },
  {
   "cell_type": "markdown",
   "metadata": {},
   "source": [
    "Let's tackle these in turn.  Once again this is our tables."
   ]
  },
  {
   "cell_type": "markdown",
   "metadata": {},
   "source": [
    "`artists`\n",
    "\n",
    "| id        | name           | \n",
    "| ------------- |:-------------:| \n",
    "| 1               |Prince | \n",
    "| 2      | Paul Simon      |\n",
    "\n",
    "\n",
    "`albums`\n",
    "\n",
    "| id| date    | rank| length| track_length | artist_id | album\n",
    "| --|:-------:| ----|-------| --------------| -------| ------|\n",
    "144 | '2019-01-19'|'143' | 17 | 256500 | 1| The Very Best Of Prince\n",
    "17155| '2017-06-03'| '154'| 40| 233901| 1|  '4Ever' \n",
    "6269 | '2016-07-16' | '68'| 11 | 202174.0 | 2| 'Stranger To Stranger'  "
   ]
  },
  {
   "cell_type": "markdown",
   "metadata": {},
   "source": [
    "Now let's we want to find the artist who wrote `Stranger to Stranger`.  This is the sql query."
   ]
  },
  {
   "cell_type": "markdown",
   "metadata": {},
   "source": [
    "```sql\n",
    "SELECT artists.* FROM artists JOIN albums on albums.artist_id = artists.id WHERE album = 'Stranger to Stranger'\n",
    "```"
   ]
  },
  {
   "cell_type": "markdown",
   "metadata": {},
   "source": [
    "This may seem complex, but it really matches what our brain would do."
   ]
  },
  {
   "cell_type": "markdown",
   "metadata": {},
   "source": [
    "If we want to answer the question, who wrote the album `Stranger to Stranger`, we first answer the question, find the album whose name is `stranger to stranger`, so perhaps we begin this with the following."
   ]
  },
  {
   "cell_type": "markdown",
   "metadata": {},
   "source": [
    "```sql\n",
    "SELECT * from artists where album = 'Stranger to Stranger'\n",
    "```"
   ]
  },
  {
   "cell_type": "markdown",
   "metadata": {},
   "source": [
    "But unfortunately, information about the album name is in a totally different table than our artists table (which has our artist name).  So we need a way to connect the artists table and the albums table.  The way that to do so, is to `join` the two tables by matching rows where the `albums.artist_id = artists.id`.  When we join two tables, we essentially create one large table in memory, with rows linked by the foreign key.  In this case it would look something like this."
   ]
  },
  {
   "cell_type": "markdown",
   "metadata": {},
   "source": [
    "| id| date    | rank| length| track_length | artist_id | album | id        | name           | \n",
    "| --|:-------:| ----|-------| --------------| -------| --------|-----------| ---------------| \n",
    "144 | '2019-01-19'|'143' | 17 | 256500 | 1| The Very Best Of Prince| 1|     Prince\n",
    "17155| '2017-06-03'| '154'| 40| 233901| 1|  '4Ever' | 1| Prince| \n",
    "6269 | '2016-07-16' | '68'| 11 | 202174.0 | 2| 'Stranger To Stranger' | 2| Paul Simon|"
   ]
  },
  {
   "cell_type": "markdown",
   "metadata": {},
   "source": [
    "So we can see that we have connected the tables, and linked the rows such that `albums.artist_id = artists.id`."
   ]
  },
  {
   "cell_type": "markdown",
   "metadata": {},
   "source": [
    "Because we now have both tables loaded into memory, but only need to return information in the `artists` table, we change our `SELECT * ` to `SELECT artists.*` which only displays columns from the artists table."
   ]
  },
  {
   "cell_type": "markdown",
   "metadata": {},
   "source": [
    "### Summary"
   ]
  },
  {
   "cell_type": "markdown",
   "metadata": {},
   "source": []
  },
  {
   "cell_type": "markdown",
   "metadata": {},
   "source": [
    "### Additional Resources\n",
    "\n",
    "[music story](http://developers.music-story.com/developers/artist)"
   ]
  }
 ],
 "metadata": {
  "kernelspec": {
   "display_name": "Python 3",
   "language": "python",
   "name": "python3"
  },
  "language_info": {
   "codemirror_mode": {
    "name": "ipython",
    "version": 3
   },
   "file_extension": ".py",
   "mimetype": "text/x-python",
   "name": "python",
   "nbconvert_exporter": "python",
   "pygments_lexer": "ipython3",
   "version": "3.7.1"
  }
 },
 "nbformat": 4,
 "nbformat_minor": 2
}
