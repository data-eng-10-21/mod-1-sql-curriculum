{
 "cells": [
  {
   "cell_type": "markdown",
   "metadata": {},
   "source": [
    "# Belongs to Airbnb Lab"
   ]
  },
  {
   "cell_type": "markdown",
   "metadata": {},
   "source": [
    "### Introduction\n",
    "In this lab we will continue to explore the relationships between data in different tables of a database. The Airbnb database for this lab contains four tables, `hosts`, `listings`, `locations`, and `neighborhoods`. In order to understand and analyze the data, we need to first understand the relationships between the tables. Relationships include \"Has One\" and \"Has Many\". For example, the `listings` table has a column \"host_id\" which HAS ONE record in hosts table that it corresponds to (a listing will only have one host). The `locations` table has an id column which HAS MANY corresponding records in the `listings` table (a location will have more than one listing). "
   ]
  },
  {
   "cell_type": "markdown",
   "metadata": {},
   "source": [
    "Let's begin by connecting to the database and reviewing the schema of the tables."
   ]
  },
  {
   "cell_type": "code",
   "execution_count": 1,
   "metadata": {},
   "outputs": [],
   "source": [
    "import sqlite3\n",
    "conn = sqlite3.connect('airbnb.db')\n",
    "cursor = conn.cursor()"
   ]
  },
  {
   "cell_type": "code",
   "execution_count": 2,
   "metadata": {},
   "outputs": [
    {
     "data": {
      "text/plain": [
       "[('hosts',), ('neighborhoods',), ('locations',), ('listings',)]"
      ]
     },
     "execution_count": 2,
     "metadata": {},
     "output_type": "execute_result"
    }
   ],
   "source": [
    "cursor.execute('SELECT name from sqlite_master where type= \"table\"')\n",
    "cursor.fetchall()"
   ]
  },
  {
   "cell_type": "code",
   "execution_count": 3,
   "metadata": {},
   "outputs": [
    {
     "data": {
      "text/plain": [
       "[(0, 'id', 'INTEGER', 0, None, 0), (1, 'host_name', 'TEXT', 0, None, 0)]"
      ]
     },
     "execution_count": 3,
     "metadata": {},
     "output_type": "execute_result"
    }
   ],
   "source": [
    "cursor.execute('PRAGMA table_info(hosts)')\n",
    "cursor.fetchall()"
   ]
  },
  {
   "cell_type": "code",
   "execution_count": 4,
   "metadata": {},
   "outputs": [
    {
     "data": {
      "text/plain": [
       "[(0, 'id', 'INTEGER', 0, None, 0),\n",
       " (1, 'name', 'TEXT', 0, None, 0),\n",
       " (2, 'neighbourhood_group', 'TEXT', 0, None, 0)]"
      ]
     },
     "execution_count": 4,
     "metadata": {},
     "output_type": "execute_result"
    }
   ],
   "source": [
    "cursor.execute('PRAGMA table_info(neighborhoods)')\n",
    "cursor.fetchall()"
   ]
  },
  {
   "cell_type": "code",
   "execution_count": 5,
   "metadata": {},
   "outputs": [
    {
     "data": {
      "text/plain": [
       "[(0, 'id', 'INTEGER', 0, None, 0),\n",
       " (1, 'longitude', 'REAL', 0, None, 0),\n",
       " (2, 'latitude', 'REAL', 0, None, 0),\n",
       " (3, 'neighborhood_id', 'INTEGER', 0, None, 0)]"
      ]
     },
     "execution_count": 5,
     "metadata": {},
     "output_type": "execute_result"
    }
   ],
   "source": [
    "cursor.execute('PRAGMA table_info(locations)')\n",
    "cursor.fetchall()"
   ]
  },
  {
   "cell_type": "code",
   "execution_count": 6,
   "metadata": {},
   "outputs": [
    {
     "data": {
      "text/plain": [
       "[(0, 'id', 'INTEGER', 0, None, 0),\n",
       " (1, 'name', 'TEXT', 0, None, 0),\n",
       " (2, 'host_id', 'INTEGER', 0, None, 0),\n",
       " (3, 'location_id', 'INTEGER', 0, None, 0),\n",
       " (4, 'number_of_reviews', 'INTEGER', 0, None, 0),\n",
       " (5, 'occupancy', 'INTEGER', 0, None, 0),\n",
       " (6, 'price', 'INTEGER', 0, None, 0),\n",
       " (7, 'room_type', 'TEXT', 0, None, 0),\n",
       " (8, 'host_listings_count', 'INTEGER', 0, None, 0)]"
      ]
     },
     "execution_count": 6,
     "metadata": {},
     "output_type": "execute_result"
    }
   ],
   "source": [
    "cursor.execute('PRAGMA table_info(listings)')\n",
    "cursor.fetchall()"
   ]
  },
  {
   "cell_type": "markdown",
   "metadata": {},
   "source": [
    "We'll start off with some basic one table queries:"
   ]
  },
  {
   "cell_type": "markdown",
   "metadata": {},
   "source": [
    "* Which listing name has the highest price?"
   ]
  },
  {
   "cell_type": "code",
   "execution_count": 10,
   "metadata": {},
   "outputs": [
    {
     "data": {
      "text/plain": [
       "[('Furnished room in Astoria apartment',)]"
      ]
     },
     "execution_count": 10,
     "metadata": {},
     "output_type": "execute_result"
    }
   ],
   "source": [
    "cursor.execute('SELECT name FROM listings ORDER BY price DESC LIMIT 1;')\n",
    "cursor.fetchall()"
   ]
  },
  {
   "cell_type": "markdown",
   "metadata": {},
   "source": [
    "* What is the id of the location with the lowest longitude?"
   ]
  },
  {
   "cell_type": "code",
   "execution_count": 14,
   "metadata": {},
   "outputs": [
    {
     "data": {
      "text/plain": [
       "[(45652,)]"
      ]
     },
     "execution_count": 14,
     "metadata": {},
     "output_type": "execute_result"
    }
   ],
   "source": [
    "cursor.execute('SELECT id FROM locations ORDER BY longitude LIMIT 1;')\n",
    "cursor.fetchall()"
   ]
  },
  {
   "cell_type": "markdown",
   "metadata": {},
   "source": [
    "* What is the greatest occupancy of a listing?"
   ]
  },
  {
   "cell_type": "code",
   "execution_count": 15,
   "metadata": {},
   "outputs": [
    {
     "data": {
      "text/plain": [
       "[(365,)]"
      ]
     },
     "execution_count": 15,
     "metadata": {},
     "output_type": "execute_result"
    }
   ],
   "source": [
    "cursor.execute('SELECT MAX(occupancy) FROM listings;')\n",
    "cursor.fetchall()"
   ]
  },
  {
   "cell_type": "markdown",
   "metadata": {},
   "source": [
    "* What is the average price of a listing?"
   ]
  },
  {
   "cell_type": "code",
   "execution_count": 16,
   "metadata": {},
   "outputs": [
    {
     "data": {
      "text/plain": [
       "[(152.7206871868289,)]"
      ]
     },
     "execution_count": 16,
     "metadata": {},
     "output_type": "execute_result"
    }
   ],
   "source": [
    "cursor.execute('SELECT AVG(price) FROM listings;')\n",
    "cursor.fetchall()"
   ]
  },
  {
   "cell_type": "markdown",
   "metadata": {},
   "source": [
    "* What is the count of number of hosts?"
   ]
  },
  {
   "cell_type": "code",
   "execution_count": 17,
   "metadata": {},
   "outputs": [
    {
     "data": {
      "text/plain": [
       "[(37457,)]"
      ]
     },
     "execution_count": 17,
     "metadata": {},
     "output_type": "execute_result"
    }
   ],
   "source": [
    "cursor.execute('SELECT COUNT(id) FROM hosts;')\n",
    "cursor.fetchall()"
   ]
  },
  {
   "cell_type": "markdown",
   "metadata": {},
   "source": [
    "### Move onto relationships"
   ]
  },
  {
   "cell_type": "markdown",
   "metadata": {},
   "source": [
    "Have them map out the relationships "
   ]
  },
  {
   "cell_type": "markdown",
   "metadata": {},
   "source": [
    "*  host\n",
    "    * include the host name, and host id\n",
    "    \n",
    "* A location belongs to a neighborhoods \n",
    "    * neighborhood_id, latitude, longitude\n",
    "* A neighborhood belongs to a neighborhood group\n",
    "\n",
    "* listing \n",
    "    * name, host_id, location_id, room_type, price, occupancy"
   ]
  },
  {
   "cell_type": "markdown",
   "metadata": {},
   "source": [
    "For the following queries, use the relationships between the tables to find the solutions"
   ]
  },
  {
   "cell_type": "markdown",
   "metadata": {},
   "source": [
    "* What is the longitude and latitude of the listing of the highest price?"
   ]
  },
  {
   "cell_type": "code",
   "execution_count": 19,
   "metadata": {},
   "outputs": [
    {
     "data": {
      "text/plain": [
       "[(-73.91651, 40.7681)]"
      ]
     },
     "execution_count": 19,
     "metadata": {},
     "output_type": "execute_result"
    }
   ],
   "source": [
    "cursor.execute('SELECT a.longitude, a.latitude FROM locations as a JOIN listings as b ON a.id = b.location_id ORDER BY b.price DESC LIMIT 1;')\n",
    "cursor.fetchall()"
   ]
  },
  {
   "cell_type": "markdown",
   "metadata": {},
   "source": [
    "* What is the neighborhood id of the listing with the lowest price?"
   ]
  },
  {
   "cell_type": "code",
   "execution_count": 21,
   "metadata": {},
   "outputs": [
    {
     "data": {
      "text/plain": [
       "[(6,)]"
      ]
     },
     "execution_count": 21,
     "metadata": {},
     "output_type": "execute_result"
    }
   ],
   "source": [
    "cursor.execute('SELECT a.neighborhood_id FROM locations as a JOIN listings as b ON a.id = b.location_id ORDER BY b.price LIMIT 1;')\n",
    "cursor.fetchall()"
   ]
  },
  {
   "cell_type": "markdown",
   "metadata": {},
   "source": [
    "* What is the longitude and latitude of the listing of the lowest price?"
   ]
  },
  {
   "cell_type": "code",
   "execution_count": 20,
   "metadata": {},
   "outputs": [
    {
     "data": {
      "text/plain": [
       "[(-73.95428000000001, 40.69023)]"
      ]
     },
     "execution_count": 20,
     "metadata": {},
     "output_type": "execute_result"
    }
   ],
   "source": [
    "cursor.execute('SELECT a.longitude, a.latitude FROM locations as a JOIN listings as b ON a.id = b.location_id ORDER BY b.price LIMIT 1;')\n",
    "cursor.fetchall()"
   ]
  },
  {
   "cell_type": "markdown",
   "metadata": {},
   "source": [
    "### Relations and GROUP BY"
   ]
  },
  {
   "cell_type": "markdown",
   "metadata": {},
   "source": [
    "* What is the name of the host has the most number of reviews?"
   ]
  },
  {
   "cell_type": "code",
   "execution_count": 24,
   "metadata": {},
   "outputs": [
    {
     "data": {
      "text/plain": [
       "[('Maya', 2273)]"
      ]
     },
     "execution_count": 24,
     "metadata": {},
     "output_type": "execute_result"
    }
   ],
   "source": [
    "cursor.execute('SELECT h.host_name, SUM(l.number_of_reviews) FROM hosts as h JOIN listings as l ON h.id = l.host_id GROUP BY l.host_id ORDER BY SUM(l.number_of_reviews) DESC LIMIT 1')\n",
    "cursor.fetchall()"
   ]
  },
  {
   "cell_type": "markdown",
   "metadata": {},
   "source": [
    "* What is the name of the host with the highest average listing price?"
   ]
  },
  {
   "cell_type": "code",
   "execution_count": 28,
   "metadata": {},
   "outputs": [
    {
     "data": {
      "text/plain": [
       "[('Erin',)]"
      ]
     },
     "execution_count": 28,
     "metadata": {},
     "output_type": "execute_result"
    }
   ],
   "source": [
    "cursor.execute('SELECT h.host_name FROM hosts as h JOIN listings as l ON h.id = l.host_id GROUP BY l.host_id ORDER BY AVG(l.price) DESC LIMIT 1')\n",
    "cursor.fetchall()"
   ]
  },
  {
   "cell_type": "markdown",
   "metadata": {},
   "source": [
    "* What is the name of the host with the lowest average listing price?"
   ]
  },
  {
   "cell_type": "code",
   "execution_count": 27,
   "metadata": {},
   "outputs": [
    {
     "data": {
      "text/plain": [
       "[('Aymeric',)]"
      ]
     },
     "execution_count": 27,
     "metadata": {},
     "output_type": "execute_result"
    }
   ],
   "source": [
    "cursor.execute('SELECT h.host_name FROM hosts as h JOIN listings as l ON h.id = l.host_id GROUP BY l.host_id ORDER BY AVG(l.price) LIMIT 1')\n",
    "cursor.fetchall()"
   ]
  },
  {
   "cell_type": "markdown",
   "metadata": {},
   "source": [
    "* What is the name of the neighborhood with the most number of locations"
   ]
  },
  {
   "cell_type": "code",
   "execution_count": 32,
   "metadata": {},
   "outputs": [
    {
     "data": {
      "text/plain": [
       "[('Williamsburg',)]"
      ]
     },
     "execution_count": 32,
     "metadata": {},
     "output_type": "execute_result"
    }
   ],
   "source": [
    "cursor.execute('SELECT n.name FROM neighborhoods as n JOIN locations as l ON n.id = l.neighborhood_id GROUP BY n.id ORDER BY COUNT(n.id) DESC LIMIT 1;')\n",
    "cursor.fetchall()\n"
   ]
  },
  {
   "cell_type": "markdown",
   "metadata": {},
   "source": [
    "* What are the names of the neighborhoods with 10 locations?"
   ]
  },
  {
   "cell_type": "code",
   "execution_count": 31,
   "metadata": {},
   "outputs": [
    {
     "data": {
      "text/plain": [
       "[('North Riverdale',),\n",
       " ('Great Kills',),\n",
       " ('East Morrisania',),\n",
       " ('Melrose',),\n",
       " ('Bergen Beach',),\n",
       " ('Westchester Square',)]"
      ]
     },
     "execution_count": 31,
     "metadata": {},
     "output_type": "execute_result"
    }
   ],
   "source": [
    "cursor.execute('SELECT n.name FROM neighborhoods as n JOIN locations as l ON n.id = l.neighborhood_id GROUP BY n.id HAVING COUNT(n.id) = 10;')\n",
    "cursor.fetchall()"
   ]
  },
  {
   "cell_type": "markdown",
   "metadata": {},
   "source": [
    "The following questions will require joins of three tables"
   ]
  },
  {
   "cell_type": "markdown",
   "metadata": {},
   "source": [
    "* What is the average occupancy of each neighborhood?"
   ]
  },
  {
   "cell_type": "code",
   "execution_count": 37,
   "metadata": {},
   "outputs": [
    {
     "data": {
      "text/plain": [
       "[('Kensington', 281.0514285714286),\n",
       " ('Midtown', 207.29644012944985),\n",
       " ('Harlem', 258.4224981188864),\n",
       " ('Clinton Hill', 269.986013986014),\n",
       " ('East Harlem', 266.0268576544315),\n",
       " ('Murray Hill', 191.6783505154639),\n",
       " ('Bedford-Stuyvesant', 248.36537425955842),\n",
       " (\"Hell's Kitchen\", 226.1532175689479),\n",
       " ('Upper West Side', 268.41653982749875),\n",
       " ('Chinatown', 274.20380434782606),\n",
       " ('South Slope', 281.23943661971833),\n",
       " ('West Village', 279.5403645833333),\n",
       " ('Williamsburg', 290.2772959183674),\n",
       " ('Fort Greene', 274.85071574642126),\n",
       " ('Chelsea', 251.00449236298292),\n",
       " ('Crown Heights', 268.97953964194375),\n",
       " ('Park Slope', 276.2134387351779),\n",
       " ('Windsor Terrace', 283.11464968152865),\n",
       " ('Inwood', 266.45238095238096),\n",
       " ('East Village', 290.3761467889908),\n",
       " ('Greenpoint', 285.92286995515695),\n",
       " ('Bushwick', 269.44908722109534),\n",
       " ('Flatbush', 270.51529790660226),\n",
       " ('Lower East Side', 267.834248079034),\n",
       " ('Prospect-Lefferts Gardens', 269.88971962616824),\n",
       " ('Long Island City', 246.74301675977654),\n",
       " ('Kips Bay', 243.28297872340426),\n",
       " ('SoHo', 254.64245810055866),\n",
       " ('Upper East Side', 252.20189098998887),\n",
       " ('Prospect Heights', 287.484593837535),\n",
       " ('Washington Heights', 266.0678531701891),\n",
       " ('Woodside', 234.78297872340426),\n",
       " ('Brooklyn Heights', 298.961038961039),\n",
       " ('Carroll Gardens', 293.3304721030043),\n",
       " ('Gowanus', 242.2834008097166),\n",
       " ('Flatlands', 167.75903614457832),\n",
       " ('Cobble Hill', 301.7878787878788),\n",
       " ('Flushing', 198.7488262910798),\n",
       " ('Boerum Hill', 287.728813559322),\n",
       " ('Sunnyside', 239.29201101928373),\n",
       " ('DUMBO', 250.52777777777777),\n",
       " ('St. George', 173.25),\n",
       " ('Highbridge', 206.44444444444446),\n",
       " ('Financial District', 173.46370967741936),\n",
       " ('Ridgewood', 250.5744680851064),\n",
       " ('Morningside Heights', 321.9450867052023),\n",
       " ('Jamaica', 176.4935064935065),\n",
       " ('Middle Village', 154.0),\n",
       " ('NoHo', 263.1794871794872),\n",
       " ('Ditmars Steinway', 247.2621359223301),\n",
       " ('Flatiron District', 241.95),\n",
       " ('Roosevelt Island', 292.4155844155844),\n",
       " ('Greenwich Village', 282.94897959183675),\n",
       " ('Little Italy', 264.6611570247934),\n",
       " ('East Flatbush', 184.056),\n",
       " ('Tompkinsville', 155.57142857142858),\n",
       " ('Astoria', 255.8088888888889),\n",
       " ('Clason Point', 133.71428571428572),\n",
       " ('Eastchester', 31.53846153846154),\n",
       " ('Kingsbridge', 207.05714285714285),\n",
       " ('Two Bridges', 278.7638888888889),\n",
       " ('Queens Village', 198.56666666666666),\n",
       " ('Rockaway Beach', 202.57142857142858),\n",
       " ('Forest Hills', 237.26388888888889),\n",
       " ('Nolita', 295.1897233201581),\n",
       " ('Woodlawn', 266.72727272727275),\n",
       " ('University Heights', 229.71428571428572),\n",
       " ('Gravesend', 234.80882352941177),\n",
       " ('Gramercy', 270.4733727810651),\n",
       " ('Allerton', 201.33333333333334),\n",
       " ('East New York', 178.46330275229357),\n",
       " ('Theater District', 163.12847222222223),\n",
       " ('Concourse Village', 205.46875),\n",
       " ('Sheepshead Bay', 204.46341463414635),\n",
       " ('Emerson Hill', 284.2),\n",
       " ('Fort Hamilton', 214.0),\n",
       " ('Bensonhurst', 230.16),\n",
       " ('Tribeca', 238.4915254237288),\n",
       " ('Shore Acres', 250.42857142857142),\n",
       " ('Sunset Park', 258.35897435897436),\n",
       " ('Concourse', 204.96),\n",
       " ('Elmhurst', 236.60337552742615),\n",
       " ('Brighton Beach', 194.13333333333333),\n",
       " ('Jackson Heights', 214.72043010752688),\n",
       " ('Cypress Hills', 196.5037037037037),\n",
       " ('St. Albans', 139.02631578947367),\n",
       " ('Arrochar', 109.19047619047619),\n",
       " ('Rego Park', 231.43396226415095),\n",
       " ('Wakefield', 167.3),\n",
       " ('Clifton', 175.6),\n",
       " ('Bay Ridge', 222.0709219858156),\n",
       " ('Graniteville', 202.0),\n",
       " ('Spuyten Duyvil', 95.0),\n",
       " ('Stapleton', 149.37037037037038),\n",
       " ('Briarwood', 187.07142857142858),\n",
       " ('Ozone Park', 211.16129032258064),\n",
       " ('Columbia St', 295.9047619047619),\n",
       " ('Vinegar Hill', 285.47058823529414),\n",
       " ('Mott Haven', 218.06666666666666),\n",
       " ('Longwood', 210.7741935483871),\n",
       " ('Canarsie', 141.12925170068027),\n",
       " ('Battery Park City', 264.6714285714286),\n",
       " ('Civic Center', 296.7307692307692),\n",
       " ('East Elmhurst', 195.5081081081081),\n",
       " ('New Springville', 299.75),\n",
       " ('Morris Heights', 166.76470588235293),\n",
       " ('Arverne', 176.57142857142858),\n",
       " ('Cambria Heights', 220.8846153846154),\n",
       " ('Tottenville', 97.42857142857143),\n",
       " ('Mariners Harbor', 173.5),\n",
       " ('Concord', 109.42307692307692),\n",
       " ('Borough Park', 196.6764705882353),\n",
       " ('Bayside', 175.07692307692307),\n",
       " ('Downtown Brooklyn', 325.51807228915663),\n",
       " ('Port Morris', 212.82608695652175),\n",
       " ('Fieldston', 221.25),\n",
       " ('Kew Gardens', 163.84375),\n",
       " ('Midwood', 267.1834862385321),\n",
       " ('College Point', 223.3684210526316),\n",
       " ('Mount Eden', 228.83333333333334),\n",
       " ('City Island', 233.77777777777777),\n",
       " ('Glendale', 217.72222222222223),\n",
       " ('Port Richmond', 174.0),\n",
       " ('Red Hook', 268.7974683544304),\n",
       " ('Richmond Hill', 170.06382978723406),\n",
       " ('Bellerose', 122.14285714285714),\n",
       " ('Maspeth', 177.4909090909091),\n",
       " ('Williamsbridge', 140.55),\n",
       " ('Soundview', 231.33333333333334),\n",
       " ('Woodhaven', 164.07954545454547),\n",
       " ('Woodrow', 365.0),\n",
       " ('Co-op City', 1.0),\n",
       " ('Stuyvesant Town', 299.8918918918919),\n",
       " ('Parkchester', 224.56410256410257),\n",
       " ('North Riverdale', 199.0),\n",
       " ('Dyker Heights', 220.25),\n",
       " ('Bronxdale', 219.57894736842104),\n",
       " ('Sea Gate', 299.42857142857144),\n",
       " ('Riverdale', 204.1818181818182),\n",
       " ('Kew Gardens Hills', 240.3846153846154),\n",
       " ('Bay Terrace', 142.5),\n",
       " ('Norwood', 210.70967741935485),\n",
       " ('Claremont Village', 185.32142857142858),\n",
       " ('Whitestone', 187.72727272727272),\n",
       " ('Fordham', 221.44444444444446),\n",
       " ('Bayswater', 157.64705882352942),\n",
       " ('Navy Yard', 316.07142857142856),\n",
       " ('Brownsville', 243.672131147541),\n",
       " ('Eltingville', 172.0),\n",
       " ('Fresh Meadows', 227.03125),\n",
       " ('Mount Hope', 209.35),\n",
       " ('Lighthouse Hill', 149.5),\n",
       " ('Springfield Gardens', 160.98823529411766),\n",
       " ('Howard Beach', 156.5),\n",
       " ('Belle Harbor', 178.375),\n",
       " ('Jamaica Estates', 193.68421052631578),\n",
       " ('Van Nest', 208.63636363636363),\n",
       " ('Morris Park', 239.0),\n",
       " ('West Brighton', 90.27777777777777),\n",
       " ('Far Rockaway', 199.13793103448276),\n",
       " ('South Ozone Park', 138.9),\n",
       " ('Tremont', 246.0),\n",
       " ('Corona', 120.828125),\n",
       " ('Great Kills', 216.4),\n",
       " ('Manhattan Beach', 159.375),\n",
       " ('Marble Hill', 250.33333333333334),\n",
       " ('Dongan Hills', 207.71428571428572),\n",
       " ('Castleton Corners', 176.25),\n",
       " ('East Morrisania', 171.5),\n",
       " ('Hunts Point', 125.83333333333333),\n",
       " ('Neponsit', 134.0),\n",
       " ('Pelham Bay', 163.35294117647058),\n",
       " ('Randall Manor', 89.78947368421052),\n",
       " ('Throgs Neck', 189.20833333333334),\n",
       " ('Todt Hill', 276.0),\n",
       " ('West Farms', 120.5),\n",
       " ('Silver Lake', 203.0),\n",
       " ('Morrisania', 229.5),\n",
       " ('Laurelton', 180.38888888888889),\n",
       " ('Grymes Hill', 223.42857142857142),\n",
       " ('Holliswood', 195.5),\n",
       " ('Pelham Gardens', 218.64285714285714),\n",
       " ('Belmont', 177.33333333333334),\n",
       " ('Rosedale', 187.05084745762713),\n",
       " ('Edgemere', 89.72727272727273),\n",
       " ('New Brighton', 222.4),\n",
       " ('Midland Beach', 129.0),\n",
       " ('Baychester', 207.14285714285714),\n",
       " ('Melrose', 271.4),\n",
       " ('Bergen Beach', 226.8),\n",
       " ('Richmondtown', 65.0),\n",
       " ('Howland Hook', 139.5),\n",
       " ('Schuylerville', 221.76923076923077),\n",
       " ('Coney Island', 201.76470588235293),\n",
       " ('New Dorp Beach', 190.6),\n",
       " (\"Prince's Bay\", 254.5),\n",
       " ('South Beach', 182.125),\n",
       " ('Bath Beach', 168.88235294117646),\n",
       " ('Jamaica Hills', 224.875),\n",
       " ('Oakwood', 176.6),\n",
       " ('Castle Hill', 205.66666666666666),\n",
       " ('Hollis', 219.21428571428572),\n",
       " ('Douglaston', 159.375),\n",
       " ('Huguenot', 157.0),\n",
       " ('Olinville', 192.5),\n",
       " ('Edenwald', 151.53846153846155),\n",
       " ('Grant City', 124.66666666666667),\n",
       " ('Westerleigh', 252.5),\n",
       " ('Bay Terrace, Staten Island', 365.0),\n",
       " ('Westchester Square', 205.3),\n",
       " ('Little Neck', 283.8),\n",
       " ('Fort Wadsworth', 0.0),\n",
       " ('Rosebank', 189.85714285714286),\n",
       " ('Unionport', 121.0),\n",
       " ('Mill Basin', 75.0),\n",
       " ('Arden Heights', 270.75),\n",
       " (\"Bull's Head\", 199.33333333333334),\n",
       " ('New Dorp', 365.0),\n",
       " ('Rossville', 306.0),\n",
       " ('Breezy Point', 264.6666666666667),\n",
       " ('Willowbrook', 14.0)]"
      ]
     },
     "execution_count": 37,
     "metadata": {},
     "output_type": "execute_result"
    }
   ],
   "source": [
    "cursor.execute('SELECT n.name, AVG(l.occupancy) FROM neighborhoods as n JOIN locations as lo ON n.id = lo.neighborhood_id JOIN listings as l ON lo.id = l.location_id GROUP BY lo.neighborhood_id;')\n",
    "cursor.fetchall()"
   ]
  },
  {
   "cell_type": "markdown",
   "metadata": {},
   "source": [
    "* What is the total number of reviews for each neighborhood?"
   ]
  },
  {
   "cell_type": "code",
   "execution_count": 38,
   "metadata": {},
   "outputs": [
    {
     "data": {
      "text/plain": [
       "[('Kensington', 2972),\n",
       " ('Midtown', 19444),\n",
       " ('Harlem', 75962),\n",
       " ('Clinton Hill', 14586),\n",
       " ('East Harlem', 36446),\n",
       " ('Murray Hill', 4535),\n",
       " ('Bedford-Stuyvesant', 110352),\n",
       " (\"Hell's Kitchen\", 50227),\n",
       " ('Upper West Side', 36058),\n",
       " ('Chinatown', 9941),\n",
       " ('South Slope', 10405),\n",
       " ('West Village', 14885),\n",
       " ('Williamsburg', 85427),\n",
       " ('Fort Greene', 10608),\n",
       " ('Chelsea', 23641),\n",
       " ('Crown Heights', 36408),\n",
       " ('Park Slope', 14638),\n",
       " ('Windsor Terrace', 4324),\n",
       " ('Inwood', 4690),\n",
       " ('East Village', 44670),\n",
       " ('Greenpoint', 19429),\n",
       " ('Bushwick', 52514),\n",
       " ('Flatbush', 12787),\n",
       " ('Lower East Side', 24161),\n",
       " ('Prospect-Lefferts Gardens', 14051),\n",
       " ('Long Island City', 12256),\n",
       " ('Kips Bay', 5837),\n",
       " ('SoHo', 7235),\n",
       " ('Upper East Side', 31686),\n",
       " ('Prospect Heights', 10875),\n",
       " ('Washington Heights', 17161),\n",
       " ('Woodside', 5035),\n",
       " ('Brooklyn Heights', 2555),\n",
       " ('Carroll Gardens', 5897),\n",
       " ('Gowanus', 7709),\n",
       " ('Flatlands', 1839),\n",
       " ('Cobble Hill', 2888),\n",
       " ('Flushing', 14818),\n",
       " ('Boerum Hill', 4295),\n",
       " ('Sunnyside', 8070),\n",
       " ('DUMBO', 1382),\n",
       " ('St. George', 1987),\n",
       " ('Highbridge', 1318),\n",
       " ('Financial District', 6931),\n",
       " ('Ridgewood', 7778),\n",
       " ('Morningside Heights', 4599),\n",
       " ('Jamaica', 9910),\n",
       " ('Middle Village', 1055),\n",
       " ('NoHo', 994),\n",
       " ('Ditmars Steinway', 7852),\n",
       " ('Flatiron District', 1419),\n",
       " ('Roosevelt Island', 1214),\n",
       " ('Greenwich Village', 6526),\n",
       " ('Little Italy', 2799),\n",
       " ('East Flatbush', 12448),\n",
       " ('Tompkinsville', 2400),\n",
       " ('Astoria', 19310),\n",
       " ('Clason Point', 316),\n",
       " ('Eastchester', 157),\n",
       " ('Kingsbridge', 1435),\n",
       " ('Two Bridges', 2129),\n",
       " ('Queens Village', 2147),\n",
       " ('Rockaway Beach', 1358),\n",
       " ('Forest Hills', 3210),\n",
       " ('Nolita', 5634),\n",
       " ('Woodlawn', 484),\n",
       " ('University Heights', 779),\n",
       " ('Gravesend', 1336),\n",
       " ('Gramercy', 7682),\n",
       " ('Allerton', 1803),\n",
       " ('East New York', 6759),\n",
       " ('Theater District', 4342),\n",
       " ('Concourse Village', 807),\n",
       " ('Sheepshead Bay', 3262),\n",
       " ('Emerson Hill', 56),\n",
       " ('Fort Hamilton', 745),\n",
       " ('Bensonhurst', 1845),\n",
       " ('Tribeca', 2034),\n",
       " ('Shore Acres', 146),\n",
       " ('Sunset Park', 7882),\n",
       " ('Concourse', 1643),\n",
       " ('Elmhurst', 5554),\n",
       " ('Brighton Beach', 1347),\n",
       " ('Jackson Heights', 5061),\n",
       " ('Cypress Hills', 4482),\n",
       " ('St. Albans', 2584),\n",
       " ('Arrochar', 307),\n",
       " ('Rego Park', 2754),\n",
       " ('Wakefield', 1279),\n",
       " ('Clifton', 708),\n",
       " ('Bay Ridge', 2618),\n",
       " ('Graniteville', 123),\n",
       " ('Spuyten Duyvil', 70),\n",
       " ('Stapleton', 1036),\n",
       " ('Briarwood', 1247),\n",
       " ('Ozone Park', 1512),\n",
       " ('Columbia St', 685),\n",
       " ('Vinegar Hill', 545),\n",
       " ('Mott Haven', 2542),\n",
       " ('Longwood', 1653),\n",
       " ('Canarsie', 5338),\n",
       " ('Battery Park City', 580),\n",
       " ('Civic Center', 637),\n",
       " ('East Elmhurst', 15107),\n",
       " ('New Springville', 235),\n",
       " ('Morris Heights', 465),\n",
       " ('Arverne', 2253),\n",
       " ('Cambria Heights', 485),\n",
       " ('Tottenville', 139),\n",
       " ('Mariners Harbor', 173),\n",
       " ('Concord', 648),\n",
       " ('Borough Park', 2232),\n",
       " ('Bayside', 928),\n",
       " ('Downtown Brooklyn', 1188),\n",
       " ('Port Morris', 948),\n",
       " ('Fieldston', 146),\n",
       " ('Kew Gardens', 332),\n",
       " ('Midwood', 1655),\n",
       " ('College Point', 439),\n",
       " ('Mount Eden', 420),\n",
       " ('City Island', 759),\n",
       " ('Glendale', 1459),\n",
       " ('Port Richmond', 153),\n",
       " ('Red Hook', 2263),\n",
       " ('Richmond Hill', 3230),\n",
       " ('Bellerose', 118),\n",
       " ('Maspeth', 2490),\n",
       " ('Williamsbridge', 1138),\n",
       " ('Soundview', 441),\n",
       " ('Woodhaven', 2792),\n",
       " ('Woodrow', 0),\n",
       " ('Co-op City', 34),\n",
       " ('Stuyvesant Town', 302),\n",
       " ('Parkchester', 911),\n",
       " ('North Riverdale', 182),\n",
       " ('Dyker Heights', 415),\n",
       " ('Bronxdale', 458),\n",
       " ('Sea Gate', 10),\n",
       " ('Riverdale', 293),\n",
       " ('Kew Gardens Hills', 331),\n",
       " ('Bay Terrace', 249),\n",
       " ('Norwood', 519),\n",
       " ('Claremont Village', 350),\n",
       " ('Whitestone', 249),\n",
       " ('Fordham', 956),\n",
       " ('Bayswater', 191),\n",
       " ('Navy Yard', 251),\n",
       " ('Brownsville', 1912),\n",
       " ('Eltingville', 228),\n",
       " ('Fresh Meadows', 1045),\n",
       " ('Mount Hope', 435),\n",
       " ('Lighthouse Hill', 78),\n",
       " ('Springfield Gardens', 5873),\n",
       " ('Howard Beach', 272),\n",
       " ('Belle Harbor', 74),\n",
       " ('Jamaica Estates', 596),\n",
       " ('Van Nest', 206),\n",
       " ('Morris Park', 271),\n",
       " ('West Brighton', 656),\n",
       " ('Far Rockaway', 374),\n",
       " ('South Ozone Park', 1947),\n",
       " ('Tremont', 227),\n",
       " ('Corona', 1806),\n",
       " ('Great Kills', 264),\n",
       " ('Manhattan Beach', 405),\n",
       " ('Marble Hill', 168),\n",
       " ('Dongan Hills', 158),\n",
       " ('Castleton Corners', 101),\n",
       " ('East Morrisania', 480),\n",
       " ('Hunts Point', 176),\n",
       " ('Neponsit', 46),\n",
       " ('Pelham Bay', 442),\n",
       " ('Randall Manor', 342),\n",
       " ('Throgs Neck', 769),\n",
       " ('Todt Hill', 16),\n",
       " ('West Farms', 7),\n",
       " ('Silver Lake', 237),\n",
       " ('Morrisania', 186),\n",
       " ('Laurelton', 528),\n",
       " ('Grymes Hill', 74),\n",
       " ('Holliswood', 15),\n",
       " ('Pelham Gardens', 1140),\n",
       " ('Belmont', 296),\n",
       " ('Rosedale', 1673),\n",
       " ('Edgemere', 113),\n",
       " ('New Brighton', 201),\n",
       " ('Midland Beach', 37),\n",
       " ('Baychester', 310),\n",
       " ('Melrose', 90),\n",
       " ('Bergen Beach', 205),\n",
       " ('Richmondtown', 79),\n",
       " ('Howland Hook', 41),\n",
       " ('Schuylerville', 423),\n",
       " ('Coney Island', 373),\n",
       " ('New Dorp Beach', 74),\n",
       " (\"Prince's Bay\", 23),\n",
       " ('South Beach', 95),\n",
       " ('Bath Beach', 363),\n",
       " ('Jamaica Hills', 69),\n",
       " ('Oakwood', 9),\n",
       " ('Castle Hill', 118),\n",
       " ('Hollis', 164),\n",
       " ('Douglaston', 167),\n",
       " ('Huguenot', 167),\n",
       " ('Olinville', 30),\n",
       " ('Edenwald', 200),\n",
       " ('Grant City', 161),\n",
       " ('Westerleigh', 18),\n",
       " ('Bay Terrace, Staten Island', 3),\n",
       " ('Westchester Square', 155),\n",
       " ('Little Neck', 19),\n",
       " ('Fort Wadsworth', 0),\n",
       " ('Rosebank', 215),\n",
       " ('Unionport', 104),\n",
       " ('Mill Basin', 69),\n",
       " ('Arden Heights', 31),\n",
       " (\"Bull's Head\", 92),\n",
       " ('New Dorp', 0),\n",
       " ('Rossville', 21),\n",
       " ('Breezy Point', 5),\n",
       " ('Willowbrook', 9)]"
      ]
     },
     "execution_count": 38,
     "metadata": {},
     "output_type": "execute_result"
    }
   ],
   "source": [
    "cursor.execute('SELECT n.name, SUM(l.number_of_reviews) FROM neighborhoods as n JOIN locations as lo ON n.id = lo.neighborhood_id JOIN listings as l ON lo.id = l.location_id GROUP BY lo.neighborhood_id;')\n",
    "cursor.fetchall()"
   ]
  },
  {
   "cell_type": "markdown",
   "metadata": {},
   "source": [
    "* Write a query that returns the name and average listing price of each neighborhood"
   ]
  },
  {
   "cell_type": "code",
   "execution_count": 39,
   "metadata": {},
   "outputs": [
    {
     "data": {
      "text/plain": [
       "[('Kensington', 92.88571428571429),\n",
       " ('Midtown', 282.7190938511327),\n",
       " ('Harlem', 118.97404063205417),\n",
       " ('Clinton Hill', 181.89335664335664),\n",
       " ('East Harlem', 133.1987466427932),\n",
       " ('Murray Hill', 220.95876288659792),\n",
       " ('Bedford-Stuyvesant', 107.67824448034465),\n",
       " (\"Hell's Kitchen\", 204.79417773237998),\n",
       " ('Upper West Side', 210.91831557584982),\n",
       " ('Chinatown', 161.49728260869566),\n",
       " ('South Slope', 146.72535211267606),\n",
       " ('West Village', 267.6822916666667),\n",
       " ('Williamsburg', 143.80280612244897),\n",
       " ('Fort Greene', 151.37423312883436),\n",
       " ('Chelsea', 249.73854447439354),\n",
       " ('Crown Heights', 112.480179028133),\n",
       " ('Park Slope', 176.31225296442688),\n",
       " ('Windsor Terrace', 138.9936305732484),\n",
       " ('Inwood', 88.89682539682539),\n",
       " ('East Village', 186.0831084727469),\n",
       " ('Greenpoint', 144.82242152466367),\n",
       " ('Bushwick', 84.80040567951319),\n",
       " ('Flatbush', 92.21256038647343),\n",
       " ('Lower East Side', 186.31284302963775),\n",
       " ('Prospect-Lefferts Gardens', 110.40186915887851),\n",
       " ('Long Island City', 127.46554934823091),\n",
       " ('Kips Bay', 202.40851063829788),\n",
       " ('SoHo', 287.1033519553073),\n",
       " ('Upper East Side', 188.94827586206895),\n",
       " ('Prospect Heights', 173.37254901960785),\n",
       " ('Washington Heights', 89.6106785317019),\n",
       " ('Woodside', 85.09787234042552),\n",
       " ('Brooklyn Heights', 209.06493506493507),\n",
       " ('Carroll Gardens', 175.91416309012877),\n",
       " ('Gowanus', 158.80161943319837),\n",
       " ('Flatlands', 126.43373493975903),\n",
       " ('Cobble Hill', 211.92929292929293),\n",
       " ('Flushing', 93.51408450704226),\n",
       " ('Boerum Hill', 176.135593220339),\n",
       " ('Sunnyside', 84.86501377410468),\n",
       " ('DUMBO', 196.30555555555554),\n",
       " ('St. George', 118.14583333333333),\n",
       " ('Highbridge', 71.11111111111111),\n",
       " ('Financial District', 225.49059139784947),\n",
       " ('Ridgewood', 77.18439716312056),\n",
       " ('Morningside Heights', 114.78323699421965),\n",
       " ('Jamaica', 95.77056277056278),\n",
       " ('Middle Village', 109.58064516129032),\n",
       " ('NoHo', 295.71794871794873),\n",
       " ('Ditmars Steinway', 95.02912621359224),\n",
       " ('Flatiron District', 341.925),\n",
       " ('Roosevelt Island', 113.25974025974025),\n",
       " ('Greenwich Village', 263.40561224489795),\n",
       " ('Little Italy', 222.06611570247935),\n",
       " ('East Flatbush', 104.222),\n",
       " ('Tompkinsville', 76.19047619047619),\n",
       " ('Astoria', 117.18777777777778),\n",
       " ('Clason Point', 112.76190476190476),\n",
       " ('Eastchester', 141.69230769230768),\n",
       " ('Kingsbridge', 77.92857142857143),\n",
       " ('Two Bridges', 127.06944444444444),\n",
       " ('Queens Village', 83.93333333333334),\n",
       " ('Rockaway Beach', 132.17857142857142),\n",
       " ('Forest Hills', 121.625),\n",
       " ('Nolita', 230.13833992094862),\n",
       " ('Woodlawn', 60.09090909090909),\n",
       " ('University Heights', 69.57142857142857),\n",
       " ('Gravesend', 79.01470588235294),\n",
       " ('Gramercy', 222.75443786982248),\n",
       " ('Allerton', 87.5952380952381),\n",
       " ('East New York', 85.42660550458716),\n",
       " ('Theater District', 248.01388888888889),\n",
       " ('Concourse Village', 73.78125),\n",
       " ('Sheepshead Bay', 105.77439024390245),\n",
       " ('Emerson Hill', 68.2),\n",
       " ('Fort Hamilton', 93.81818181818181),\n",
       " ('Bensonhurst', 75.78666666666666),\n",
       " ('Tribeca', 490.638418079096),\n",
       " ('Shore Acres', 152.71428571428572),\n",
       " ('Sunset Park', 113.04102564102564),\n",
       " ('Concourse', 86.18),\n",
       " ('Elmhurst', 80.45991561181435),\n",
       " ('Brighton Beach', 131.93333333333334),\n",
       " ('Jackson Heights', 80.89784946236558),\n",
       " ('Cypress Hills', 128.9037037037037),\n",
       " ('St. Albans', 100.82894736842105),\n",
       " ('Arrochar', 115.0),\n",
       " ('Rego Park', 83.87735849056604),\n",
       " ('Wakefield', 85.58),\n",
       " ('Clifton', 84.93333333333334),\n",
       " ('Bay Ridge', 144.43262411347519),\n",
       " ('Graniteville', 68.66666666666667),\n",
       " ('Spuyten Duyvil', 154.75),\n",
       " ('Stapleton', 98.96296296296296),\n",
       " ('Briarwood', 105.875),\n",
       " ('Ozone Park', 85.2741935483871),\n",
       " ('Columbia St', 162.95238095238096),\n",
       " ('Vinegar Hill', 187.1764705882353),\n",
       " ('Mott Haven', 88.91666666666667),\n",
       " ('Longwood', 91.91935483870968),\n",
       " ('Canarsie', 104.36734693877551),\n",
       " ('Battery Park City', 367.5571428571429),\n",
       " ('Civic Center', 191.94230769230768),\n",
       " ('East Elmhurst', 81.18378378378378),\n",
       " ('New Springville', 76.0),\n",
       " ('Morris Heights', 76.94117647058823),\n",
       " ('Arverne', 171.7792207792208),\n",
       " ('Cambria Heights', 81.73076923076923),\n",
       " ('Tottenville', 144.85714285714286),\n",
       " ('Mariners Harbor', 94.625),\n",
       " ('Concord', 58.19230769230769),\n",
       " ('Borough Park', 63.06617647058823),\n",
       " ('Bayside', 157.94871794871796),\n",
       " ('Downtown Brooklyn', 150.34939759036143),\n",
       " ('Port Morris', 79.8913043478261),\n",
       " ('Fieldston', 75.08333333333333),\n",
       " ('Kew Gardens', 88.375),\n",
       " ('Midwood', 80.33944954128441),\n",
       " ('College Point', 88.0),\n",
       " ('Mount Eden', 58.5),\n",
       " ('City Island', 173.0),\n",
       " ('Glendale', 90.79629629629629),\n",
       " ('Port Richmond', 90.11111111111111),\n",
       " ('Red Hook', 143.45569620253164),\n",
       " ('Richmond Hill', 87.11702127659575),\n",
       " ('Bellerose', 99.35714285714286),\n",
       " ('Maspeth', 83.64545454545454),\n",
       " ('Williamsbridge', 96.75),\n",
       " ('Soundview', 53.46666666666667),\n",
       " ('Woodhaven', 67.17045454545455),\n",
       " ('Woodrow', 700.0),\n",
       " ('Co-op City', 77.5),\n",
       " ('Stuyvesant Town', 169.1081081081081),\n",
       " ('Parkchester', 69.07692307692308),\n",
       " ('North Riverdale', 79.9),\n",
       " ('Dyker Heights', 93.41666666666667),\n",
       " ('Bronxdale', 57.10526315789474),\n",
       " ('Sea Gate', 487.85714285714283),\n",
       " ('Riverdale', 442.09090909090907),\n",
       " ('Kew Gardens Hills', 112.3076923076923),\n",
       " ('Bay Terrace', 142.0),\n",
       " ('Norwood', 75.54838709677419),\n",
       " ('Claremont Village', 87.46428571428571),\n",
       " ('Whitestone', 107.54545454545455),\n",
       " ('Fordham', 69.44444444444444),\n",
       " ('Bayswater', 87.47058823529412),\n",
       " ('Navy Yard', 151.64285714285714),\n",
       " ('Brownsville', 76.45901639344262),\n",
       " ('Eltingville', 141.66666666666666),\n",
       " ('Fresh Meadows', 99.5),\n",
       " ('Mount Hope', 77.5),\n",
       " ('Lighthouse Hill', 157.5),\n",
       " ('Springfield Gardens', 94.23529411764706),\n",
       " ('Howard Beach', 115.4),\n",
       " ('Belle Harbor', 171.5),\n",
       " ('Jamaica Estates', 182.94736842105263),\n",
       " ('Van Nest', 113.81818181818181),\n",
       " ('Morris Park', 69.33333333333333),\n",
       " ('West Brighton', 80.55555555555556),\n",
       " ('Far Rockaway', 165.86206896551724),\n",
       " ('South Ozone Park', 82.4),\n",
       " ('Tremont', 51.54545454545455),\n",
       " ('Corona', 59.171875),\n",
       " ('Great Kills', 100.6),\n",
       " ('Manhattan Beach', 103.5),\n",
       " ('Marble Hill', 89.16666666666667),\n",
       " ('Dongan Hills', 79.42857142857143),\n",
       " ('Castleton Corners', 139.75),\n",
       " ('East Morrisania', 85.0),\n",
       " ('Hunts Point', 50.5),\n",
       " ('Neponsit', 274.6666666666667),\n",
       " ('Pelham Bay', 105.0),\n",
       " ('Randall Manor', 336.0),\n",
       " ('Throgs Neck', 91.04166666666667),\n",
       " ('Todt Hill', 169.0),\n",
       " ('West Farms', 122.0),\n",
       " ('Silver Lake', 70.0),\n",
       " ('Morrisania', 83.44444444444444),\n",
       " ('Laurelton', 95.33333333333333),\n",
       " ('Grymes Hill', 159.14285714285714),\n",
       " ('Holliswood', 135.75),\n",
       " ('Pelham Gardens', 93.60714285714286),\n",
       " ('Belmont', 77.125),\n",
       " ('Rosedale', 76.69491525423729),\n",
       " ('Edgemere', 94.72727272727273),\n",
       " ('New Brighton', 101.8),\n",
       " ('Midland Beach', 91.83333333333333),\n",
       " ('Baychester', 75.42857142857143),\n",
       " ('Melrose', 83.3),\n",
       " ('Bergen Beach', 106.7),\n",
       " ('Richmondtown', 78.0),\n",
       " ('Howland Hook', 100.0),\n",
       " ('Schuylerville', 69.23076923076923),\n",
       " ('Coney Island', 123.70588235294117),\n",
       " ('New Dorp Beach', 57.4),\n",
       " (\"Prince's Bay\", 409.5),\n",
       " ('South Beach', 89.25),\n",
       " ('Bath Beach', 81.76470588235294),\n",
       " ('Jamaica Hills', 132.125),\n",
       " ('Oakwood', 81.2),\n",
       " ('Castle Hill', 63.0),\n",
       " ('Hollis', 88.64285714285714),\n",
       " ('Douglaston', 82.75),\n",
       " ('Huguenot', 118.33333333333333),\n",
       " ('Olinville', 64.0),\n",
       " ('Edenwald', 82.0),\n",
       " ('Grant City', 57.666666666666664),\n",
       " ('Westerleigh', 71.5),\n",
       " ('Bay Terrace, Staten Island', 102.5),\n",
       " ('Westchester Square', 122.2),\n",
       " ('Little Neck', 75.2),\n",
       " ('Fort Wadsworth', 800.0),\n",
       " ('Rosebank', 111.85714285714286),\n",
       " ('Unionport', 137.14285714285714),\n",
       " ('Mill Basin', 179.75),\n",
       " ('Arden Heights', 67.25),\n",
       " (\"Bull's Head\", 47.333333333333336),\n",
       " ('New Dorp', 57.0),\n",
       " ('Rossville', 75.0),\n",
       " ('Breezy Point', 213.33333333333334),\n",
       " ('Willowbrook', 249.0)]"
      ]
     },
     "execution_count": 39,
     "metadata": {},
     "output_type": "execute_result"
    }
   ],
   "source": [
    "cursor.execute('SELECT n.name, AVG(l.price) FROM neighborhoods as n JOIN locations as lo ON n.id = lo.neighborhood_id JOIN listings as l ON lo.id = l.location_id GROUP BY lo.neighborhood_id;')\n",
    "cursor.fetchall()"
   ]
  },
  {
   "cell_type": "markdown",
   "metadata": {},
   "source": [
    "### Conclusion\n",
    "In this lab we worked on the \"Has One\" and \"Has Many\" relations in SQL. We began by mapping out the relations between the tables, which gave us a better idea of how we could then join them in our queries. We finished the lab by creating queries using JOIN clauses that connect the tables using these relationships."
   ]
  }
 ],
 "metadata": {
  "kernelspec": {
   "display_name": "Python 3",
   "language": "python",
   "name": "python3"
  },
  "language_info": {
   "codemirror_mode": {
    "name": "ipython",
    "version": 3
   },
   "file_extension": ".py",
   "mimetype": "text/x-python",
   "name": "python",
   "nbconvert_exporter": "python",
   "pygments_lexer": "ipython3",
   "version": "3.7.1"
  }
 },
 "nbformat": 4,
 "nbformat_minor": 2
}
