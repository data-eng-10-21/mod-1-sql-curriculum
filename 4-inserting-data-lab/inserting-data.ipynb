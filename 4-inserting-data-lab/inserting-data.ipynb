{
 "cells": [
  {
   "cell_type": "markdown",
   "metadata": {},
   "source": [
    "# Inserting data lab"
   ]
  },
  {
   "cell_type": "markdown",
   "metadata": {},
   "source": [
    "### Introduction"
   ]
  },
  {
   "cell_type": "markdown",
   "metadata": {},
   "source": [
    "Now that Mean Green has some tables to store information about employees and ingredients that it needs to purchase, it is ready to populate it's tables."
   ]
  },
  {
   "cell_type": "markdown",
   "metadata": {},
   "source": [
    "### Recreate the Tables"
   ]
  },
  {
   "cell_type": "markdown",
   "metadata": {},
   "source": [
    "* Have the code written out and in separate files for creating the tables \n",
    "* Tell them to run the tables from the command line\n",
    "* Prove the tables are created by `.tables`"
   ]
  },
  {
   "cell_type": "markdown",
   "metadata": {},
   "source": [
    "### Populating the Ingredients Table"
   ]
  },
  {
   "cell_type": "markdown",
   "metadata": {},
   "source": [
    "* Begin by creating a new file called `create_ingredients.sql`, to write the related SQL code."
   ]
  },
  {
   "cell_type": "markdown",
   "metadata": {},
   "source": [
    "* Fine to have a list of five ingredients "
   ]
  },
  {
   "cell_type": "markdown",
   "metadata": {},
   "source": [
    "* Take some from sweetgreen \n",
    "\n",
    "https://www.sweetgreen.com/menu/?region=new-york"
   ]
  },
  {
   "cell_type": "markdown",
   "metadata": {},
   "source": [
    "* have way to check that the employees table is correctly populated, `select * from the employees`"
   ]
  },
  {
   "cell_type": "markdown",
   "metadata": {},
   "source": [
    "### Populating Employees Table"
   ]
  },
  {
   "cell_type": "markdown",
   "metadata": {},
   "source": [
    "* Here, let's create list of four employees that they need to write the insert code for"
   ]
  },
  {
   "cell_type": "markdown",
   "metadata": {},
   "source": [
    "### Conclusion"
   ]
  },
  {
   "cell_type": "markdown",
   "metadata": {},
   "source": [
    "* Here just wrap up what they learned \n",
    "\n",
    "* Learned that we need these two steps of both creating the code and executing the code.\n",
    "* We write the code in a separate `.sql` file"
   ]
  }
 ],
 "metadata": {
  "kernelspec": {
   "display_name": "Python 3",
   "language": "python",
   "name": "python3"
  },
  "language_info": {
   "codemirror_mode": {
    "name": "ipython",
    "version": 3
   },
   "file_extension": ".py",
   "mimetype": "text/x-python",
   "name": "python",
   "nbconvert_exporter": "python",
   "pygments_lexer": "ipython3",
   "version": "3.7.3"
  }
 },
 "nbformat": 4,
 "nbformat_minor": 2
}
