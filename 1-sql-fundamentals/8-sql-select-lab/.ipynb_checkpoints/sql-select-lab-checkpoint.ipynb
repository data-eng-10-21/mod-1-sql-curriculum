{
 "cells": [
  {
   "cell_type": "markdown",
   "metadata": {},
   "source": [
    "# Select SQL Lab"
   ]
  },
  {
   "cell_type": "markdown",
   "metadata": {},
   "source": [
    "### Introduction\n",
    "We've learned all the basics about setting up our SQL database, creating tables, and inserting data. In this lab we will practice querying the data from our salad shop database using `SELECT` statements."
   ]
  },
  {
   "cell_type": "markdown",
   "metadata": {},
   "source": [
    "### Setup"
   ]
  },
  {
   "cell_type": "markdown",
   "metadata": {},
   "source": [
    "To begin, we will set up our database and populate the tables as we have done in previous labs.  Copy the following code into the respective files."
   ]
  },
  {
   "cell_type": "markdown",
   "metadata": {},
   "source": [
    "Copy the following into a `create_tables.sql` file."
   ]
  },
  {
   "cell_type": "markdown",
   "metadata": {},
   "source": [
    "```SQL\n",
    "-- create_tables.sql\n",
    "CREATE TABLE employees (id INTEGER PRIMARY KEY AUTOINCREMENT, name TEXT,\n",
    "  position TEXT, start_date DATE, zip_code TEXT, phone_number TEXT);\n",
    "  \n",
    "CREATE TABLE ingredients (id INTEGER PRIMARY KEY AUTOINCREMENT, name TEXT,\n",
    "  cost_per_ounce FLOAT, calories_per_ounce INTEGER, expiration DATE);\n",
    "\n",
    "```"
   ]
  },
  {
   "cell_type": "markdown",
   "metadata": {},
   "source": [
    "And the following into an `insert_tables.sql` file."
   ]
  },
  {
   "cell_type": "markdown",
   "metadata": {},
   "source": [
    "```sql\n",
    "-- insert_tables.sql\n",
    "INSERT INTO employees (name, position, start_date, zip_code, phone_number)\n",
    "VALUES (\"Tom\", \"manager\", \"2019-05-20\", \"10001\", \"212-438-3984\"),\n",
    "  (\"Alison\", \"salad maker\", \"2020-01-04\", \"10023\", \"212-329-2489\"),\n",
    "  (\"Jerry\", \"delivery driver\", \"2019-12-15\", \"10001\", \"212-219-1029\"),\n",
    "  (\"Brian\", \"salad maker\", \"2019-12-04\", \"10002\", \"646-328-2309\"),\n",
    "  (\"Vanessa\", \"clerk\", \"2019-11-14\", \"11201\", \"718-348-2348\"),\n",
    "  (\"Cindy\", \"assistant manager\", \"2019-11-12\", \"10002\", \"212-300-1203\"),\n",
    "  (\"Charles\", \"delivery driver\", \"2020-01-02\", \"10003\", \"212-993-2348\"),\n",
    "  (\"Alex\", \"assistant manager\", \"2019-06-11\", \"10001\", \"718-293-1823\"),\n",
    "  (\"Naomi\", \"manager\", \"2019-02-12\", \"10002\", \"212-493-2922\"),\n",
    "  (\"Isabel\", \"salad maker\", \"2020-01-04\", \"10001\", \"212-390-9122\"),\n",
    "  (\"James\", \"clerk\", \"2020-01-10\", \"10023\", \"718-645-2929\"),\n",
    "  (\"Max\", \"salad maker\", \"2019-10-03\", \"10002\", \"212-555-2911\");\n",
    "\n",
    "INSERT INTO ingredients (name, cost_per_ounce, calories_per_ounce, expiration)\n",
    "VALUES (\"baby spinach\", .19, 7, \"2020-02-05\"),\n",
    "  (\"kale\", .50, 10, \"2020-02-10\"),\n",
    "  (\"tomatoes\", 1.25, 5, \"2020-01-30\"),\n",
    "  (\"broccoli\", 1.15, 45, \"2020-02-10\"),\n",
    "  (\"chicken\", 3.50, 90, \"2020-02-07\"),\n",
    "  (\"arugula\", .50, 20, \"2020-02-10\"),\n",
    "  (\"apples\", 1.20, 30, \"2020-02-08\"),\n",
    "  (\"pears\", 1.10, 30, \"2020-02-10\"),\n",
    "  (\"corn\", 1.25, 40, \"2020-02-08\"),\n",
    "  (\"brussels sprouts\", 1.40, 40, \"2020-02-01\"),\n",
    "  (\"almonds\", .90, 50, \"2020-02-02\"),\n",
    "  (\"mushrooms\", 1.40, 60, \"2020-02-02\"),\n",
    "  (\"tofu\", 1.35, 40, \"2020-02-03\"),\n",
    "  (\"avocado\", 2.05, 70, \"2020-02-08\"),\n",
    "  (\"romaine\", .20, 5, \"2020-02-07\"),\n",
    "  (\"cauliflower\", 1.60, 45, \"2020-01-30\"),\n",
    "  (\"parmesan\", 2.10, 75, \"2020-02-01\"),\n",
    "  (\"feta\", 2.20, 80, \"2020-02-02\"),\n",
    "  (\"caesar dressing\", 1.50, 90, \"2020-02-03\"),\n",
    "  (\"balsamic vinaigrette\", 1.45, 40, \"2020-02-07\");\n",
    "```"
   ]
  },
  {
   "cell_type": "markdown",
   "metadata": {},
   "source": [
    "To execute the above files, run the following:\n",
    "\n",
    "* `sqlite3 saladshop.db < create_tables.sql` \n",
    "* `sqlite3 saladshop.db < insert_tables.sql` \n",
    "\n",
    "To make sure it has been set up correctly, you can view all the data in the tables by running, enter the sql shell by typing `sqlite3 saladshop.db`.\n",
    "\n",
    "Then run: \n",
    "* `SELECT * FROM employees;` which should return all the data in the employees table, or \n",
    "* `SELECT * FROM ingredients;` which should return all the data in the ingredients table."
   ]
  },
  {
   "cell_type": "markdown",
   "metadata": {},
   "source": [
    "### Selecting data\n",
    "Our database is now ready for querying. We will use the python library `sqlite3` for running our SELECT statements.\n",
    "So to begin, create a connection with saladshop.db and set up a cursor."
   ]
  },
  {
   "cell_type": "markdown",
   "metadata": {},
   "source": [
    "First, import the `sqlite3` library"
   ]
  },
  {
   "cell_type": "code",
   "execution_count": null,
   "metadata": {},
   "outputs": [],
   "source": []
  },
  {
   "cell_type": "markdown",
   "metadata": {},
   "source": [
    "In the next cell, connect to the saladshop.db database"
   ]
  },
  {
   "cell_type": "code",
   "execution_count": null,
   "metadata": {},
   "outputs": [],
   "source": []
  },
  {
   "cell_type": "markdown",
   "metadata": {},
   "source": [
    "Using the connection created in the cell above, create a cursor for us to execute sql statements"
   ]
  },
  {
   "cell_type": "code",
   "execution_count": null,
   "metadata": {},
   "outputs": [],
   "source": []
  },
  {
   "cell_type": "markdown",
   "metadata": {},
   "source": [
    "#### Selecting all and selecting specific columns"
   ]
  },
  {
   "cell_type": "markdown",
   "metadata": {},
   "source": [
    "In the cells below, create two sql statements that will select all the data in the employees table and all the data in the ingredients table."
   ]
  },
  {
   "cell_type": "code",
   "execution_count": null,
   "metadata": {},
   "outputs": [],
   "source": [
    "all_employees = \"\"\"\"\"\"\n",
    "all_ingredients = \"\"\"\"\"\""
   ]
  },
  {
   "cell_type": "markdown",
   "metadata": {},
   "source": [
    "Now run both of those statements using the cursor object we created"
   ]
  },
  {
   "cell_type": "code",
   "execution_count": null,
   "metadata": {},
   "outputs": [],
   "source": []
  },
  {
   "cell_type": "code",
   "execution_count": null,
   "metadata": {},
   "outputs": [],
   "source": []
  },
  {
   "cell_type": "markdown",
   "metadata": {},
   "source": [
    "In the cells below, create two sql statements. The first should just select the name column from the ingredients table. The second statement should only select the start date (start_date) column from the employees table."
   ]
  },
  {
   "cell_type": "code",
   "execution_count": null,
   "metadata": {},
   "outputs": [],
   "source": [
    "ingredient_names = ''''''\n",
    "employee_start_dates = ''''''"
   ]
  },
  {
   "cell_type": "markdown",
   "metadata": {},
   "source": [
    "Now run both of those statements using the cursor object"
   ]
  },
  {
   "cell_type": "code",
   "execution_count": null,
   "metadata": {},
   "outputs": [],
   "source": []
  },
  {
   "cell_type": "code",
   "execution_count": null,
   "metadata": {},
   "outputs": [],
   "source": []
  },
  {
   "cell_type": "markdown",
   "metadata": {},
   "source": [
    "### Select Practice"
   ]
  },
  {
   "cell_type": "markdown",
   "metadata": {},
   "source": [
    "In the following exercises, answer the question by creating a sql select statement that will provide us with the solution. After reading each question, first create a sql statement, the run it using the cursor object to find the answer. \n",
    "\n",
    "> HINT: use the WHERE clause and boolean logic to filter the data within the select statement.\n"
   ]
  },
  {
   "cell_type": "markdown",
   "metadata": {},
   "source": [
    "Here's an example:\n",
    "What ingredients cost less than $1/oz?"
   ]
  },
  {
   "cell_type": "code",
   "execution_count": null,
   "metadata": {},
   "outputs": [],
   "source": [
    "#statement = '''SELECT * FROM ingredients WHERE cost_per_ounce < 1.0'''\n",
    "#cursor.execute(statement)\n",
    "#cursor.fetchall()"
   ]
  },
  {
   "cell_type": "markdown",
   "metadata": {},
   "source": [
    "What date did the employee Naomi begin working? \n",
    "> Select only rows from the employees table that have the name \"Naomi\"."
   ]
  },
  {
   "cell_type": "code",
   "execution_count": null,
   "metadata": {},
   "outputs": [],
   "source": [
    " "
   ]
  },
  {
   "cell_type": "code",
   "execution_count": null,
   "metadata": {},
   "outputs": [],
   "source": []
  },
  {
   "cell_type": "markdown",
   "metadata": {},
   "source": [
    "What ingredients expire after February 3rd 2020? "
   ]
  },
  {
   "cell_type": "code",
   "execution_count": null,
   "metadata": {},
   "outputs": [],
   "source": []
  },
  {
   "cell_type": "code",
   "execution_count": null,
   "metadata": {},
   "outputs": [],
   "source": []
  },
  {
   "cell_type": "markdown",
   "metadata": {},
   "source": [
    "What ingredients cost more than 1.00 but less than 1.50?"
   ]
  },
  {
   "cell_type": "code",
   "execution_count": null,
   "metadata": {},
   "outputs": [],
   "source": []
  },
  {
   "cell_type": "code",
   "execution_count": null,
   "metadata": {},
   "outputs": [],
   "source": []
  },
  {
   "cell_type": "markdown",
   "metadata": {},
   "source": [
    "Which employees' home zip code is 10002 or 10003?"
   ]
  },
  {
   "cell_type": "code",
   "execution_count": null,
   "metadata": {},
   "outputs": [],
   "source": []
  },
  {
   "cell_type": "code",
   "execution_count": null,
   "metadata": {},
   "outputs": [],
   "source": []
  },
  {
   "cell_type": "markdown",
   "metadata": {},
   "source": [
    "### Conclusion"
   ]
  },
  {
   "cell_type": "markdown",
   "metadata": {},
   "source": [
    "Using the SELECT statement in sql is how we query the data in the database. We use the SELECT statement to retrieve exactly the data we are interested in analyzing. In this lab we started off with some basic SELECT commands using `SELECT *` to select everything from a table, and `SELECT column_name` to select all the data from a specific column, or columns, in a table.\n",
    "\n",
    "Most of the time however, we are going to want to add some more complex filters to our SELECT statements, so we can be more precise in the data we are querying. For example, if our employees table had a 1,000,000 rows but we only wanted to see those rows for employees that started after a certain date, we would use a filter to limit the results of a query. The `WHERE` clause is how we filter in our SELECT statements. \n",
    "\n",
    "At the end of the lab, we used the `WHERE` clause, in conjunction with boolean logic, to apply filters to the queries."
   ]
  }
 ],
 "metadata": {
  "kernelspec": {
   "display_name": "Python 3",
   "language": "python",
   "name": "python3"
  },
  "language_info": {
   "codemirror_mode": {
    "name": "ipython",
    "version": 3
   },
   "file_extension": ".py",
   "mimetype": "text/x-python",
   "name": "python",
   "nbconvert_exporter": "python",
   "pygments_lexer": "ipython3",
   "version": "3.7.4"
  }
 },
 "nbformat": 4,
 "nbformat_minor": 4
}
