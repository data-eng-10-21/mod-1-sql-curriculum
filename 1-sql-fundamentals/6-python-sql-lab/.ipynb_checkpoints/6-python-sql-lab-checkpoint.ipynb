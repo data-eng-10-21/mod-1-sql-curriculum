{
 "cells": [
  {
   "cell_type": "markdown",
   "metadata": {},
   "source": [
    "# Python SQL Lab"
   ]
  },
  {
   "cell_type": "markdown",
   "metadata": {},
   "source": [
    "### Introduction\n",
    "In this lab we will practice using the *Python library* called `sqlite3` to execute our SQL calls. This library makes it easy for us to connect to and analyze data in a SQL database within a Python environment. We'll start out by setting up the database in the terminal as we have previously, then we will use the `sqlite3` library set up a connection with the library, create a cursor to call different sql commands, and then execute some sql statements using the cursor."
   ]
  },
  {
   "cell_type": "markdown",
   "metadata": {},
   "source": [
    "### Setup"
   ]
  },
  {
   "cell_type": "markdown",
   "metadata": {},
   "source": [
    "Before getting started with the `sqlite3` library, let's recreate the salad shop database from previous labs. For this part, lets continue using the terminal and sqlite shell to run the sql scripts.  You can copy the SQL scripts into a single file called `create_tables.sql`:"
   ]
  },
  {
   "cell_type": "markdown",
   "metadata": {},
   "source": [
    "```sql\n",
    "-- create_tables.sql\n",
    "CREATE TABLE employees (\n",
    "    id INTEGER PRIMARY KEY AUTOINCREMENT, name TEXT,\n",
    "    position TEXT,\n",
    "    start_date DATE,\n",
    "    zip_code TEXT,\n",
    "    phone_number TEXT);\n",
    "    \n",
    "CREATE TABLE ingredients (\n",
    "    id INTEGER PRIMARY KEY AUTOINCREMENT,\n",
    "    name TEXT,\n",
    "    cost_per_ounce FLOAT,\n",
    "    calories_per_ounce INTEGER,\n",
    "    expiration DATE);\n",
    "```"
   ]
  },
  {
   "cell_type": "markdown",
   "metadata": {},
   "source": [
    "You can create the tables by running the following command from the terminal:\n",
    "\n",
    "`sqlite3 saladshop.db < create_tables.sql`"
   ]
  },
  {
   "cell_type": "markdown",
   "metadata": {},
   "source": [
    "Next create another file called `insert_data.sql` and copy and paste the following SQL statements."
   ]
  },
  {
   "cell_type": "markdown",
   "metadata": {},
   "source": [
    "```sql\n",
    "-- insert_data.sql\n",
    "INSERT INTO employees (name, position, start_date, zip_code, phone_number) VALUES\n",
    "  (\"Tom\", \"manager\", \"2019-05-20\", \"10001\", \"212-438-3984\"),\n",
    "  (\"Alison\", \"salad maker\", \"2020-01-04\", \"10023\", \"212-329-2489\"),\n",
    "  (\"Jerry\", \"delivery driver\", \"2019-12-15\", \"10001\", \"212-219-1029\"),\n",
    "  (\"Brian\", \"salad maker\", \"2019-12-04\", \"10002\", \"646-328-2309\"),\n",
    "  (\"Vanessa\", \"clerk\", \"2019-11-14\", \"11201\", \"718-348-2348\");\n",
    "  \n",
    "INSERT INTO ingredients (name, cost_per_ounce, calories_per_ounce, expiration) VALUES \n",
    "  (\"baby spinach\", .19, 7, \"2020-02-05\"),\n",
    "  (\"kale\", .50, 10, \"2020-02-10\"),\n",
    "  (\"tomatoes\", 1.25, 5, \"2020-01-30\"),\n",
    "  (\"broccoli\", 1.15, 45, \"2020-02-10\"),\n",
    "  (\"chicken\", 3.50, 60, \"2020-02-07\");\n",
    "```"
   ]
  },
  {
   "cell_type": "markdown",
   "metadata": {},
   "source": [
    "Then run the file with the following:\n",
    "\n",
    "`sqlite3 saladshop.db < insert_data.sql`\n"
   ]
  },
  {
   "cell_type": "markdown",
   "metadata": {},
   "source": [
    "To make sure it has been set up correctly, you can view all the data in the tables by running `sqlite saladshop.db`, and then from inside of the SQL shell running:\n",
    "\n",
    "`SELECT * FROM employees;` \n",
    "* which should return all the data in the employees table, or\n",
    "\n",
    "`SELECT * FROM ingredients;` \n",
    "* which should return all the data in the ingredients table."
   ]
  },
  {
   "cell_type": "markdown",
   "metadata": {},
   "source": [
    "### Getting our library ready"
   ]
  },
  {
   "cell_type": "markdown",
   "metadata": {},
   "source": [
    "Ok, now that we have created the tables and loaded the data, it's time to practice using our "
   ]
  },
  {
   "cell_type": "markdown",
   "metadata": {},
   "source": [
    "* First import the necessary `pip` library"
   ]
  },
  {
   "cell_type": "code",
   "execution_count": 2,
   "metadata": {},
   "outputs": [],
   "source": []
  },
  {
   "cell_type": "markdown",
   "metadata": {},
   "source": [
    "* Then use the sqlite3 library to connect to the created database "
   ]
  },
  {
   "cell_type": "code",
   "execution_count": null,
   "metadata": {},
   "outputs": [],
   "source": []
  },
  {
   "cell_type": "markdown",
   "metadata": {},
   "source": [
    "Finally, create a cursor so that we are ready to call different sql commands on our database."
   ]
  },
  {
   "cell_type": "code",
   "execution_count": null,
   "metadata": {},
   "outputs": [],
   "source": []
  },
  {
   "cell_type": "markdown",
   "metadata": {},
   "source": [
    "### Executing sql"
   ]
  },
  {
   "cell_type": "markdown",
   "metadata": {},
   "source": [
    "Use the sqlite3 python library to select all of the employees in the database."
   ]
  },
  {
   "cell_type": "code",
   "execution_count": null,
   "metadata": {},
   "outputs": [],
   "source": [
    "statement = 'SELECT * FROM employees;'"
   ]
  },
  {
   "cell_type": "markdown",
   "metadata": {},
   "source": [
    "Run the command in the cell below. It should return the employees table. \n",
    "\n",
    "> Hint: This requires two commands, one using `cursor.execute()` followed by `cursor.fetchall()`"
   ]
  },
  {
   "cell_type": "code",
   "execution_count": null,
   "metadata": {},
   "outputs": [],
   "source": []
  },
  {
   "cell_type": "markdown",
   "metadata": {},
   "source": [
    "Use the `sqlite3` python library to select all of the ingredients in the database."
   ]
  },
  {
   "cell_type": "code",
   "execution_count": null,
   "metadata": {},
   "outputs": [],
   "source": [
    "statement = 'SELECT * FROM ingredients'"
   ]
  },
  {
   "cell_type": "markdown",
   "metadata": {},
   "source": [
    "Run the command in the cell below. It should return the data in the ingredients table."
   ]
  },
  {
   "cell_type": "code",
   "execution_count": null,
   "metadata": {},
   "outputs": [],
   "source": []
  },
  {
   "cell_type": "markdown",
   "metadata": {},
   "source": [
    "### Conclusion"
   ]
  },
  {
   "cell_type": "markdown",
   "metadata": {},
   "source": [
    "In this lab we focused on how we can use the python library `sqlite3` to connect with a sql database and execute sql commands. First, we created a connection with the salad shop database. We then used this connection to create a cursor object which can be used to execute sql statements. We finished off the lab by using our cursor to select all the data from the two tables in our database."
   ]
  }
 ],
 "metadata": {
  "kernelspec": {
   "display_name": "Python 3",
   "language": "python",
   "name": "python3"
  },
  "language_info": {
   "codemirror_mode": {
    "name": "ipython",
    "version": 3
   },
   "file_extension": ".py",
   "mimetype": "text/x-python",
   "name": "python",
   "nbconvert_exporter": "python",
   "pygments_lexer": "ipython3",
   "version": "3.7.4"
  }
 },
 "nbformat": 4,
 "nbformat_minor": 4
}
