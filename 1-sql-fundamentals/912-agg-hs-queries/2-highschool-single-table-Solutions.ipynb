{
 "cells": [
  {
   "cell_type": "markdown",
   "metadata": {},
   "source": [
    "# NYC High Schools Aggregates"
   ]
  },
  {
   "cell_type": "markdown",
   "metadata": {},
   "source": [
    "### Introduction\n",
    "In this lab we will practice using aggregate SQL functions. These functions, such as AVG, MIN, and MAX, allow us to perform mathematical operations on a set of numbers, and return one value. We will also use the GROUP BY function. GROUP BY allows us to group rows that have identical values in a column (or columns), often with the intention of performing an aggregate function on these groups. In the database we are using in this lab, each row represents a school, with each column representing some metric or information about that school. We could use an aggregate function to find the MAX total students of all the schools listed. But what if we wanted to know the MAX number of students by Boro? Previously we might have used a WHERE clause, but that would require a separate statement for each boro. Thats where GROUP BY clauses come in. In this example we could use GROUP BY boro, and the query would return the results of our aggregate function for each boro."
   ]
  },
  {
   "cell_type": "markdown",
   "metadata": {},
   "source": [
    "Lets begin by using the `sqlite3` library to connect to the database"
   ]
  },
  {
   "cell_type": "code",
   "execution_count": 3,
   "metadata": {},
   "outputs": [],
   "source": [
    "import sqlite3\n",
    "conn = sqlite3.connect('nyc_schools.db')\n",
    "cursor = conn.cursor()\n",
    "\n",
    "high_school_df = pd.read_csv('./highschools.csv')\n",
    "high_school_df.to_sql('high_schools', conn, index = False)"
   ]
  },
  {
   "cell_type": "code",
   "execution_count": 12,
   "metadata": {},
   "outputs": [
    {
     "data": {
      "text/plain": [
       "<sqlite3.Cursor at 0x123013340>"
      ]
     },
     "execution_count": 12,
     "metadata": {},
     "output_type": "execute_result"
    }
   ],
   "source": [
    "cursor.execute('select * from high_schools;')\n",
    "# cursor.fetchall()"
   ]
  },
  {
   "cell_type": "markdown",
   "metadata": {},
   "source": [
    "### Aggregates"
   ]
  },
  {
   "cell_type": "markdown",
   "metadata": {},
   "source": [
    "For each of the questions below, use a SQL aggregate function to find the solution."
   ]
  },
  {
   "cell_type": "markdown",
   "metadata": {},
   "source": [
    "* What's the average number of students in Manhattan?"
   ]
  },
  {
   "cell_type": "code",
   "execution_count": 5,
   "metadata": {},
   "outputs": [
    {
     "data": {
      "text/plain": [
       "[(601.9666666666667,)]"
      ]
     },
     "execution_count": 5,
     "metadata": {},
     "output_type": "execute_result"
    }
   ],
   "source": [
    "cursor.execute(\"\"\"\n",
    "SELECT AVG(total_students) \n",
    "  FROM high_schools\n",
    " WHERE boro = \"M\";\n",
    "\n",
    "\"\"\")\n",
    "cursor.fetchall()"
   ]
  },
  {
   "cell_type": "markdown",
   "metadata": {},
   "source": [
    "* What's the average attendance in Manhattan?"
   ]
  },
  {
   "cell_type": "code",
   "execution_count": 6,
   "metadata": {},
   "outputs": [
    {
     "data": {
      "text/plain": [
       "[(0.8782222222222222,)]"
      ]
     },
     "execution_count": 6,
     "metadata": {},
     "output_type": "execute_result"
    }
   ],
   "source": [
    "cursor.execute(\"\"\"\n",
    "SELECT AVG(attendance_rate) \n",
    "  FROM high_schools\n",
    " WHERE boro = \"M\";\n",
    "\"\"\")\n",
    "cursor.fetchall()"
   ]
  },
  {
   "cell_type": "markdown",
   "metadata": {},
   "source": [
    "* What's the largest difference between graduation_rate and college_career_rate?"
   ]
  },
  {
   "cell_type": "code",
   "execution_count": 7,
   "metadata": {},
   "outputs": [
    {
     "data": {
      "text/plain": [
       "[(0.55,)]"
      ]
     },
     "execution_count": 7,
     "metadata": {},
     "output_type": "execute_result"
    }
   ],
   "source": [
    "cursor.execute(\"\"\"\n",
    "SELECT MAX(graduation_rate - college_career_rate) \n",
    "  FROM high_schools;\n",
    "\n",
    "\"\"\")\n",
    "cursor.fetchall()"
   ]
  },
  {
   "cell_type": "markdown",
   "metadata": {},
   "source": [
    "* What is the highest math_avg in queens"
   ]
  },
  {
   "cell_type": "code",
   "execution_count": 8,
   "metadata": {},
   "outputs": [
    {
     "data": {
      "text/plain": [
       "[(660.0,)]"
      ]
     },
     "execution_count": 8,
     "metadata": {},
     "output_type": "execute_result"
    }
   ],
   "source": [
    "cursor.execute(\"\"\"\n",
    "SELECT MAX(math_avg) \n",
    "  FROM high_schools\n",
    " WHERE boro = \"Q\";\n",
    "\"\"\")\n",
    "cursor.fetchall()"
   ]
  },
  {
   "cell_type": "markdown",
   "metadata": {},
   "source": [
    "* What is the highest math_avg in manhattan?"
   ]
  },
  {
   "cell_type": "code",
   "execution_count": 9,
   "metadata": {},
   "outputs": [
    {
     "data": {
      "text/plain": [
       "[(735.0,)]"
      ]
     },
     "execution_count": 9,
     "metadata": {},
     "output_type": "execute_result"
    }
   ],
   "source": [
    "cursor.execute(\"\"\"\n",
    "SELECT MAX(math_avg) \n",
    "  FROM high_schools\n",
    " WHERE boro = \"M\";\n",
    "\"\"\")\n",
    "cursor.fetchall()"
   ]
  },
  {
   "cell_type": "markdown",
   "metadata": {},
   "source": [
    "* What is the highest combined score in manhattan?"
   ]
  },
  {
   "cell_type": "code",
   "execution_count": 10,
   "metadata": {},
   "outputs": [
    {
     "data": {
      "text/plain": [
       "[(1414.0,)]"
      ]
     },
     "execution_count": 10,
     "metadata": {},
     "output_type": "execute_result"
    }
   ],
   "source": [
    "cursor.execute(\"\"\"\n",
    "SELECT MAX(math_avg + reading_avg) \n",
    "  FROM high_schools\n",
    " WHERE boro = \"M\";\n",
    "\"\"\")\n",
    "cursor.fetchall()"
   ]
  },
  {
   "cell_type": "markdown",
   "metadata": {},
   "source": [
    "### Group By"
   ]
  },
  {
   "cell_type": "markdown",
   "metadata": {},
   "source": [
    "* What's the average number of students in each borough"
   ]
  },
  {
   "cell_type": "code",
   "execution_count": 11,
   "metadata": {},
   "outputs": [
    {
     "data": {
      "text/plain": [
       "[('K', 740.2884615384615),\n",
       " ('M', 601.9666666666667),\n",
       " ('Q', 1135.4615384615386),\n",
       " ('R', 1863.2),\n",
       " ('X', 523.4827586206897)]"
      ]
     },
     "execution_count": 11,
     "metadata": {},
     "output_type": "execute_result"
    }
   ],
   "source": [
    "cursor.execute(\"\"\"\n",
    "SELECT boro,\n",
    "       AVG(total_students) \n",
    "  FROM high_schools\n",
    " GROUP BY boro;\n",
    "\"\"\")\n",
    "cursor.fetchall()"
   ]
  },
  {
   "cell_type": "markdown",
   "metadata": {},
   "source": [
    "* What's the average difference between graduation_rate and college_career_rate by borough"
   ]
  },
  {
   "cell_type": "code",
   "execution_count": 12,
   "metadata": {},
   "outputs": [
    {
     "data": {
      "text/plain": [
       "[('K', 0.22480392156862752),\n",
       " ('M', 0.17298850574712643),\n",
       " ('Q', 0.1706153846153846),\n",
       " ('R', 0.23200000000000004),\n",
       " ('X', 0.21264367816091953)]"
      ]
     },
     "execution_count": 12,
     "metadata": {},
     "output_type": "execute_result"
    }
   ],
   "source": [
    "cursor.execute(\"\"\"\n",
    "SELECT boro,\n",
    "       AVG(graduation_rate - college_career_rate) \n",
    "  FROM high_schools\n",
    " GROUP BY boro;\n",
    "\n",
    "\"\"\")\n",
    "cursor.fetchall()"
   ]
  },
  {
   "cell_type": "markdown",
   "metadata": {},
   "source": [
    "* What's the avg college career rate grouped by math_avg scores (Hint: https://stackoverflow.com/questions/30929526/sqlite-group-by-range-of-1000s)"
   ]
  },
  {
   "cell_type": "code",
   "execution_count": 13,
   "metadata": {
    "scrolled": true
   },
   "outputs": [
    {
     "data": {
      "text/plain": [
       "[(None, 0.6124999999999999),\n",
       " (3.1, 0.42),\n",
       " (3.2, 0.446),\n",
       " (3.3, 0.47),\n",
       " (3.4, 0.51),\n",
       " (3.5, 0.4930769230769231),\n",
       " (3.6, 0.4627777777777778),\n",
       " (3.7, 0.46095238095238084),\n",
       " (3.8, 0.49268292682926834),\n",
       " (3.9, 0.5093939393939395),\n",
       " (4.0, 0.5037037037037039),\n",
       " (4.1, 0.57875),\n",
       " (4.2, 0.6064),\n",
       " (4.3, 0.5788888888888889),\n",
       " (4.4, 0.5892307692307693),\n",
       " (4.5, 0.72),\n",
       " (4.6, 0.7385714285714285),\n",
       " (4.7, 0.7218181818181819),\n",
       " (4.8, 0.7257142857142858),\n",
       " (4.9, 0.724),\n",
       " (5.0, 0.79),\n",
       " (5.1, 0.8400000000000001),\n",
       " (5.2, 0.8566666666666666),\n",
       " (5.3, 0.79),\n",
       " (5.4, 0.865),\n",
       " (5.5, 0.8400000000000001),\n",
       " (5.6, 0.8366666666666666),\n",
       " (5.7, 0.9133333333333334),\n",
       " (5.8, 0.86),\n",
       " (5.9, 0.885),\n",
       " (6.0, 0.98),\n",
       " (6.5, 0.9966666666666667),\n",
       " (6.6, 0.9299999999999999),\n",
       " (6.8, 0.88),\n",
       " (6.9, 0.98),\n",
       " (7.3, 0.98)]"
      ]
     },
     "execution_count": 13,
     "metadata": {},
     "output_type": "execute_result"
    }
   ],
   "source": [
    "cursor.execute(\"\"\"\n",
    "SELECT ROUND(math_avg / 100, 1) AS math_score,\n",
    "       AVG(college_career_rate) \n",
    "  FROM high_schools\n",
    " GROUP BY math_score;\n",
    "\"\"\")\n",
    "cursor.fetchall()"
   ]
  },
  {
   "cell_type": "markdown",
   "metadata": {},
   "source": [
    "### HAVING\n",
    "One important thing to note is that once we use the GROUP BY clause, we can no longer use the WHERE clause for aggregate functions. For example lets say we wanted to know the average number of students in each boro, but we only wanted the results for boros with an average of more than 1000. Here we would use the HAVING clause. See the example below and then use the HAVING clause to find the solution for the the next question."
   ]
  },
  {
   "cell_type": "code",
   "execution_count": 14,
   "metadata": {},
   "outputs": [
    {
     "data": {
      "text/plain": [
       "[('Q', 1135.4615384615386), ('R', 1863.2)]"
      ]
     },
     "execution_count": 14,
     "metadata": {},
     "output_type": "execute_result"
    }
   ],
   "source": [
    "cursor.execute(\"\"\"\n",
    "SELECT boro,\n",
    "       AVG(total_students) \n",
    "  FROM high_schools\n",
    " GROUP BY boro\n",
    "HAVING AVG(total_students) > 1000;\n",
    "\"\"\")\n",
    "cursor.fetchall()"
   ]
  },
  {
   "cell_type": "markdown",
   "metadata": {},
   "source": [
    "What is the average college career rate for each boro, selecting only boros with an average college career rate less than .6?"
   ]
  },
  {
   "cell_type": "code",
   "execution_count": 15,
   "metadata": {},
   "outputs": [
    {
     "data": {
      "text/plain": [
       "[('K', 0.5471568627450981), ('X', 0.5295402298850576)]"
      ]
     },
     "execution_count": 15,
     "metadata": {},
     "output_type": "execute_result"
    }
   ],
   "source": [
    "cursor.execute(\"\"\"\n",
    "SELECT boro,\n",
    "       AVG(college_career_rate) \n",
    "  FROM high_schools\n",
    " GROUP BY boro\n",
    "HAVING AVG(college_career_rate) < 0.6;\n",
    "\n",
    "\"\"\")\n",
    "cursor.fetchall()"
   ]
  },
  {
   "cell_type": "markdown",
   "metadata": {},
   "source": [
    "### Conclusion\n",
    "In this lab, we performed aggregate functions on our data. This allows us to perform mathematical operations on a set of values in our database. We also used the GROUP BY clause, which gave us the ability to perform the aggregate functions on different subsets of the data at once."
   ]
  }
 ],
 "metadata": {
  "kernelspec": {
   "display_name": "Python 3",
   "language": "python",
   "name": "python3"
  },
  "language_info": {
   "codemirror_mode": {
    "name": "ipython",
    "version": 3
   },
   "file_extension": ".py",
   "mimetype": "text/x-python",
   "name": "python",
   "nbconvert_exporter": "python",
   "pygments_lexer": "ipython3",
   "version": "3.7.4"
  }
 },
 "nbformat": 4,
 "nbformat_minor": 4
}
