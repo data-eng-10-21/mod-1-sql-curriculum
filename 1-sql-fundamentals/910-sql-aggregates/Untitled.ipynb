{
 "cells": [
  {
   "cell_type": "markdown",
   "metadata": {},
   "source": [
    "# Yelp Review"
   ]
  },
  {
   "cell_type": "markdown",
   "metadata": {},
   "source": [
    "1. Download the yelp data"
   ]
  },
  {
   "cell_type": "code",
   "execution_count": 15,
   "metadata": {},
   "outputs": [],
   "source": [
    "import pandas as pd\n",
    "df = pd.read_csv('https://raw.githubusercontent.com/ledeprogram/courses/master/foundations/mapping/tilemill/yelp-lunch-nyc.csv')\n",
    "import sqlite3\n",
    "conn = sqlite3.connect('yelp.db')"
   ]
  },
  {
   "cell_type": "code",
   "execution_count": 5,
   "metadata": {},
   "outputs": [],
   "source": [
    "df.to_sql('restaurants', conn)\n",
    "cursor = conn.cursor()"
   ]
  },
  {
   "cell_type": "code",
   "execution_count": 24,
   "metadata": {},
   "outputs": [],
   "source": [
    "statement = '''SELECT name, MIN(rating)\n",
    "FROM restaurants \n",
    "WHERE city = \"Bronx\";'''"
   ]
  },
  {
   "cell_type": "code",
   "execution_count": 25,
   "metadata": {},
   "outputs": [
    {
     "data": {
      "text/plain": [
       "[('Applebees', 2.0)]"
      ]
     },
     "execution_count": 25,
     "metadata": {},
     "output_type": "execute_result"
    }
   ],
   "source": [
    "cursor.execute(statement)\n",
    "cursor.fetchall()"
   ]
  },
  {
   "cell_type": "markdown",
   "metadata": {},
   "source": [
    "* Find the restaurants with a rating above 3\n",
    "* Find the minimum rating, as well as the restaurant name for restaurants in the bronx\n",
    "* Find the average rating in brooklyn\n",
    "* find the average rating for each city - group by \n",
    "\n",
    "* Use sql to only select those cities with an average rating above 4\n",
    "\n",
    "\n",
    "> Use sql to only select those cuisines with an average rating above 4"
   ]
  },
  {
   "cell_type": "code",
   "execution_count": 30,
   "metadata": {},
   "outputs": [],
   "source": [
    "statement_bk = \"\"\"\n",
    "SELECT city, AVG(rating) FROM restaurants WHERE city = \"Brooklyn\"; \n",
    "\"\"\""
   ]
  },
  {
   "cell_type": "code",
   "execution_count": 31,
   "metadata": {},
   "outputs": [
    {
     "data": {
      "text/plain": [
       "[('Brooklyn', 3.985179407176287)]"
      ]
     },
     "execution_count": 31,
     "metadata": {},
     "output_type": "execute_result"
    }
   ],
   "source": [
    "cursor.execute(statement_bk)\n",
    "cursor.fetchall()"
   ]
  },
  {
   "cell_type": "code",
   "execution_count": 43,
   "metadata": {},
   "outputs": [],
   "source": [
    "statement_avg_cities = \"\"\"\n",
    "SELECT city, AVG(rating) as avg_rating FROM restaurants GROUP BY city ORDER BY avg_rating DESC LIMIT 5; \n",
    "\"\"\""
   ]
  },
  {
   "cell_type": "code",
   "execution_count": 44,
   "metadata": {},
   "outputs": [
    {
     "data": {
      "text/plain": [
       "[('Port Reading', 5.0),\n",
       " ('Mount Vernon', 4.5),\n",
       " ('Middle Village', 4.5),\n",
       " ('MIddle Village', 4.5),\n",
       " ('Fresh Meadow', 4.5)]"
      ]
     },
     "execution_count": 44,
     "metadata": {},
     "output_type": "execute_result"
    }
   ],
   "source": [
    "cursor.execute(statement_avg_cities)\n",
    "cursor.fetchall()"
   ]
  },
  {
   "cell_type": "code",
   "execution_count": 45,
   "metadata": {},
   "outputs": [],
   "source": [
    "query = \"SELECT count(*) FROM restaurants where city = 'MIddle Village'\""
   ]
  },
  {
   "cell_type": "code",
   "execution_count": 46,
   "metadata": {},
   "outputs": [
    {
     "data": {
      "text/plain": [
       "[(2,)]"
      ]
     },
     "execution_count": 46,
     "metadata": {},
     "output_type": "execute_result"
    }
   ],
   "source": [
    "cursor.execute(query)\n",
    "cursor.fetchall()"
   ]
  },
  {
   "cell_type": "code",
   "execution_count": 62,
   "metadata": {},
   "outputs": [],
   "source": [
    "select__avg_cities = \"\"\"\n",
    "SELECT city, AVG(rating) as avg_rating, COUNT(*) as amount FROM restaurants GROUP BY city HAVING (avg_rating > 4 AND amount > 50) ORDER BY avg_rating DESC; \n",
    "\"\"\""
   ]
  },
  {
   "cell_type": "code",
   "execution_count": 63,
   "metadata": {},
   "outputs": [
    {
     "data": {
      "text/plain": [
       "[('Astoria', 4.114130434782608, 92)]"
      ]
     },
     "execution_count": 63,
     "metadata": {},
     "output_type": "execute_result"
    }
   ],
   "source": [
    "cursor.execute(select__avg_cities)\n",
    "cursor.fetchall()"
   ]
  },
  {
   "cell_type": "code",
   "execution_count": 67,
   "metadata": {},
   "outputs": [],
   "source": [
    "def select_avg(attribute):\n",
    "    cursor.execute(f\"SELECT {attribute}, AVG(rating) FROM restaurants GROUP BY {attribute}\")\n",
    "    return cursor.fetchall()"
   ]
  },
  {
   "cell_type": "code",
   "execution_count": 69,
   "metadata": {},
   "outputs": [
    {
     "data": {
      "text/plain": [
       "[('Arverne', 4.0),\n",
       " ('Astoria', 4.114130434782608),\n",
       " ('Bayonne', 4.0),\n",
       " ('Bayside', 3.907142857142857),\n",
       " ('Belle Harbor', 2.5),\n",
       " ('Bellerose', 3.5833333333333335),\n",
       " ('Breezy Point', 3.5),\n",
       " ('Briarwood', 4.0),\n",
       " ('Broad Channel', 4.0),\n",
       " ('Bronx', 3.821297429620563),\n",
       " ('Brooklyn', 3.985179407176287),\n",
       " ('Cambria Heights', 3.0),\n",
       " ('Cedarhurst', 4.25),\n",
       " ('Clifton', 4.0),\n",
       " ('College Point', 3.5),\n",
       " ('Coney Island', 3.5),\n",
       " ('Corona', 4.291666666666667),\n",
       " ('Douglaston', 3.7),\n",
       " ('East Elmhurst', 4.0),\n",
       " ('Edgewater', 4.5),\n",
       " ('Elizabeth', 4.027777777777778),\n",
       " ('Elmhurst', 4.166666666666667),\n",
       " ('Elmont', 4.0),\n",
       " ('Englewood', 4.5),\n",
       " ('Englewood Cliffs', 4.0),\n",
       " ('Far Rockaway', 4.208333333333333),\n",
       " ('Financial District', 4.0),\n",
       " ('Floral Park', 4.03125),\n",
       " ('Flushing', 3.919254658385093),\n",
       " ('Forest Hills', 3.8556701030927836),\n",
       " ('Fort Lee', 4.25),\n",
       " ('Fresh Meadow', 4.5),\n",
       " ('Fresh Meadows', 3.671875),\n",
       " ('Glen Oaks', 3.9),\n",
       " ('Glendale', 3.5344827586206895),\n",
       " ('Great Neck', 3.5),\n",
       " ('Harlem', 4.0),\n",
       " ('Hewlett', 3.75),\n",
       " ('Hollis', 3.9166666666666665),\n",
       " ('Howard Beach', 3.6444444444444444),\n",
       " ('Inwood', 2.0),\n",
       " ('Jackson Heights', 4.053571428571429),\n",
       " ('Jamaica', 3.913793103448276),\n",
       " ('Kew Gardens', 3.4523809523809526),\n",
       " ('Lawrence', 4.0625),\n",
       " ('Little Neck', 4.115384615384615),\n",
       " ('Long Beach', 4.0),\n",
       " ('Long Island City', 3.6785714285714284),\n",
       " ('Lynbrook', 4.0),\n",
       " ('MIddle Village', 4.5),\n",
       " ('Manhattan', 3.6),\n",
       " ('Maspeth', 4.25),\n",
       " ('Middle Village', 4.5),\n",
       " ('Mount Vernon', 4.5),\n",
       " ('New Hyde Park', 3.7083333333333335),\n",
       " ('New York', 3.987815491731941),\n",
       " ('Newark', 4.166666666666667),\n",
       " ('Oakland Gardens', 3.9423076923076925),\n",
       " ('Ozone Park', 3.576923076923077),\n",
       " ('Pelham Manor', 3.5),\n",
       " ('Perth Amboy', 3.8333333333333335),\n",
       " ('Port Reading', 5.0),\n",
       " ('Queens', 3.9583333333333335),\n",
       " ('Queens Village', 4.326923076923077),\n",
       " ('Rego Park', 4.086206896551724),\n",
       " ('Richmond Hill', 3.823529411764706),\n",
       " ('Ridgewood', 4.175),\n",
       " ('Rockaway', 4.2727272727272725),\n",
       " ('Rockaway Beach', 4.1923076923076925),\n",
       " ('Rockaway Park', 3.4491525423728815),\n",
       " ('Rosedale', 3.0),\n",
       " ('South Amboy', 4.25),\n",
       " ('South Ozone Park', 4.0),\n",
       " ('South Richmond Hill', 4.0),\n",
       " ('Springfield Gardens', 3.5),\n",
       " ('Staten Island', 3.710348162475822),\n",
       " ('Staten Island NY', 2.5),\n",
       " ('Sunnyside', 4.0),\n",
       " ('Valley Stream', 3.4696969696969697),\n",
       " ('Whitestone', 4.2368421052631575),\n",
       " ('Woodbridge', 4.0),\n",
       " ('Woodhaven', 3.772727272727273),\n",
       " ('Woodmere', 4.0),\n",
       " ('Woodside', 4.0576923076923075),\n",
       " ('Yonkers', 3.75)]"
      ]
     },
     "execution_count": 69,
     "metadata": {},
     "output_type": "execute_result"
    }
   ],
   "source": [
    "select_avg(\"city\")"
   ]
  },
  {
   "cell_type": "code",
   "execution_count": null,
   "metadata": {},
   "outputs": [],
   "source": []
  }
 ],
 "metadata": {
  "kernelspec": {
   "display_name": "Python 3",
   "language": "python",
   "name": "python3"
  },
  "language_info": {
   "codemirror_mode": {
    "name": "ipython",
    "version": 3
   },
   "file_extension": ".py",
   "mimetype": "text/x-python",
   "name": "python",
   "nbconvert_exporter": "python",
   "pygments_lexer": "ipython3",
   "version": "3.7.4"
  }
 },
 "nbformat": 4,
 "nbformat_minor": 4
}
