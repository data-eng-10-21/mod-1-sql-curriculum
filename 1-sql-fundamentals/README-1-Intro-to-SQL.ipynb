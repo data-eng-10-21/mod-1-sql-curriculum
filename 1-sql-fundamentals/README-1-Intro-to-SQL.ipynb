{
 "cells": [
  {
   "cell_type": "markdown",
   "metadata": {},
   "source": [
    "# Intro to Relational Databases"
   ]
  },
  {
   "cell_type": "markdown",
   "metadata": {},
   "source": [
    "### Introduction\n",
    "\n",
    "When we say relational databases, we mean databases like SQL, or Postgres.  Relational databases are used to store and retrieve data, and to do so quickly.  So far, we have used simply used CSV to store or data, or perhaps in a past life we have some experience with Microsoft Excel.  These are good tools, but when the size of our data increases and as the questions we have about the data become more complex, we need to move to relational databases like SQL."
   ]
  },
  {
   "cell_type": "markdown",
   "metadata": {},
   "source": [
    "### SQL vs Excel"
   ]
  },
  {
   "cell_type": "markdown",
   "metadata": {},
   "source": [
    "Now one way to learn about SQL is to compare it to some software that we have already used in our non-coding life: namely a spreadsheet like Microsoft Excel or a Google spreadsheet.  \n",
    "\n",
    "> Now your not familiar with spreadsheets, that's ok -- we'll explore the concepts that we'll need to know.  "
   ]
  },
  {
   "cell_type": "markdown",
   "metadata": {},
   "source": [
    "A spreadsheet is good for organizing, storing, and asking questions about our data.  Let's get started by using a Google spreadsheet to organize some information.  Imagine that we run a barber shop, and we want to use a Google doc to help us keep track of our customers and employees.  To do so, we created the following spreadsheet."
   ]
  },
  {
   "cell_type": "markdown",
   "metadata": {},
   "source": [
    "<img src=\"./barbershop.png\" width='80%'/>"
   ]
  },
  {
   "cell_type": "markdown",
   "metadata": {},
   "source": [
    "<img src=\"table-names.png\" width=\"40%\">"
   ]
  },
  {
   "cell_type": "markdown",
   "metadata": {},
   "source": [
    "At the very bottom of the Google spreadsheet, you can see that the first sheet in the file is for storing information about Employees and the second stores information about Customers."
   ]
  },
  {
   "cell_type": "markdown",
   "metadata": {},
   "source": [
    "Now a lot of the components that we see in the Google spreadsheet we'll also see in SQL."
   ]
  },
  {
   "cell_type": "markdown",
   "metadata": {},
   "source": [
    "* Table\n",
    "    * The `Employees` spreadsheet is similar to a table in a database.  A table stores information about just a single entity.  So for example, we have separate tables for `Customers` and `Employees`.  We'll discuss how to know when to separate data into multiple tables in future lessons.\n",
    "    \n",
    "* Columns\n",
    "    * The table above has columns of `Name`, `Phone Number`, and `Email`.  In a database, each table will also have columns used to store different attributes about our data.\n",
    "    \n",
    "* Rows\n",
    "    * We see each individual `employee` is stored in a separate row.  It will be the same in SQL.  For each individual *member* of a table, we will have a separate row, and each attribute of that row is in a column. \n",
    "    \n",
    "* Document Name\n",
    "    * Finally, notice that our Google document has a name of `Barbershop` at the top.  This document holds separate spreadsheets about employees and customers.  Similarly, we will create SQL database named `Barbershop` that will hold our tables of `employees` and `customers`."
   ]
  },
  {
   "cell_type": "markdown",
   "metadata": {},
   "source": [
    "### Get started with SQL"
   ]
  },
  {
   "cell_type": "markdown",
   "metadata": {},
   "source": [
    "There is various relational database software that we can use: Postgres, SQL, or SQLite.  They all work similarly.  So we'll get started with SQLite3 as it's lightweight and easy to set up."
   ]
  },
  {
   "cell_type": "markdown",
   "metadata": {},
   "source": [
    "If we have a Mac, we can install SQLite3 with the following:"
   ]
  },
  {
   "cell_type": "markdown",
   "metadata": {},
   "source": [
    "`brew install sqlite3`"
   ]
  },
  {
   "cell_type": "markdown",
   "metadata": {},
   "source": [
    "So now that we have installed the SQLite3 software, the next step is create a database."
   ]
  },
  {
   "cell_type": "markdown",
   "metadata": {},
   "source": [
    "![](./create-database.png)"
   ]
  },
  {
   "cell_type": "code",
   "execution_count": null,
   "metadata": {},
   "outputs": [],
   "source": [
    "sqlite3 barbershop < create_employees.sql"
   ]
  },
  {
   "cell_type": "markdown",
   "metadata": {},
   "source": [
    "Now a database only makes sense if we have at least one table.  Let's create a table.\n",
    "\n",
    "```sql\n",
    "CREATE TABLE employees (name TEXT, phone number, );\n",
    "```\n",
    "\n",
    "Creating a table involves a few different components:\n",
    "\n",
    "* CREATE TABLE table_name \n",
    "* each column followed by the data\n",
    "\n",
    "\n",
    "Our first step here is to create a table to store the data. When creating a table, we need to determine the types of data we want it to hold. \n",
    "\n",
    "\n",
    "Two of the most common datatypes, and the types of data in our Employees table, are Integer and Text. You can view a list of other common data types [here](https://www.w3schools.com/sql/sql_datatypes.asp).\n",
    "\n",
    "\n",
    "We're missing one column: \n",
    "\n",
    "\n",
    "`id INTEGER PRIMARY KEY AUTOINCREMENT, `\n",
    "Looking at our Employees table, we have a name and email column that we want represented in text, and a phone number column we want represented as an integer. ID doesn't mean anything, except that it's an identifier, so easy to change\n",
    "\n",
    "SQL Statement for creating a new table:\n",
    "\n",
    "```sql\n",
    "CREATE TABLE employees (id INTEGER PRIMARY KEY AUTOINCREMENT, name TEXT, phone number, );\n",
    "```\n",
    "\n",
    "    "
   ]
  },
  {
   "cell_type": "markdown",
   "metadata": {},
   "source": [
    "Notice how our phone number column can be stored as both text and integer.\n",
    "* We choose integer vs text based on what operations we want to perform on the data\n",
    "\n",
    "Also notice how our data type for id is \"INTEGER PRIMARY KEY AUTOINCREMENT\". This means SQL will automatically fill in unique id keys for each row in the table."
   ]
  },
  {
   "cell_type": "markdown",
   "metadata": {},
   "source": [
    "Below we will create our employees table in the barbershop_database. In order to actually interact with the database, we must first create a cursor object from our connnection. We use our cursor to execute these SQL statements, and that the statements must be wrapped in quotes ('''SQL statement GOES here''')"
   ]
  },
  {
   "cell_type": "code",
   "execution_count": 2,
   "metadata": {},
   "outputs": [],
   "source": [
    "#creating cursor object\n",
    "cursor = connection.cursor()"
   ]
  },
  {
   "cell_type": "code",
   "execution_count": 3,
   "metadata": {},
   "outputs": [
    {
     "data": {
      "text/plain": [
       "<sqlite3.Cursor at 0x111bf9c00>"
      ]
     },
     "execution_count": 3,
     "metadata": {},
     "output_type": "execute_result"
    }
   ],
   "source": [
    "cursor.execute('''CREATE TABLE employees (id INTEGER PRIMARY KEY, name TEXT, phone_number INTEGER, email TEXT);''')"
   ]
  },
  {
   "cell_type": "markdown",
   "metadata": {},
   "source": [
    "Our table is now stored in the barbershop_database.db file. We are now ready to insert data into the table."
   ]
  },
  {
   "cell_type": "markdown",
   "metadata": {},
   "source": [
    "As our database can store multiple tables, lets add a table for customers as well."
   ]
  },
  {
   "cell_type": "code",
   "execution_count": 4,
   "metadata": {},
   "outputs": [
    {
     "data": {
      "text/plain": [
       "<sqlite3.Cursor at 0x111bf9c00>"
      ]
     },
     "execution_count": 4,
     "metadata": {},
     "output_type": "execute_result"
    }
   ],
   "source": [
    "cursor.execute('''CREATE TABLE customers (id INTEGER PRIMARY KEY, name TEXT, phone_number INTEGER);''')"
   ]
  },
  {
   "cell_type": "markdown",
   "metadata": {},
   "source": [
    "### SQL Conventions"
   ]
  },
  {
   "cell_type": "markdown",
   "metadata": {},
   "source": [
    "* Table name should be plural\n",
    "* "
   ]
  },
  {
   "cell_type": "code",
   "execution_count": null,
   "metadata": {},
   "outputs": [],
   "source": []
  }
 ],
 "metadata": {
  "kernelspec": {
   "display_name": "Python 3",
   "language": "python",
   "name": "python3"
  },
  "language_info": {
   "codemirror_mode": {
    "name": "ipython",
    "version": 3
   },
   "file_extension": ".py",
   "mimetype": "text/x-python",
   "name": "python",
   "nbconvert_exporter": "python",
   "pygments_lexer": "ipython3",
   "version": "3.7.3"
  }
 },
 "nbformat": 4,
 "nbformat_minor": 2
}
