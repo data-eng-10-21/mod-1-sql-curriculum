{
 "cells": [
  {
   "cell_type": "markdown",
   "metadata": {},
   "source": [
    "# Inserting Data into Database"
   ]
  },
  {
   "cell_type": "markdown",
   "metadata": {},
   "source": [
    "## Introduction"
   ]
  },
  {
   "cell_type": "markdown",
   "metadata": {},
   "source": [
    "In the last lesson, we learned how to create and connect to a SQL database using SQLite3. We also learned how to create tables in our database. Now that we have our tables, we can begin to insert the data, or rows, into our tables."
   ]
  },
  {
   "cell_type": "markdown",
   "metadata": {},
   "source": [
    "### Connecting to the database\n",
    "Lets start off by recreating the database from previous lessons. We'll do so using the `sqlite3` library.\n",
    "\n",
    "To do so, we first create the connection to the database, and from there, get a `cursor` that can make SQL commands.."
   ]
  },
  {
   "cell_type": "code",
   "execution_count": 1,
   "metadata": {},
   "outputs": [],
   "source": [
    "import sqlite3"
   ]
  },
  {
   "cell_type": "code",
   "execution_count": 4,
   "metadata": {},
   "outputs": [],
   "source": [
    "#establish connection with the database\n",
    "conn = sqlite3.connect('barbershop_database.db')\n",
    "\n",
    "#create our cursor object\n",
    "cur = conn.cursor()"
   ]
  },
  {
   "cell_type": "markdown",
   "metadata": {},
   "source": [
    "Next, we'll use our cursor to execute the SQL command to create our tables."
   ]
  },
  {
   "cell_type": "markdown",
   "metadata": {},
   "source": [
    "Our SQL statement to create the employees table is below.  Copy the text below, and insert it into a `create_table.sql` file.\n",
    "\n",
    "```SQL\n",
    "CREATE TABLE employees (\n",
    "    id INTEGER PRIMARY KEY,\n",
    "    name TEXT, \n",
    "    phone_number INTEGER, \n",
    "    home_zipcode INTEGER, \n",
    "    email TEXT);\n",
    "```"
   ]
  },
  {
   "cell_type": "markdown",
   "metadata": {},
   "source": [
    "Next we can read the contents of the file using the `open` method in Python."
   ]
  },
  {
   "cell_type": "code",
   "execution_count": 2,
   "metadata": {},
   "outputs": [
    {
     "data": {
      "text/plain": [
       "'CREATE TABLE employees (id INTEGER PRIMARY KEY, name TEXT, phone_number INTEGER, home_zipcode INTEGER, \\n                        email TEXT);\\n'"
      ]
     },
     "execution_count": 2,
     "metadata": {},
     "output_type": "execute_result"
    }
   ],
   "source": [
    "#setting variable sql_command as our create table statements\n",
    "sql_command = open('create_table.sql', 'r')\n",
    "create_script = sql_command.read()\n",
    "create_script\n",
    "\n",
    "# 'CREATE TABLE employees (id INTEGER PRIMARY KEY, name TEXT, phone_number INTEGER, home_zipcode INTEGER, \\n\n",
    "# email TEXT);\\n'"
   ]
  },
  {
   "cell_type": "markdown",
   "metadata": {},
   "source": [
    "> We can see that `create_script` contains the content of the `CREATE TABLE` sql command."
   ]
  },
  {
   "cell_type": "markdown",
   "metadata": {},
   "source": [
    "Next let's execute the script with the following."
   ]
  },
  {
   "cell_type": "code",
   "execution_count": 5,
   "metadata": {},
   "outputs": [
    {
     "data": {
      "text/plain": [
       "<sqlite3.Cursor at 0x10bac9960>"
      ]
     },
     "execution_count": 5,
     "metadata": {},
     "output_type": "execute_result"
    }
   ],
   "source": [
    "cur.executescript(create)"
   ]
  },
  {
   "cell_type": "markdown",
   "metadata": {},
   "source": [
    "### Inserting data into database\n",
    "Now that our database is ready, we are ready to insert our rows of data into their respective tables.  We can do so by creating a new file called `insert_employees.sql` and copying the following code."
   ]
  },
  {
   "cell_type": "markdown",
   "metadata": {},
   "source": [
    "```sql\n",
    "-- insert_employees.sql\n",
    "INSERT INTO employees (name, phone_number, home_zipcode, email) VALUES\n",
    "('fred', '555-333-4444', 10001, 'fred@barbershop.com'),\n",
    "('bob', '555-333-4444', 10001, 'bob@barbershop.com');\n",
    "```"
   ]
  },
  {
   "cell_type": "markdown",
   "metadata": {},
   "source": [
    "So above, we start with the INSERT INTO command, followed by the name of the table to which we want to add data. Then, in parentheses, we wrote the column names that we will be filling with data. This is followed by the VALUES keyword, which is accompanied by a parentheses enclosed list of the values that correspond to each column name."
   ]
  },
  {
   "cell_type": "markdown",
   "metadata": {},
   "source": [
    "> Notice: We have commas in between each row, and that we ended the SQL statement with a semi-colon (as we do every SQL statement)."
   ]
  },
  {
   "cell_type": "markdown",
   "metadata": {},
   "source": [
    "Then, we can execute the command by reading the contents of our file and executing the script to create our table. "
   ]
  },
  {
   "cell_type": "code",
   "execution_count": 6,
   "metadata": {},
   "outputs": [
    {
     "data": {
      "text/plain": [
       "<sqlite3.Cursor at 0x10bac9960>"
      ]
     },
     "execution_count": 6,
     "metadata": {},
     "output_type": "execute_result"
    }
   ],
   "source": [
    "sql_command = open('insert_employees.sql', 'r')\n",
    "insert = sql_command.read()\n",
    "cur.executescript(insert)"
   ]
  },
  {
   "cell_type": "markdown",
   "metadata": {},
   "source": [
    "At this point, if we don't see an error, we have properly inserted in our data"
   ]
  },
  {
   "cell_type": "markdown",
   "metadata": {},
   "source": [
    "### Summary"
   ]
  },
  {
   "cell_type": "markdown",
   "metadata": {},
   "source": [
    "In this lesson, we worked with an INSERT statement in SQL.  We also gained some more practice with the `sqlite3` library."
   ]
  },
  {
   "cell_type": "markdown",
   "metadata": {},
   "source": [
    "We followed the general pattern of writing our INSERT statement in a separate file.  And we saw that an INSERT statement looks like the following: \n",
    "\n",
    "```sql\n",
    "-- insert_employees.sql\n",
    "INSERT INTO employees (name, phone_number, home_zipcode, email) VALUES\n",
    "('fred', '555-333-4444', 10001, 'fred@barbershop.com'),\n",
    "('bob', '555-333-4444', 10001, 'bob@barbershop.com');\n",
    "```"
   ]
  },
  {
   "cell_type": "markdown",
   "metadata": {},
   "source": [
    "Then, to execute that file, we first needed to connect to our database, and create a cursor object."
   ]
  },
  {
   "cell_type": "markdown",
   "metadata": {},
   "source": [
    "```python\n",
    "import sqlite3\n",
    "#establish connection with the database\n",
    "conn = sqlite3.connect('barbershop_database.db')\n",
    "\n",
    "#create our cursor object\n",
    "cur = conn.cursor()\n",
    "```"
   ]
  },
  {
   "cell_type": "markdown",
   "metadata": {},
   "source": [
    "Then we used Python to read the contents of the SQL file."
   ]
  },
  {
   "cell_type": "markdown",
   "metadata": {},
   "source": [
    "```python\n",
    "sql_command = open('insert_employees.sql', 'r')\n",
    "insert = sql_command.read()\n",
    "```"
   ]
  },
  {
   "cell_type": "markdown",
   "metadata": {},
   "source": [
    "And finally, we used our sqlite3 cursor to execute the script.\n",
    "\n",
    "```python\n",
    "cur.executescript(insert)\n",
    "```"
   ]
  }
 ],
 "metadata": {
  "kernelspec": {
   "display_name": "Python 3",
   "language": "python",
   "name": "python3"
  },
  "language_info": {
   "codemirror_mode": {
    "name": "ipython",
    "version": 3
   },
   "file_extension": ".py",
   "mimetype": "text/x-python",
   "name": "python",
   "nbconvert_exporter": "python",
   "pygments_lexer": "ipython3",
   "version": "3.7.4"
  }
 },
 "nbformat": 4,
 "nbformat_minor": 4
}
