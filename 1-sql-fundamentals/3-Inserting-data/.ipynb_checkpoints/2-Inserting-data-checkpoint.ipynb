{
 "cells": [
  {
   "cell_type": "markdown",
   "metadata": {},
   "source": [
    "# Inserting Data into Database"
   ]
  },
  {
   "cell_type": "markdown",
   "metadata": {},
   "source": [
    "## Introduction"
   ]
  },
  {
   "cell_type": "markdown",
   "metadata": {},
   "source": [
    "Earlier, we saw how we can create a database, and inside of that database create one or more tables.  Now, the purpose of those tables is to store rows of data.  Let's learn how to populate our tables with data."
   ]
  },
  {
   "cell_type": "markdown",
   "metadata": {},
   "source": [
    "### Writing the Insert Statement\n",
    "\n",
    "We can insert data into our employees tables by doing the following.  First, we'll create a new file to hold our code, here `insert_employees.sql`.  Then, we can create two rows of data with the following lines in our `insert_employees` file:"
   ]
  },
  {
   "cell_type": "markdown",
   "metadata": {},
   "source": [
    "```sql\n",
    "INSERT INTO employees (name, phone_number, home zipcode, birthday) VALUES \n",
    "('fred', '555-333-4444', '10001', '8/17/1990'),\n",
    "('bob', '555-331-4444', '10001', '3/22/1992'),\n",
    "('sally', '555-332-4444', '10001', '6/22/1991');\n",
    "```"
   ]
  },
  {
   "cell_type": "markdown",
   "metadata": {},
   "source": [
    "That's it!  See if you can unpack this code by breaking it into two clauses -- the `INSERT INTO` clause and the `VALUES` clause."
   ]
  },
  {
   "cell_type": "markdown",
   "metadata": {},
   "source": [
    "* `INSERT INTO`\n",
    "\n",
    "The pattern for the `INSERT INTO` clause is ```INSERT INTO table_name (col_1, col_2, col_3)```.  So above our table name is `employees` and we next provide a comma separated list of columns.  Notice that one column from our table is missing: the `id` column.  We do not need to provide this column, because we previously indicated that this column should `AUTOINCREMENT`.  Thus `sqlite3` knows that every time a row of data is inserted, we should automatically increment the id column by one."
   ]
  },
  {
   "cell_type": "markdown",
   "metadata": {},
   "source": [
    "* `VALUES`"
   ]
  },
  {
   "cell_type": "markdown",
   "metadata": {},
   "source": [
    "The next clause is the list of values to enter into our database.  Notice the pattern of each row:\n",
    "\n",
    "* `(value, value, value, value),`\n",
    "\n",
    "Each row is a comma separated list of values inside a pair of parentheses.  And after each row is a comma, until we reach the last row where we place a semicolon.  With the semicolon we have ended the sql statement."
   ]
  },
  {
   "cell_type": "markdown",
   "metadata": {},
   "source": [
    "### Executing the statement"
   ]
  },
  {
   "cell_type": "markdown",
   "metadata": {},
   "source": [
    "Now that we have written our insert statement, it is time to run it against our database.  We can run the code in our database with the following:"
   ]
  },
  {
   "cell_type": "markdown",
   "metadata": {},
   "source": [
    "`sqlite3 haircut_shop.db < insert_employees.sql`"
   ]
  },
  {
   "cell_type": "markdown",
   "metadata": {},
   "source": [
    "At this point, if we don't see an error, we have properly inserted in our data"
   ]
  },
  {
   "cell_type": "markdown",
   "metadata": {},
   "source": [
    "### Summary"
   ]
  },
  {
   "cell_type": "code",
   "execution_count": null,
   "metadata": {},
   "outputs": [],
   "source": []
  }
 ],
 "metadata": {
  "kernelspec": {
   "display_name": "Python 3",
   "language": "python",
   "name": "python3"
  },
  "language_info": {
   "codemirror_mode": {
    "name": "ipython",
    "version": 3
   },
   "file_extension": ".py",
   "mimetype": "text/x-python",
   "name": "python",
   "nbconvert_exporter": "python",
   "pygments_lexer": "ipython3",
   "version": "3.7.3"
  }
 },
 "nbformat": 4,
 "nbformat_minor": 2
}
