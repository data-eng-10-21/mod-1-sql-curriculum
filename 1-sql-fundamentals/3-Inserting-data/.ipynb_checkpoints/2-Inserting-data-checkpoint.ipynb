{
 "cells": [
  {
   "cell_type": "markdown",
   "metadata": {},
   "source": [
    "# Inserting Data into Database"
   ]
  },
  {
   "cell_type": "markdown",
   "metadata": {},
   "source": [
    "## Introduction"
   ]
  },
  {
   "cell_type": "markdown",
   "metadata": {},
   "source": [
    "In the last lesson, we learned how to create and connect to a SQL database using SQLite3. We also learned how to create tables in our database. Now that we have our tables, we can begin to insert the data, or rows, into our tables."
   ]
  },
  {
   "cell_type": "markdown",
   "metadata": {},
   "source": [
    "### Connecting to the database\n",
    "Lets start off by recreating the database from our last lesson. We first create the connection to the database, then, using our cursor, execute the SQL command to create our tables. The commands to create our tables are located in the create_table.sql file."
   ]
  },
  {
   "cell_type": "code",
   "execution_count": 1,
   "metadata": {},
   "outputs": [],
   "source": [
    "import sqlite3"
   ]
  },
  {
   "cell_type": "code",
   "execution_count": 4,
   "metadata": {},
   "outputs": [],
   "source": [
    "#establish connection with the database\n",
    "conn = sqlite3.connect('barbershop_database.db')\n",
    "\n",
    "#create our cursor object\n",
    "cur = conn.cursor()"
   ]
  },
  {
   "cell_type": "markdown",
   "metadata": {},
   "source": [
    "Our SQL statements to create the employees table:\n",
    "```SQL\n",
    "CREATE TABLE employees (id INTEGER PRIMARY KEY, name TEXT, phone_number INTEGER, home_zipcode INTEGER, \n",
    "                        email TEXT);\n",
    "\n",
    "\n",
    "```\n"
   ]
  },
  {
   "cell_type": "code",
   "execution_count": 5,
   "metadata": {},
   "outputs": [
    {
     "data": {
      "text/plain": [
       "<sqlite3.Cursor at 0x10bac9960>"
      ]
     },
     "execution_count": 5,
     "metadata": {},
     "output_type": "execute_result"
    }
   ],
   "source": [
    "#setting variable sql_command as our create table statements\n",
    "sql_command = open('create_table.sql', 'r')\n",
    "create = sql_command.read()\n",
    "cur.executescript(create)"
   ]
  },
  {
   "cell_type": "markdown",
   "metadata": {},
   "source": [
    "### Inserting data into database\n",
    "Now that our database is ready, we are ready to insert our rows of data into their respective tables\n",
    "> As developers we don't directly insert data too many time "
   ]
  },
  {
   "cell_type": "markdown",
   "metadata": {},
   "source": [
    "We use the INSERT INTO command, followed by the name of the table to which we want to add data. Then, in parentheses, we put the column names that we will be filling with data. This is followed by the VALUES keyword, which is accompanied by a parentheses enclosed list of the values that correspond to each column name."
   ]
  },
  {
   "cell_type": "markdown",
   "metadata": {},
   "source": [
    "The file insert_employees.sql contains our commands for inserting the data into the employees table."
   ]
  },
  {
   "cell_type": "markdown",
   "metadata": {},
   "source": [
    "`insert_employees.sql`\n",
    "```sql\n",
    "INSERT INTO employees (name, phone_number, home_zipcode, email) VALUES\n",
    "('fred', '555-333-4444', 10001, 'fred@barbershop.com'),\n",
    "('bob', '555-333-4444', 10001, 'bob@barbershop.com');\n",
    "```"
   ]
  },
  {
   "cell_type": "markdown",
   "metadata": {},
   "source": [
    "A couple of things to note about our insert statement: \n",
    "* We don't need to have data for all of the columns \n",
    "* Commas in between each row, and end each sql statement with a semi-colon"
   ]
  },
  {
   "cell_type": "markdown",
   "metadata": {},
   "source": [
    "To execute the command: "
   ]
  },
  {
   "cell_type": "code",
   "execution_count": 6,
   "metadata": {},
   "outputs": [
    {
     "data": {
      "text/plain": [
       "<sqlite3.Cursor at 0x10bac9960>"
      ]
     },
     "execution_count": 6,
     "metadata": {},
     "output_type": "execute_result"
    }
   ],
   "source": [
    "sql_command = open('insert_employees.sql', 'r')\n",
    "insert = sql_command.read()\n",
    "cur.executescript(insert)"
   ]
  },
  {
   "cell_type": "markdown",
   "metadata": {},
   "source": [
    "At this point, if we don't see an error, we have properly inserted in our data"
   ]
  }
 ],
 "metadata": {
  "kernelspec": {
   "display_name": "Python 3",
   "language": "python",
   "name": "python3"
  },
  "language_info": {
   "codemirror_mode": {
    "name": "ipython",
    "version": 3
   },
   "file_extension": ".py",
   "mimetype": "text/x-python",
   "name": "python",
   "nbconvert_exporter": "python",
   "pygments_lexer": "ipython3",
   "version": "3.7.4"
  }
 },
 "nbformat": 4,
 "nbformat_minor": 4
}
