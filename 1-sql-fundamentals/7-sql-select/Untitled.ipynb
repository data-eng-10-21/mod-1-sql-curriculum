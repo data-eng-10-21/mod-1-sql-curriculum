{
 "cells": [
  {
   "cell_type": "code",
   "execution_count": 1,
   "metadata": {},
   "outputs": [],
   "source": [
    "import sqlite3\n",
    "conn = sqlite3.connect('grocery.db')"
   ]
  },
  {
   "cell_type": "code",
   "execution_count": 2,
   "metadata": {},
   "outputs": [],
   "source": [
    "cursor = conn.cursor()"
   ]
  },
  {
   "cell_type": "code",
   "execution_count": 7,
   "metadata": {},
   "outputs": [
    {
     "data": {
      "text/plain": [
       "<sqlite3.Cursor at 0x10aa7f420>"
      ]
     },
     "execution_count": 7,
     "metadata": {},
     "output_type": "execute_result"
    }
   ],
   "source": [
    "cursor.execute('''CREATE TABLE IF NOT EXISTS users (\n",
    "  id INTEGER PRIMARY KEY,\n",
    "  name TEXT\n",
    ");''')"
   ]
  },
  {
   "cell_type": "code",
   "execution_count": 8,
   "metadata": {},
   "outputs": [
    {
     "data": {
      "text/plain": [
       "[]"
      ]
     },
     "execution_count": 8,
     "metadata": {},
     "output_type": "execute_result"
    }
   ],
   "source": [
    "cursor.fetchall()"
   ]
  },
  {
   "cell_type": "code",
   "execution_count": 9,
   "metadata": {},
   "outputs": [],
   "source": [
    "insert_statement = \"\"\"INSERT INTO users (name) VALUES\n",
    "('Bob'),\n",
    "('Michael'),\n",
    "('Evan'),\n",
    "('Sam');\"\"\""
   ]
  },
  {
   "cell_type": "code",
   "execution_count": 10,
   "metadata": {},
   "outputs": [
    {
     "data": {
      "text/plain": [
       "<sqlite3.Cursor at 0x10aa7f420>"
      ]
     },
     "execution_count": 10,
     "metadata": {},
     "output_type": "execute_result"
    }
   ],
   "source": [
    "cursor.execute(insert_statement)"
   ]
  },
  {
   "cell_type": "code",
   "execution_count": 11,
   "metadata": {},
   "outputs": [
    {
     "data": {
      "text/plain": [
       "[]"
      ]
     },
     "execution_count": 11,
     "metadata": {},
     "output_type": "execute_result"
    }
   ],
   "source": [
    "cursor.fetchall()"
   ]
  },
  {
   "cell_type": "code",
   "execution_count": 20,
   "metadata": {},
   "outputs": [
    {
     "data": {
      "text/plain": [
       "<sqlite3.Cursor at 0x10aa7f420>"
      ]
     },
     "execution_count": 20,
     "metadata": {},
     "output_type": "execute_result"
    }
   ],
   "source": [
    "cursor.execute('SELECT * FROM users;')"
   ]
  },
  {
   "cell_type": "code",
   "execution_count": 21,
   "metadata": {},
   "outputs": [],
   "source": [
    "users = cursor.fetchall()"
   ]
  },
  {
   "cell_type": "code",
   "execution_count": 25,
   "metadata": {},
   "outputs": [
    {
     "data": {
      "text/plain": [
       "['Bob', 'Michael', 'Evan', 'Sam']"
      ]
     },
     "execution_count": 25,
     "metadata": {},
     "output_type": "execute_result"
    }
   ],
   "source": [
    "[user_name for user_id, user_name in users]"
   ]
  },
  {
   "cell_type": "code",
   "execution_count": 26,
   "metadata": {},
   "outputs": [],
   "source": [
    "url = \"https://raw.githubusercontent.com/ledeprogram/courses/master/foundations/mapping/tilemill/yelp-lunch-nyc.csv\""
   ]
  },
  {
   "cell_type": "code",
   "execution_count": 28,
   "metadata": {},
   "outputs": [],
   "source": [
    "import pandas as pd\n",
    "df = pd.read_csv(url)"
   ]
  },
  {
   "cell_type": "code",
   "execution_count": 29,
   "metadata": {},
   "outputs": [
    {
     "data": {
      "text/html": [
       "<div>\n",
       "<style scoped>\n",
       "    .dataframe tbody tr th:only-of-type {\n",
       "        vertical-align: middle;\n",
       "    }\n",
       "\n",
       "    .dataframe tbody tr th {\n",
       "        vertical-align: top;\n",
       "    }\n",
       "\n",
       "    .dataframe thead th {\n",
       "        text-align: right;\n",
       "    }\n",
       "</style>\n",
       "<table border=\"1\" class=\"dataframe\">\n",
       "  <thead>\n",
       "    <tr style=\"text-align: right;\">\n",
       "      <th></th>\n",
       "      <th>Name</th>\n",
       "      <th>Address</th>\n",
       "      <th>City</th>\n",
       "      <th>Category</th>\n",
       "      <th>Rating</th>\n",
       "      <th>URL</th>\n",
       "    </tr>\n",
       "  </thead>\n",
       "  <tbody>\n",
       "    <tr>\n",
       "      <th>0</th>\n",
       "      <td>Rambling House</td>\n",
       "      <td>4292 Katonah Ave</td>\n",
       "      <td>Bronx</td>\n",
       "      <td>Pubs</td>\n",
       "      <td>4.0</td>\n",
       "      <td>http://www.yelp.com/biz/rambling-house-bronx</td>\n",
       "    </tr>\n",
       "    <tr>\n",
       "      <th>1</th>\n",
       "      <td>Curry Spot</td>\n",
       "      <td>4268 Katonah Ave</td>\n",
       "      <td>Bronx</td>\n",
       "      <td>Indian</td>\n",
       "      <td>4.0</td>\n",
       "      <td>http://www.yelp.com/biz/curry-spot-bronx</td>\n",
       "    </tr>\n",
       "    <tr>\n",
       "      <th>2</th>\n",
       "      <td>Eileens Country Kitchen</td>\n",
       "      <td>964 McLean Ave</td>\n",
       "      <td>Yonkers</td>\n",
       "      <td>American (Traditional)</td>\n",
       "      <td>3.5</td>\n",
       "      <td>http://www.yelp.com/biz/eileens-country-kitche...</td>\n",
       "    </tr>\n",
       "  </tbody>\n",
       "</table>\n",
       "</div>"
      ],
      "text/plain": [
       "                      Name           Address     City                Category  \\\n",
       "0           Rambling House  4292 Katonah Ave    Bronx                    Pubs   \n",
       "1               Curry Spot  4268 Katonah Ave    Bronx                  Indian   \n",
       "2  Eileens Country Kitchen    964 McLean Ave  Yonkers  American (Traditional)   \n",
       "\n",
       "   Rating                                                URL  \n",
       "0     4.0       http://www.yelp.com/biz/rambling-house-bronx  \n",
       "1     4.0           http://www.yelp.com/biz/curry-spot-bronx  \n",
       "2     3.5  http://www.yelp.com/biz/eileens-country-kitche...  "
      ]
     },
     "execution_count": 29,
     "metadata": {},
     "output_type": "execute_result"
    }
   ],
   "source": [
    "df[:3]"
   ]
  },
  {
   "cell_type": "code",
   "execution_count": 44,
   "metadata": {},
   "outputs": [],
   "source": [
    "# df.to_sql('restaurants', conn, index = False, if_exists = 'replace')"
   ]
  },
  {
   "cell_type": "code",
   "execution_count": 126,
   "metadata": {},
   "outputs": [],
   "source": [
    "sql_query = '''SELECT City, COUNT(*), AVG(rating), MAX(rating) FROM restaurants GROUP BY City;'''"
   ]
  },
  {
   "cell_type": "code",
   "execution_count": 127,
   "metadata": {},
   "outputs": [
    {
     "data": {
      "text/plain": [
       "<sqlite3.Cursor at 0x10aa7f420>"
      ]
     },
     "execution_count": 127,
     "metadata": {},
     "output_type": "execute_result"
    }
   ],
   "source": [
    "cursor.execute(sql_query)"
   ]
  },
  {
   "cell_type": "code",
   "execution_count": 156,
   "metadata": {},
   "outputs": [
    {
     "data": {
      "text/plain": [
       "<sqlite3.Cursor at 0x10aa7f420>"
      ]
     },
     "execution_count": 156,
     "metadata": {},
     "output_type": "execute_result"
    }
   ],
   "source": [
    "# find duplicate restuarant names\n",
    "query = \"\"\"SELECT name, COUNT(*) as number FROM restaurants GROUP BY name HAVING COUNT(*) > 10 ORDER BY number DESC;\"\"\"\n",
    "cursor.execute(query)"
   ]
  },
  {
   "cell_type": "code",
   "execution_count": 157,
   "metadata": {},
   "outputs": [
    {
     "data": {
      "text/plain": [
       "[('Dig Inn Seasonal Market', 38),\n",
       " (\"Sophie's Cuban Cuisine\", 32),\n",
       " ('Panera Bread', 32),\n",
       " ('Caridad Restaurant', 24),\n",
       " ('Corfu Grill', 21),\n",
       " (\"Govinda's Vegetarian\", 20),\n",
       " ('Num Pang Sandwich Shop', 19),\n",
       " (\"Tina's Cuban Cuisine\", 18),\n",
       " (\"Luke's Lobster\", 18),\n",
       " (\"Tino's Delicatessen\", 17),\n",
       " ('Sagar Chinese', 17),\n",
       " ('Nakata', 17),\n",
       " ('Margon', 17),\n",
       " ('Lunchbox', 17),\n",
       " ('Good To Go', 17),\n",
       " ('Katsu-Hama', 16),\n",
       " ('Royal Crown Bakery', 15),\n",
       " ('Rajdhani Indian Restaurant', 15),\n",
       " (\"Nino's Restaurant\", 15),\n",
       " ('Gourmet 53', 15),\n",
       " ('Cipriani Le Specialita', 15),\n",
       " ('Alor Cafe', 15),\n",
       " ('Woorijip Authentic Korean Food', 14),\n",
       " ('Wajima Japanese Restaurant', 14),\n",
       " ('The Picnic Basket', 14),\n",
       " ('Taqueria Tlaxcalli', 14),\n",
       " ('Sabrosura Restaurant', 14),\n",
       " (\"Mike's Deli\", 14),\n",
       " ('Latin Grill Factory', 14),\n",
       " (\"Hanco's\", 14),\n",
       " ('Estrellita Poblana IV', 14),\n",
       " ('Estrellita Poblana', 14),\n",
       " ('Buffalo Wild Wings', 14),\n",
       " ('Tasty Deli', 13),\n",
       " ('Soba-ya', 13),\n",
       " ('Muscle Maker Grill', 13),\n",
       " (\"Michaelangelo's Little Italy\", 13),\n",
       " ('La Strada Restaurant', 13),\n",
       " (\"Franco's\", 13),\n",
       " ('Empire Szechuan Restaurant', 13),\n",
       " ('Empire East', 13),\n",
       " (\"Emilio's Pizza\", 13),\n",
       " ('Café Zaiya', 13),\n",
       " ('Bodhi Tree', 13),\n",
       " ('Vegetarian Ginger', 12),\n",
       " ('Tung Thong Thai Restaurant', 12),\n",
       " ('Sorrento Pizzeria', 12),\n",
       " ('Pupusa Market', 12),\n",
       " ('Parisi Bakery', 12),\n",
       " (\"Moe's Southwest Grill\", 12),\n",
       " (\"Mimi's Hummus\", 12),\n",
       " ('Leña Latin Grill', 12),\n",
       " (\"Lee's Tavern\", 12),\n",
       " ('La Piazza', 12),\n",
       " ('Kati Roll Company', 12),\n",
       " ('Hibachi Grill and Supreme Buffet', 12),\n",
       " ('Hado Sushi', 12),\n",
       " ('Genki Sushi', 12),\n",
       " ('Call It A Wrap', 12),\n",
       " ('Bay House Bistro', 12),\n",
       " ('Zen Vegetarian House', 11),\n",
       " (\"Sam's Soul Food Restaurant Bar & Lounge\", 11),\n",
       " ('Original Pizza', 11),\n",
       " ('Nurnberger Bierhaus', 11),\n",
       " ('Margot Restaurant', 11),\n",
       " ('Margherita Pizza', 11),\n",
       " (\"John & Joe's Pizzeria\", 11),\n",
       " (\"Joe's of Avenue U Italian Cuisine\", 11),\n",
       " ('International Paradise Restaurant', 11),\n",
       " (\"Gaby's Pizza\", 11),\n",
       " ('El Rey II Restaurant', 11),\n",
       " ('Chikurin', 11),\n",
       " (\"Canlon's Restaurant\", 11),\n",
       " ('Cafe Luna', 11),\n",
       " (\"Brother's Pizzeria\", 11),\n",
       " ('Bedouin Tent Restaurant', 11),\n",
       " ('Bassett Caterers', 11),\n",
       " ('Armandos Pizza', 11)]"
      ]
     },
     "execution_count": 157,
     "metadata": {},
     "output_type": "execute_result"
    }
   ],
   "source": [
    "cursor.fetchall()"
   ]
  },
  {
   "cell_type": "code",
   "execution_count": 137,
   "metadata": {},
   "outputs": [],
   "source": [
    "query = \"\"\"SELECT * FROM restaurants WHERE City = 'Queens' \n",
    "ORDER BY rating DESC LIMIT 10;\"\"\""
   ]
  },
  {
   "cell_type": "code",
   "execution_count": null,
   "metadata": {},
   "outputs": [],
   "source": [
    "def insert_country(country_name):\n",
    "    'SELECT * FROM countries WHERE name = country_name;'\n",
    "    'INSERT INTO' "
   ]
  },
  {
   "cell_type": "code",
   "execution_count": null,
   "metadata": {},
   "outputs": [],
   "source": [
    "'john doe'"
   ]
  },
  {
   "cell_type": "code",
   "execution_count": null,
   "metadata": {},
   "outputs": [],
   "source": [
    "'555-555-5555'\n",
    "'unknown'"
   ]
  },
  {
   "cell_type": "code",
   "execution_count": null,
   "metadata": {},
   "outputs": [],
   "source": [
    "* FROM \n",
    "* WHERE city = 'queens'"
   ]
  },
  {
   "cell_type": "code",
   "execution_count": 82,
   "metadata": {},
   "outputs": [
    {
     "data": {
      "text/plain": [
       "<sqlite3.Cursor at 0x10aa7f420>"
      ]
     },
     "execution_count": 82,
     "metadata": {},
     "output_type": "execute_result"
    }
   ],
   "source": [
    "cursor.execute(query)"
   ]
  },
  {
   "cell_type": "code",
   "execution_count": 83,
   "metadata": {},
   "outputs": [
    {
     "data": {
      "text/plain": [
       "[(\"Dominick's Hot Dog Truck\",\n",
       "  'Rego Park',\n",
       "  'Queens',\n",
       "  'Hot Dogs',\n",
       "  4.5,\n",
       "  'http://www.yelp.com/biz/dominicks-hot-dog-truck-queens'),\n",
       " (\"Dominick's Hot Dog Truck\",\n",
       "  'Rego Park',\n",
       "  'Queens',\n",
       "  'Hot Dogs',\n",
       "  4.5,\n",
       "  'http://www.yelp.com/biz/dominicks-hot-dog-truck-queens'),\n",
       " (\"Dominick's Hot Dog Truck\",\n",
       "  'Rego Park',\n",
       "  'Queens',\n",
       "  'Hot Dogs',\n",
       "  4.5,\n",
       "  'http://www.yelp.com/biz/dominicks-hot-dog-truck-queens'),\n",
       " ('Veggie Island',\n",
       "  '95-19 Rockaway Beach Blvd',\n",
       "  'Queens',\n",
       "  'Vegetarian',\n",
       "  4.5,\n",
       "  'http://www.yelp.com/biz/veggie-island-queens-2'),\n",
       " ('Veggie Island',\n",
       "  '95-19 Rockaway Beach Blvd',\n",
       "  'Queens',\n",
       "  'Vegetarian',\n",
       "  4.5,\n",
       "  'http://www.yelp.com/biz/veggie-island-queens-2'),\n",
       " ('Veggie Island',\n",
       "  '95-19 Rockaway Beach Blvd',\n",
       "  'Queens',\n",
       "  'Vegetarian',\n",
       "  4.5,\n",
       "  'http://www.yelp.com/biz/veggie-island-queens-2'),\n",
       " ('Veggie Island',\n",
       "  '95-19 Rockaway Beach Blvd',\n",
       "  'Queens',\n",
       "  'Vegetarian',\n",
       "  4.5,\n",
       "  'http://www.yelp.com/biz/veggie-island-queens-2'),\n",
       " (\"Dominick's Hot Dog Truck\",\n",
       "  'Rego Park',\n",
       "  'Queens',\n",
       "  'Hot Dogs',\n",
       "  4.5,\n",
       "  'http://www.yelp.com/biz/dominicks-hot-dog-truck-queens'),\n",
       " ('Five Guys Burgers & Fries',\n",
       "  '132-01 14th Ave',\n",
       "  'Queens',\n",
       "  'Burgers',\n",
       "  4.0,\n",
       "  'http://www.yelp.com/biz/five-guys-burgers-and-fries-queens-9'),\n",
       " ('Five Guys Burgers & Fries',\n",
       "  '132-01 14th Ave',\n",
       "  'Queens',\n",
       "  'Burgers',\n",
       "  4.0,\n",
       "  'http://www.yelp.com/biz/five-guys-burgers-and-fries-queens-9')]"
      ]
     },
     "execution_count": 83,
     "metadata": {},
     "output_type": "execute_result"
    }
   ],
   "source": [
    "cursor.fetchall()"
   ]
  },
  {
   "cell_type": "code",
   "execution_count": null,
   "metadata": {},
   "outputs": [],
   "source": []
  }
 ],
 "metadata": {
  "kernelspec": {
   "display_name": "Python 3",
   "language": "python",
   "name": "python3"
  },
  "language_info": {
   "codemirror_mode": {
    "name": "ipython",
    "version": 3
   },
   "file_extension": ".py",
   "mimetype": "text/x-python",
   "name": "python",
   "nbconvert_exporter": "python",
   "pygments_lexer": "ipython3",
   "version": "3.8.3"
  }
 },
 "nbformat": 4,
 "nbformat_minor": 4
}
