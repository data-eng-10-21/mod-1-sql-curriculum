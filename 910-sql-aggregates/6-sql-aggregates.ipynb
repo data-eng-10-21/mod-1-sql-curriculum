{
 "cells": [
  {
   "cell_type": "markdown",
   "metadata": {},
   "source": [
    "# SQL Aggregates"
   ]
  },
  {
   "cell_type": "markdown",
   "metadata": {},
   "source": [
    "### Introduction"
   ]
  },
  {
   "cell_type": "markdown",
   "metadata": {},
   "source": [
    "So far we have used SQL to retrieve information about individual rows.  We have for example, gathered *each* name of an employee.  However, what if we want to ask a question that must examine multiple rows.  For example, we may want to know the count of a row, the maximum or minimum value of a row, or the average of rows.  We'll explore questions like these in this lesson."
   ]
  },
  {
   "cell_type": "markdown",
   "metadata": {},
   "source": [
    "### Working with CSV and SQL"
   ]
  },
  {
   "cell_type": "markdown",
   "metadata": {},
   "source": [
    "> Move this up into an earlier lesson, if necessary."
   ]
  },
  {
   "cell_type": "markdown",
   "metadata": {},
   "source": [
    "* We'll use a couple of different tools. We'll use pandas to initially read our CSV and load the data into a dataframe.\n",
    "* And then we'll convert this dataframe to a SQL table."
   ]
  },
  {
   "cell_type": "code",
   "execution_count": 1,
   "metadata": {},
   "outputs": [],
   "source": [
    "import pandas as pd"
   ]
  },
  {
   "cell_type": "code",
   "execution_count": 2,
   "metadata": {},
   "outputs": [],
   "source": [
    "df = pd.read_csv('https://raw.githubusercontent.com/ledeprogram/courses/master/foundations/mapping/tilemill/yelp-lunch-nyc.csv')"
   ]
  },
  {
   "cell_type": "markdown",
   "metadata": {},
   "source": [
    "* We can convert to SQL with the `to_sql` method."
   ]
  },
  {
   "cell_type": "markdown",
   "metadata": {},
   "source": [
    "This method requires two arguments: the name of the table we wish to create and a connection to the database.  We don't yet have a connection to the database, or even a database at all, so let's use SQLite to create one, and then we can pass through that connection to the `to_sql` method."
   ]
  },
  {
   "cell_type": "code",
   "execution_count": 11,
   "metadata": {},
   "outputs": [],
   "source": [
    "import sqlite3\n",
    "yelp_db = sqlite3.connect('yelp.db')"
   ]
  },
  {
   "cell_type": "code",
   "execution_count": 7,
   "metadata": {},
   "outputs": [],
   "source": [
    "df.to_sql('restaurants', yelp_db)"
   ]
  },
  {
   "cell_type": "markdown",
   "metadata": {},
   "source": [
    "* Great so now our data from the dataframe should be loaded into our SQL table.  We can confirm this with a SELECT query to our database."
   ]
  },
  {
   "cell_type": "code",
   "execution_count": 8,
   "metadata": {},
   "outputs": [],
   "source": [
    "cursor = yelp_db.cursor()"
   ]
  },
  {
   "cell_type": "code",
   "execution_count": 9,
   "metadata": {},
   "outputs": [
    {
     "data": {
      "text/plain": [
       "<sqlite3.Cursor at 0x118cf0650>"
      ]
     },
     "execution_count": 9,
     "metadata": {},
     "output_type": "execute_result"
    }
   ],
   "source": [
    "cursor.execute('SELECT * FROM restaurants LIMIT 1')"
   ]
  },
  {
   "cell_type": "code",
   "execution_count": 10,
   "metadata": {},
   "outputs": [
    {
     "data": {
      "text/plain": [
       "[(0,\n",
       "  'Rambling House',\n",
       "  '4292 Katonah Ave',\n",
       "  'Bronx',\n",
       "  'Pubs',\n",
       "  4.0,\n",
       "  'http://www.yelp.com/biz/rambling-house-bronx')]"
      ]
     },
     "execution_count": 10,
     "metadata": {},
     "output_type": "execute_result"
    }
   ],
   "source": [
    "cursor.fetchall()"
   ]
  },
  {
   "cell_type": "markdown",
   "metadata": {},
   "source": [
    "### Working with Aggregates"
   ]
  },
  {
   "cell_type": "markdown",
   "metadata": {},
   "source": [
    "* Max "
   ]
  },
  {
   "cell_type": "markdown",
   "metadata": {},
   "source": [
    "* Min "
   ]
  },
  {
   "cell_type": "markdown",
   "metadata": {},
   "source": [
    "* Count "
   ]
  },
  {
   "cell_type": "markdown",
   "metadata": {},
   "source": [
    "Count is interesting because we could count any individual column and if all of our data is filled, it would give us the same answer.  For example, if we counted the number of restaurant names that would return the same as the number of ratings.  Really what we want to do is count the rows.  To specify that we want to count not a specific column, but each of an entire row we use `*` as our argument. "
   ]
  },
  {
   "cell_type": "markdown",
   "metadata": {},
   "source": [
    "### Calculations"
   ]
  },
  {
   "cell_type": "markdown",
   "metadata": {},
   "source": [
    "* Sum()\n",
    "* Avg()"
   ]
  },
  {
   "cell_type": "markdown",
   "metadata": {},
   "source": [
    "### Aggregates and Where Clauses"
   ]
  },
  {
   "cell_type": "markdown",
   "metadata": {},
   "source": [
    "* Just Sum and Avg should be good."
   ]
  },
  {
   "cell_type": "code",
   "execution_count": null,
   "metadata": {},
   "outputs": [],
   "source": []
  }
 ],
 "metadata": {
  "kernelspec": {
   "display_name": "Python 3",
   "language": "python",
   "name": "python3"
  },
  "language_info": {
   "codemirror_mode": {
    "name": "ipython",
    "version": 3
   },
   "file_extension": ".py",
   "mimetype": "text/x-python",
   "name": "python",
   "nbconvert_exporter": "python",
   "pygments_lexer": "ipython3",
   "version": "3.7.3"
  }
 },
 "nbformat": 4,
 "nbformat_minor": 2
}
