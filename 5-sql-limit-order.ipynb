{
 "cells": [
  {
   "cell_type": "markdown",
   "metadata": {},
   "source": [
    "# SQL Order and Limit "
   ]
  },
  {
   "cell_type": "markdown",
   "metadata": {},
   "source": [
    "### Introduction"
   ]
  },
  {
   "cell_type": "markdown",
   "metadata": {},
   "source": [
    "In the last section, we saw how to use the WHERE clause to specify which data to select.  We can think of the WHERE clause as loading up data into memory.  \n",
    "\n",
    "But once we specified which data to be loaded into memory with the WHERE clause, we can go further by ordering that data, and then only displaying a couple rows of the selected data.  Let's explore the ORDER and LIMIT clauses in this lesson."
   ]
  },
  {
   "cell_type": "markdown",
   "metadata": {},
   "source": [
    "### Order By"
   ]
  },
  {
   "cell_type": "markdown",
   "metadata": {},
   "source": [
    "Order by works as we expect.  At the end of our SQL statement, we simply specify the column that we wish to order by, and specify whether or to order such that data is ASC -- smallest to biggest -- or DESC, biggest to smallest.  Let's see an example where we order our employees in alphabetical order.  "
   ]
  },
  {
   "cell_type": "markdown",
   "metadata": {},
   "source": [
    "### Limit and Offset"
   ]
  },
  {
   "cell_type": "markdown",
   "metadata": {},
   "source": [
    "Limit allows us to specify a number of records to return.  Let's see it in action."
   ]
  },
  {
   "cell_type": "markdown",
   "metadata": {},
   "source": [
    "`SELECT * FROM employees ORDER BY name LIMIT 2`"
   ]
  },
  {
   "cell_type": "markdown",
   "metadata": {},
   "source": [
    "* Offset "
   ]
  },
  {
   "cell_type": "markdown",
   "metadata": {},
   "source": [
    "### Order of Operations with SQL"
   ]
  },
  {
   "cell_type": "markdown",
   "metadata": {},
   "source": [
    "Now what tends to get tricky about the WHERE, ORDER BY, and LIMIT clauses is determining the order that we must provide them in SQL query.  To understand this best, we need a solid foundation in SQL's order of operations under the hood.  \n",
    "\n",
    "The clauses are executed and specified in the following order:\n",
    "\n",
    "* `SELECT`\n",
    "* `WHERE` \n",
    "* `ORDER BY`\n",
    "* `LIMIT`"
   ]
  },
  {
   "cell_type": "markdown",
   "metadata": {},
   "source": [
    "So think of this order as SQL first loading data from our WHERE clause into memory, then ordering this data, and finally limiting the data.  Note that while the order of these operations is maintained, any combination of these SQL clauses can be specified.  The only SQL clause that we must specify is SELECT."
   ]
  },
  {
   "cell_type": "code",
   "execution_count": 2,
   "metadata": {},
   "outputs": [],
   "source": []
  },
  {
   "cell_type": "code",
   "execution_count": null,
   "metadata": {},
   "outputs": [],
   "source": []
  }
 ],
 "metadata": {
  "kernelspec": {
   "display_name": "Python 3",
   "language": "python",
   "name": "python3"
  },
  "language_info": {
   "codemirror_mode": {
    "name": "ipython",
    "version": 3
   },
   "file_extension": ".py",
   "mimetype": "text/x-python",
   "name": "python",
   "nbconvert_exporter": "python",
   "pygments_lexer": "ipython3",
   "version": "3.7.3"
  }
 },
 "nbformat": 4,
 "nbformat_minor": 2
}
