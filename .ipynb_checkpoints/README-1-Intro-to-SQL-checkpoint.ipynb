{
 "cells": [
  {
   "cell_type": "markdown",
   "metadata": {},
   "source": [
    "# Intro to Relational Databases"
   ]
  },
  {
   "cell_type": "markdown",
   "metadata": {},
   "source": [
    "### Introduction\n",
    "SQL stands for Structured Query Language. We use SQL to communicate with certain types of databases."
   ]
  },
  {
   "cell_type": "markdown",
   "metadata": {},
   "source": [
    "### Why SQL"
   ]
  },
  {
   "cell_type": "markdown",
   "metadata": {},
   "source": [
    "* Relational Databases\n",
    "    * SQL allows us to communicate with, manage, and manipulate data stored in a relational database.\n",
    "    * The data in a relational database is stored in database objects called tables. A table is a collection of related data entries and it consists of columns and rows.\n",
    "* Exceptionally popular\n",
    "    * When accessing or analyzing data in popular programming languages such as Python and Ruby, we use databases to store the data. Most database systems use SQL, including MS SQL Server, IBM DB2, Oracle, MySQL, and Microsoft Access.\n",
    "* Excel\n",
    "    * The tables in a SQL database are very similar to spreadsheets in Excel.\n",
    "    * However, relational databases are much better than Excel at storing and managing large sets of data. "
   ]
  },
  {
   "cell_type": "markdown",
   "metadata": {},
   "source": [
    "### SQL vs Excel"
   ]
  },
  {
   "cell_type": "markdown",
   "metadata": {},
   "source": [
    "Now one way to learn about SQL is to compare it to some software that we have already used in our non-coding science life: namely excel.  If your not familiar with excel, that's ok we'll explore the concepts we need to know here.  "
   ]
  },
  {
   "cell_type": "markdown",
   "metadata": {},
   "source": [
    "Like SQL, excel is good for organizing, storing, and asking questions about our data.  Let's get started by using a google spreadsheet to organize some information.  Imagine that we run a barber shop, and we want to use to help us keep track of our customers and employees."
   ]
  },
  {
   "cell_type": "markdown",
   "metadata": {},
   "source": [
    "1. Model in excel\n",
    "\n",
    "    * Start with employees spreadsheet, and perhaps just a list of names, phone numbers, email\n",
    "    * And have `employees` on top of spreadsheet\n",
    "    * Have `customers` on different spreadsheet\n",
    "    \n",
    "Employees Table - https://docs.google.com/spreadsheets/d/1_jrjP5glCbo7ViLPg5gCj1uFqv5sCci3sMEeZueFfXM/edit?usp=sharing\n",
    "\n",
    "Customers Table - https://docs.google.com/spreadsheets/d/1sQEkMzVXiJ9C0H4-ZIe5DkvNSBH34uMJJyUathHWBEU/edit?usp=sharing"
   ]
  },
  {
   "cell_type": "markdown",
   "metadata": {},
   "source": [
    "Connection to SQL:\n",
    "* In the Excel spreadsheets above, the spreadsheet name would represent the table name in our database.\n",
    "* Each Excel column represents a column in our table (with column names in the first row).\n",
    "* The rows in the Excel spreadsheet also represent the rows in our table.\n",
    "* We can convert this Excel spreadsheet into a SQL database."
   ]
  },
  {
   "cell_type": "markdown",
   "metadata": {},
   "source": [
    "### Get started with SQL"
   ]
  },
  {
   "cell_type": "markdown",
   "metadata": {},
   "source": [
    "Lots of different relational database software that we can use, postgres, sql, sqlite.  They all work very similarly.  So we'll get started with SQLite3 as it's lightweight and easy to set up."
   ]
  },
  {
   "cell_type": "markdown",
   "metadata": {},
   "source": [
    "1. Our SQL database will be stored in a \".db\" file. This .db file is our database and is the container for all of our data represented in tables (similar to how an Excel doc holds different spreadsheets), and will be the file we communicate with using SQLite3. Currently we do not have a .db file, but we can use SQLite3 to create one.\n",
    "2. In the code below, we are creating a connection with our database using SQLite3. If SQLite does not find a database in our directory with the name specified in sqlite3.connect(\"\"), it will create a new one."
   ]
  },
  {
   "cell_type": "code",
   "execution_count": 1,
   "metadata": {},
   "outputs": [],
   "source": [
    "import sqlite3 \n",
    "\n",
    "#Connecting to barbershop_database.db\n",
    "#If barbershop_database.db does not already exist, SQLite3 will create it\n",
    "connection = sqlite3.connect('barbershop_database.db')"
   ]
  },
  {
   "cell_type": "markdown",
   "metadata": {},
   "source": [
    "After we have established a connection with the database, we can begin to add, manipulate, and view our data.\n",
    "Our first step here is to create a table to store the data. When creating a table, we need to determine the types of data we want it to hold. \n",
    "Two of the most common datatypes, and the types of data in our Employees table, are Integer and Text. You can view a list of other common data types [here](https://www.w3schools.com/sql/sql_datatypes.asp).\n",
    "Looking at our Employees table, we have a name and email column that we want represented in text, and a phone number column we want represented as an integer. ID doesn't mean anything, except that it's an identifier, so easy to change\n",
    "\n",
    "SQL Statement for creating a new table:\n",
    "\n",
    "```sql\n",
    "CREATE TABLE employees (id INTEGER PRIMARY KEY AUTOINCREMENT, name TEXT, phone number, );\n",
    "```\n",
    "\n",
    "    "
   ]
  },
  {
   "cell_type": "markdown",
   "metadata": {},
   "source": [
    "Notice how our phone number column can be stored as both text and integer.\n",
    "* We choose integer vs text based on what operations we want to perform on the data\n",
    "\n",
    "Also notice how our data type for id is \"INTEGER PRIMARY KEY AUTOINCREMENT\". This means SQL will automatically fill in unique id keys for each row in the table."
   ]
  },
  {
   "cell_type": "markdown",
   "metadata": {},
   "source": [
    "Below we will create our employees table in the barbershop_database. In order to actually interact with the database, we must first create a cursor object from our connnection. We use our cursor to execute these SQL statements, and that the statements must be wrapped in quotes ('''SQL statement GOES here''')"
   ]
  },
  {
   "cell_type": "code",
   "execution_count": 2,
   "metadata": {},
   "outputs": [],
   "source": [
    "#creating cursor object\n",
    "cursor = connection.cursor()"
   ]
  },
  {
   "cell_type": "code",
   "execution_count": 3,
   "metadata": {},
   "outputs": [
    {
     "data": {
      "text/plain": [
       "<sqlite3.Cursor at 0x111bf9c00>"
      ]
     },
     "execution_count": 3,
     "metadata": {},
     "output_type": "execute_result"
    }
   ],
   "source": [
    "cursor.execute('''CREATE TABLE employees (id INTEGER PRIMARY KEY, name TEXT, phone_number INTEGER, email TEXT);''')"
   ]
  },
  {
   "cell_type": "markdown",
   "metadata": {},
   "source": [
    "Our table is now stored in the barbershop_database.db file. We are now ready to insert data into the table."
   ]
  },
  {
   "cell_type": "markdown",
   "metadata": {},
   "source": [
    "As our database can store multiple tables, lets add a table for customers as well."
   ]
  },
  {
   "cell_type": "code",
   "execution_count": 4,
   "metadata": {},
   "outputs": [
    {
     "data": {
      "text/plain": [
       "<sqlite3.Cursor at 0x111bf9c00>"
      ]
     },
     "execution_count": 4,
     "metadata": {},
     "output_type": "execute_result"
    }
   ],
   "source": [
    "cursor.execute('''CREATE TABLE customers (id INTEGER PRIMARY KEY, name TEXT, phone_number INTEGER);''')"
   ]
  },
  {
   "cell_type": "markdown",
   "metadata": {},
   "source": [
    "### SQL Conventions"
   ]
  },
  {
   "cell_type": "markdown",
   "metadata": {},
   "source": [
    "* Table name should be plural\n",
    "* "
   ]
  },
  {
   "cell_type": "code",
   "execution_count": null,
   "metadata": {},
   "outputs": [],
   "source": []
  }
 ],
 "metadata": {
  "kernelspec": {
   "display_name": "Python 3",
   "language": "python",
   "name": "python3"
  },
  "language_info": {
   "codemirror_mode": {
    "name": "ipython",
    "version": 3
   },
   "file_extension": ".py",
   "mimetype": "text/x-python",
   "name": "python",
   "nbconvert_exporter": "python",
   "pygments_lexer": "ipython3",
   "version": "3.7.1"
  }
 },
 "nbformat": 4,
 "nbformat_minor": 2
}
