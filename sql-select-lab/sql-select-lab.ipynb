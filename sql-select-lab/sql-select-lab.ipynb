{
 "cells": [
  {
   "cell_type": "markdown",
   "metadata": {},
   "source": [
    "# Select SQL Lab"
   ]
  },
  {
   "cell_type": "markdown",
   "metadata": {},
   "source": [
    "### Introduction\n",
    "We've learned all the basics about setting up our SQL database, creating tables, and inserting data. In this lab we will practice querying the data from our salad shop database using `SELECT` statements."
   ]
  },
  {
   "cell_type": "markdown",
   "metadata": {},
   "source": [
    "### Setup"
   ]
  },
  {
   "cell_type": "markdown",
   "metadata": {},
   "source": [
    "In the `src/index.py` file, call the `load_data_to_sql` method to load the data.\n",
    "\n",
    "Then it's time to query the database."
   ]
  },
  {
   "cell_type": "markdown",
   "metadata": {},
   "source": [
    "### Selecting data\n",
    "Our database is now ready for querying. We will use the python library `sqlite3` for running our SELECT statements.\n",
    "So to begin, let's select select the employees.\n",
    "\n",
    "Fill in the appropriate SQL statements inside of each function."
   ]
  },
  {
   "cell_type": "markdown",
   "metadata": {},
   "source": [
    "### Select Practice"
   ]
  },
  {
   "cell_type": "markdown",
   "metadata": {},
   "source": [
    "In the following exercises, answer the question by creating a sql select statement that will provide us with the solution. After reading each question, first create a sql statement, the run it using the cursor object to find the answer. \n",
    "\n",
    "> HINT: use the WHERE clause and boolean logic to filter the data within the select statement.\n"
   ]
  },
  {
   "cell_type": "markdown",
   "metadata": {},
   "source": [
    "Here's an example:\n",
    "What ingredients cost less than $1/oz?"
   ]
  },
  {
   "cell_type": "code",
   "execution_count": 5,
   "metadata": {},
   "outputs": [],
   "source": [
    "import sqlite3\n",
    "\n",
    "conn = sqlite3.connect('grocery.db')"
   ]
  },
  {
   "cell_type": "code",
   "execution_count": 16,
   "metadata": {},
   "outputs": [
    {
     "data": {
      "text/plain": [
       "<sqlite3.Cursor at 0x1093950a0>"
      ]
     },
     "execution_count": 16,
     "metadata": {},
     "output_type": "execute_result"
    }
   ],
   "source": [
    "cursor = conn.cursor()\n",
    "cursor.execute('SELECT * FROM employees WHERE zip_code IN (10001, 10002);')"
   ]
  },
  {
   "cell_type": "code",
   "execution_count": 17,
   "metadata": {},
   "outputs": [
    {
     "data": {
      "text/plain": [
       "[(1, 'Tom', 'manager', '2019-05-20', 10001, '212-438-3984'),\n",
       " (3, 'Jerry', 'delivery driver', '2019-12-15', 10001, '212-219-1029'),\n",
       " (4, 'Brian', 'salad maker', '2019-12-04', 10002, '646-328-2309'),\n",
       " (6, 'Cindy', 'assistant manager', '2019-11-12', 10002, '212-300-1203'),\n",
       " (8, 'Alex', 'assistant manager', '2019-06-11', 10001, '718-293-1823'),\n",
       " (9, 'Naomi', 'manager', '2019-02-12', 10002, '212-493-2922'),\n",
       " (10, 'Isabel', 'salad maker', '2020-01-04', 10001, '212-390-9122'),\n",
       " (12, 'Max', 'salad maker', '2019-10-03', 10002, '212-555-2911')]"
      ]
     },
     "execution_count": 17,
     "metadata": {},
     "output_type": "execute_result"
    }
   ],
   "source": [
    "cursor.fetchall()"
   ]
  },
  {
   "cell_type": "code",
   "execution_count": null,
   "metadata": {},
   "outputs": [],
   "source": [
    "#statement = '''SELECT * FROM ingredients WHERE cost_per_ounce < 1.0'''\n",
    "#cursor.execute(statement)\n",
    "#cursor.fetchall()"
   ]
  },
  {
   "cell_type": "markdown",
   "metadata": {},
   "source": [
    "What date did the employee Naomi begin working? "
   ]
  },
  {
   "cell_type": "code",
   "execution_count": null,
   "metadata": {},
   "outputs": [],
   "source": []
  },
  {
   "cell_type": "markdown",
   "metadata": {},
   "source": [
    "Which ingredients expire after February 3rd 2020? "
   ]
  },
  {
   "cell_type": "markdown",
   "metadata": {},
   "source": [
    "Which ingredients cost more than 1.00 but less than 1.50?"
   ]
  },
  {
   "cell_type": "markdown",
   "metadata": {},
   "source": [
    "Which employees' home zip code is 10001 or 10002?"
   ]
  },
  {
   "cell_type": "markdown",
   "metadata": {},
   "source": [
    "### Conclusion"
   ]
  },
  {
   "cell_type": "markdown",
   "metadata": {},
   "source": [
    "Using the SELECT statement in sql is how we query the data in the database. We use the SELECT statement to retrieve exactly the data we are interested in analyzing. In this lab we started off with some basic SELECT commands using `SELECT *` to select everything from a table, and `SELECT column_name` to select all the data from a specific column, or columns, in a table.\n",
    "\n",
    "Most of the time however, we are going to want to add some more complex filters to our SELECT statements, so we can be more precise in the data we are querying. For example, if our employees table had a 1,000,000 rows but we only wanted to see those rows for employees that started after a certain date, we would use a filter to limit the results of a query. The `WHERE` clause is how we filter in our SELECT statements. \n",
    "\n",
    "At the end of the lab, we used the `WHERE` clause, in conjunction with boolean logic, to apply filters to the queries."
   ]
  }
 ],
 "metadata": {
  "kernelspec": {
   "display_name": "Python 3",
   "language": "python",
   "name": "python3"
  },
  "language_info": {
   "codemirror_mode": {
    "name": "ipython",
    "version": 3
   },
   "file_extension": ".py",
   "mimetype": "text/x-python",
   "name": "python",
   "nbconvert_exporter": "python",
   "pygments_lexer": "ipython3",
   "version": "3.8.3"
  }
 },
 "nbformat": 4,
 "nbformat_minor": 4
}
