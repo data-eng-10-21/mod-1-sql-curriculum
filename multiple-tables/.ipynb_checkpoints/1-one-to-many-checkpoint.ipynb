{
 "cells": [
  {
   "cell_type": "markdown",
   "metadata": {},
   "source": [
    "### Introduction"
   ]
  },
  {
   "cell_type": "markdown",
   "metadata": {},
   "source": [
    "In previous lessons we have worked with querying single tables.  But really the power of relational databases comes into how data in the different tables connect to each other.  Let's explore this, by returning to our Barbershop database."
   ]
  },
  {
   "cell_type": "markdown",
   "metadata": {},
   "source": [
    "### Keeping track of haircuts"
   ]
  },
  {
   "cell_type": "markdown",
   "metadata": {},
   "source": [
    "Imagine that, in addition to customers and employees, we wish to keep track of each individual haircut that occurred.  This way we can keep track of each stylist's haircut."
   ]
  },
  {
   "cell_type": "markdown",
   "metadata": {},
   "source": [
    "<img src=\"./updated-haircut-employees.png\" width=\"80%\">"
   ]
  },
  {
   "cell_type": "markdown",
   "metadata": {},
   "source": [
    "This works pretty well, except that when any employee delivers a second haircut, we need to create four more columns in our database.  This is not good at all.  We can solve this by removing these last four columns from our `employees` table, and then creating a separate table for `haircuts`.  In the `haircuts` table, we identify the employee who delivered the haircut."
   ]
  },
  {
   "cell_type": "markdown",
   "metadata": {},
   "source": [
    "`haircuts table`"
   ]
  },
  {
   "cell_type": "markdown",
   "metadata": {},
   "source": [
    "<img src=\"./haircuts.png\" width=\"80%\">"
   ]
  },
  {
   "cell_type": "markdown",
   "metadata": {},
   "source": [
    "So the `id` in this table is the `id` of the haircut.  And the `gender` specifies whether the customer requested a Men's or Women's haircut.  Most importantly is the `employee_id`.  The `employee_id` specifies the id of the employee who delivered the haircut.  So the first haircut in the table was delivered by `Brian`, as he is the employee with `id` of 2.  And the last haircut is delivered by the employee `Jeff`, as he is the employee with `id` of 3.\n",
    "\n",
    "The `employee_id` is called a `foreign key`.  It's called this as the `employee_id` refers to an entity foreign to the `haircuts` table."
   ]
  },
  {
   "cell_type": "markdown",
   "metadata": {},
   "source": [
    "### One to Many Relationships"
   ]
  },
  {
   "cell_type": "markdown",
   "metadata": {},
   "source": [
    "Notice that above, an employee delivers *many* haircuts.  But a haircut has only one employee. This type of lopsided relationship, where only one entity has many of the other, is called a *one to many relationship*.\n",
    "\n",
    "> In a one to many relationship, only entity has many of the other.  For example, above only a stylist has many haircuts.  But a haircut only has one stylist.\n",
    "\n",
    "It's a good idea to identify whether a relationship is one to many, and also which entity has one, and which has many.  \n",
    "\n",
    "* A **stylist** *has many* haircuts\n",
    "* A **haircut** *has one* stylist"
   ]
  },
  {
   "cell_type": "markdown",
   "metadata": {},
   "source": [
    "Identifying (and writing down) the relationship helps us to determine where to store the foreign key.  \n",
    "\n",
    "> In a one to many relationship, we only store the foreign key on the table that **has one** of the other."
   ]
  },
  {
   "cell_type": "markdown",
   "metadata": {},
   "source": [
    "To see why, imagine if we tried to store the foreign key on the table that had many: here barbers.  We would be back to our original problem."
   ]
  },
  {
   "cell_type": "markdown",
   "metadata": {},
   "source": [
    "<img src=\"./wrong-one-to-many-foreign-key.png\">"
   ]
  },
  {
   "cell_type": "markdown",
   "metadata": {},
   "source": [
    "Every time a stylist serves another haircut, we need to create another column.  With haircut, there is only ever one barber, so we know we will not need to create a separate column."
   ]
  },
  {
   "cell_type": "markdown",
   "metadata": {},
   "source": [
    "### Conclusion"
   ]
  },
  {
   "cell_type": "code",
   "execution_count": null,
   "metadata": {},
   "outputs": [],
   "source": []
  }
 ],
 "metadata": {
  "kernelspec": {
   "display_name": "Python 3",
   "language": "python",
   "name": "python3"
  },
  "language_info": {
   "codemirror_mode": {
    "name": "ipython",
    "version": 3
   },
   "file_extension": ".py",
   "mimetype": "text/x-python",
   "name": "python",
   "nbconvert_exporter": "python",
   "pygments_lexer": "ipython3",
   "version": "3.7.3"
  }
 },
 "nbformat": 4,
 "nbformat_minor": 2
}
