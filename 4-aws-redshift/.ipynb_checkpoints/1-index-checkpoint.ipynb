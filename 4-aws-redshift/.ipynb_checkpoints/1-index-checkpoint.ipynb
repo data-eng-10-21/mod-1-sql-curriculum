{
 "cells": [
  {
   "cell_type": "markdown",
   "metadata": {},
   "source": [
    "### Redshift Resources\n",
    "\n",
    "[Redshift resources](https://docs.amazonaws.cn/en_us/redshift/latest/dg/c_redshift_system_overview.html)"
   ]
  },
  {
   "cell_type": "markdown",
   "metadata": {},
   "source": [
    "[Awesome ETL](https://github.com/pawl/awesome-etl)"
   ]
  },
  {
   "cell_type": "markdown",
   "metadata": {},
   "source": [
    "[AWS etl article](https://www.lewuathe.com/simple-etl-running-on-docker-and-ecs.html)\n",
    "\n",
    "[Airflow docker udemy](https://www.udemy.com/course/mastering-apache-airflow/)"
   ]
  },
  {
   "cell_type": "markdown",
   "metadata": {},
   "source": [
    "[Airflow to AWS](https://sonra.io/2018/01/01/using-apache-airflow-to-build-a-data-pipeline-on-aws/)"
   ]
  },
  {
   "cell_type": "markdown",
   "metadata": {},
   "source": [
    "[Airflow and Redshift](https://medium.com/@thrashmetalsoul/building-analytics-for-ada-from-scratch-with-airflow-and-redshift-ee2d58730ce1)\n",
    "\n",
    "[Airflow and Spark](https://towardsdatascience.com/using-airflow-and-spark-to-crunch-us-immigration-data-aa7c95b37031)"
   ]
  }
 ],
 "metadata": {
  "kernelspec": {
   "display_name": "Python 3",
   "language": "python",
   "name": "python3"
  },
  "language_info": {
   "codemirror_mode": {
    "name": "ipython",
    "version": 3
   },
   "file_extension": ".py",
   "mimetype": "text/x-python",
   "name": "python",
   "nbconvert_exporter": "python",
   "pygments_lexer": "ipython3",
   "version": "3.8.3"
  }
 },
 "nbformat": 4,
 "nbformat_minor": 4
}
