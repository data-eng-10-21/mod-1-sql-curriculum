{
 "cells": [
  {
   "cell_type": "markdown",
   "metadata": {},
   "source": [
    "# Postgres Terminal"
   ]
  },
  {
   "cell_type": "markdown",
   "metadata": {},
   "source": [
    "### Introduction"
   ]
  },
  {
   "cell_type": "markdown",
   "metadata": {},
   "source": [
    "In this lesson, we'll see how we can execute postgres commands through terminal, and without opening the SQL shell."
   ]
  },
  {
   "cell_type": "markdown",
   "metadata": {},
   "source": [
    "### Executing Postgres Commands Through Files"
   ]
  },
  {
   "cell_type": "markdown",
   "metadata": {},
   "source": [
    "So far we have seen how to both login to the shell and connect to a specified database.  But here, we'll see how to navigate postgres from the terminal.\n",
    "\n",
    "To see the list of postgres commands available from the terminal in general, call the following:\n",
    "\n",
    "`psql --help`"
   ]
  },
  {
   "cell_type": "markdown",
   "metadata": {},
   "source": [
    "Here, we can start off by logging into the practice database and specifying a user by providing the `-U` flag."
   ]
  },
  {
   "cell_type": "markdown",
   "metadata": {},
   "source": [
    "`psql practice -U postgres`"
   ]
  },
  {
   "cell_type": "markdown",
   "metadata": {},
   "source": [
    "> So above, we login to the practice database as the postgres user."
   ]
  },
  {
   "cell_type": "markdown",
   "metadata": {},
   "source": [
    "As an alternative, we can also use the -d flag to specify that we are referring to the database.  In that case, the order of the arguments will not matter."
   ]
  },
  {
   "cell_type": "markdown",
   "metadata": {},
   "source": [
    "`psql -U postgres -d practice`"
   ]
  },
  {
   "cell_type": "markdown",
   "metadata": {},
   "source": [
    "Now, can execute a specific file on the database with the `-f` flag."
   ]
  },
  {
   "cell_type": "markdown",
   "metadata": {},
   "source": [
    "`psql practice -U postgres -f create_orders.sql`"
   ]
  },
  {
   "cell_type": "markdown",
   "metadata": {},
   "source": [
    "And if we wish to display the contents of the sql file as we perform the execution, we can use the `-a` command."
   ]
  },
  {
   "cell_type": "markdown",
   "metadata": {},
   "source": [
    "`psql -a -d practice -U postgres -f  create_orders.sql`\n",
    "\n",
    "`CREATE TABLE IF NOT EXISTS orders (\n",
    "  id serial PRIMARY KEY,\n",
    "  user_id INT,\n",
    "  FOREIGN KEY (user_id)\n",
    "      REFERENCES users (user_id)\n",
    ")`"
   ]
  },
  {
   "cell_type": "markdown",
   "metadata": {},
   "source": [
    "So the last statement above is a pretty critical statement to understand.  We connect to the practice database as the postgres user and execute the create_orders.sql file, while displaying the output of the file."
   ]
  },
  {
   "cell_type": "markdown",
   "metadata": {},
   "source": [
    "### Issuing Commands"
   ]
  },
  {
   "cell_type": "markdown",
   "metadata": {},
   "source": [
    "Now we can also call a user command without logging into the shell with the `-c` flag.  Here's an example."
   ]
  },
  {
   "cell_type": "markdown",
   "metadata": {},
   "source": [
    "```SQL \n",
    "psql -d practice -U postgres -c \"SELECT * FROM users;\"`\n",
    "\n",
    " user_id\n",
    "---------\n",
    "(0 rows)\n",
    "```"
   ]
  },
  {
   "cell_type": "markdown",
   "metadata": {},
   "source": [
    "And this will work with any SQL commmand.  For example, here we'll list all of the tables in our practice database."
   ]
  },
  {
   "cell_type": "markdown",
   "metadata": {},
   "source": [
    "`psql -a -d practice -U postgres -c \"\\dt\"`"
   ]
  },
  {
   "cell_type": "markdown",
   "metadata": {},
   "source": [
    "```\n",
    "List of relations\n",
    " Schema |  Name  | Type  |  Owner\n",
    "--------+--------+-------+----------\n",
    " public | orders | table | postgres\n",
    " public | users  | table | postgres\n",
    "(2 rows)\n",
    "```"
   ]
  },
  {
   "cell_type": "markdown",
   "metadata": {},
   "source": [
    "### Logging in without password prompt"
   ]
  },
  {
   "cell_type": "markdown",
   "metadata": {},
   "source": [
    "So far, we likely needed to provide a password before any of our above postgres statements would execute.  We can avoid this by specifying the postgres password as we execute the command.  Here, before we state the postgres statement, we first specify the password with `PGPASSWORD=`."
   ]
  },
  {
   "cell_type": "markdown",
   "metadata": {},
   "source": [
    "`PGPASSWORD=postgres psql -U postgres -d practice -c \"\\dt\"`"
   ]
  },
  {
   "cell_type": "markdown",
   "metadata": {},
   "source": [
    "### Viewing Logs "
   ]
  },
  {
   "cell_type": "markdown",
   "metadata": {},
   "source": [
    "To find the log file, we can login to postgres again view the location of our config file with the following:"
   ]
  },
  {
   "cell_type": "markdown",
   "metadata": {},
   "source": [
    "```SQL\n",
    "SHOW config_file;\n",
    "\n",
    "/Users/jeff/Library/Application Support/Postgres/var-11/postgresql.conf\n",
    "```"
   ]
  },
  {
   "cell_type": "markdown",
   "metadata": {},
   "source": [
    "So we navigate to the location of that folder, and once there, we'll see the postgresql.log file.  If we tail follow that file with the command `tails -f postgresql.log` we will have our log file outputted to our terminal."
   ]
  },
  {
   "cell_type": "markdown",
   "metadata": {},
   "source": [
    "<img src=\"./postgres-logs.png\" width=\"100%\">"
   ]
  },
  {
   "cell_type": "markdown",
   "metadata": {},
   "source": [
    "> Currently the log file only shows errors, we can update the configuration by altering the postgresql.conf file as described [here](https://tableplus.com/blog/2018/10/how-to-show-queries-log-in-postgresql.html)."
   ]
  },
  {
   "cell_type": "markdown",
   "metadata": {},
   "source": [
    "### Summary"
   ]
  },
  {
   "cell_type": "markdown",
   "metadata": {},
   "source": [
    "In this lesson, we saw how to issue postgres commands from the terminal.  For example, we saw how to issue a specific command from the terminal while simultaneously providing a password with something like:"
   ]
  },
  {
   "cell_type": "markdown",
   "metadata": {},
   "source": [
    "`PGPASSWORD=postgres psql -U postgres -d practice -c \"\\dt\"`"
   ]
  },
  {
   "cell_type": "markdown",
   "metadata": {},
   "source": [
    "And we saw how issue a command from a file and display the command in the file with:\n",
    "\n",
    "`psql -a -d practice -U postgres -f  create_orders.sql`"
   ]
  },
  {
   "cell_type": "markdown",
   "metadata": {},
   "source": [
    "### Resources \n",
    "\n",
    "[Postgres Files Object Rocket](https://kb.objectrocket.com/postgresql/how-to-run-an-sql-file-in-postgres-846)\n",
    "\n",
    "[PG exercises](https://pgexercises.com/)\n"
   ]
  }
 ],
 "metadata": {
  "kernelspec": {
   "display_name": "Python 3",
   "language": "python",
   "name": "python3"
  },
  "language_info": {
   "codemirror_mode": {
    "name": "ipython",
    "version": 3
   },
   "file_extension": ".py",
   "mimetype": "text/x-python",
   "name": "python",
   "nbconvert_exporter": "python",
   "pygments_lexer": "ipython3",
   "version": "3.8.3"
  }
 },
 "nbformat": 4,
 "nbformat_minor": 4
}
